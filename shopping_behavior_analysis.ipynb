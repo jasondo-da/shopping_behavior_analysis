{
 "cells": [
  {
   "cell_type": "markdown",
   "metadata": {},
   "source": [
    "# Customer Shopping Behavior Analysis <a id='back'></a>\n",
    "\n",
    "## Table of Contents\n",
    "- [Project Introduction](#project-introduction)\n",
    "- [Analysis Outline Questions](#analysis-outline-questions)\n",
    "- [Importing Libraries and Opening Data Files](#importing-libraries-and-opening-data-files)\n",
    "- [Pre-processing Data](#pre-processing-data)\n",
    "- [Data Analysis](#data-analysis)\n",
    "    - [1. Identifying our customers](#1.-identifying-ourcustomers)\n",
    "        - [1.1 Who are our main customer demographic? Where are they from?](#1.1-who-are-our-main-customer-demographic?-where-are-they-from?)\n",
    "        - [1.2 Which items are highly rated by our customers? Size? Color?](#1.2-which-items-are-highly-rated-by-our-customers?-size?-color?)\n",
    "        - [1.3 What is the market sentiment of our products?](#1.3-what-is-the-market-sentiment-of-our-products?)\n",
    "        - [1.4 What are their prefered method of transaction?](#1.4-what-are-their-prefered-method-of-transaction?)\n",
    "    - [2. Business performance](#2.-business-performance)\n",
    "        - [2.1 What is the best selling items?](#2.1-what-is-the-best-selling-items?)\n",
    "        - [2.2 Does subscription status increase sales?](#2.2-does-subscription-status-increase-sales?)\n",
    "        - [2.3 Is our business market share growing?](#2.3-is-our-business-market-share-growing?)\n",
    "    - [3. Identifying trends within the data](#3.-identifying-trends-within-the-data)\n",
    "        - [3.1 Which season does the company perform best?](#3.1-which-season-does-the-company-perform-best?)\n",
    "        - [3.2 What is our customer retention?](#3.2-what-is-our-customer-retention?)\n",
    "        - [3.3 Are there areas within the business for improvement?](#3.3-are-there-areas-within-the-business-for-improvement?)\n",
    "- [Conclusions and Reccomendations](#conclusions-and-reccomendations)\n",
    "- [Dataset Citation](#dataset-citation)\n",
    "\n",
    "<a name='headers'>"
   ]
  },
  {
   "cell_type": "markdown",
   "metadata": {},
   "source": [
    "## Project Introduction\n",
    "\n",
    "The Consumer Behavior and Shopping Habits Dataset contains a variety of intricate insights into customers preferences and behaviors while shopping. This project will "
   ]
  },
  {
   "cell_type": "markdown",
   "metadata": {},
   "source": [
    "## Analysis Outline Questions\n",
    "\n",
    "Before looking at the dataset, there are several interesting questions I wanted to learn more about. Below are the insights I am interesting in exploring more into:\n",
    "\n",
    "    1. Identifying our customers\n",
    "        1.1 Who are our main customer demographic? Where are they from?\n",
    "        1.2 Which items are highly rated by our customers? Size? Color?\n",
    "        1.3 What is the market sentiment of our products?\n",
    "        1.4 What are their prefered method of transaction?\n",
    "    \n",
    "    2. Business performance\n",
    "        2.1 Which items do we sell the most?(By profit and by volume)\n",
    "        2.2 Does subscription status increase sales?\n",
    "        2.3 Is our business market share growing?\n",
    "    \n",
    "    3. Identifying trends within the data\n",
    "        3.1 Which season does the company perform best?\n",
    "        3.2 What is our customer retention?\n",
    "        3.3 Are there areas within the business for improvement?\n",
    "\n",
    "\n"
   ]
  },
  {
   "cell_type": "markdown",
   "metadata": {},
   "source": [
    "## Importing Libraries and Opening Data Files"
   ]
  },
  {
   "cell_type": "code",
   "execution_count": 1,
   "metadata": {},
   "outputs": [],
   "source": [
    "# Importing the needed libraries for this assignment\n",
    "import pandas as pd\n",
    "import numpy as np\n",
    "from matplotlib import pyplot as plt"
   ]
  },
  {
   "cell_type": "code",
   "execution_count": 2,
   "metadata": {},
   "outputs": [],
   "source": [
    "# Importing file for assignment\n",
    "try:\n",
    "    df = pd.read_csv('shopping_behavior_updated.csv',\n",
    "                     sep=',')\n",
    "except:\n",
    "    df = pd.read_csv('/datasets/shopping_behavior_updated.csv',\n",
    "                     sep=',')"
   ]
  },
  {
   "cell_type": "markdown",
   "metadata": {},
   "source": [
    "## Pre-processing Data\n",
    "\n",
    "Checking for snake_case format, duplicates, null values, and data usage"
   ]
  },
  {
   "cell_type": "code",
   "execution_count": 3,
   "metadata": {},
   "outputs": [
    {
     "name": "stdout",
     "output_type": "stream",
     "text": [
      "<class 'pandas.core.frame.DataFrame'>\n",
      "RangeIndex: 3900 entries, 0 to 3899\n",
      "Data columns (total 18 columns):\n",
      " #   Column                  Non-Null Count  Dtype  \n",
      "---  ------                  --------------  -----  \n",
      " 0   Customer ID             3900 non-null   int64  \n",
      " 1   Age                     3900 non-null   int64  \n",
      " 2   Gender                  3900 non-null   object \n",
      " 3   Item Purchased          3900 non-null   object \n",
      " 4   Category                3900 non-null   object \n",
      " 5   Purchase Amount (USD)   3900 non-null   int64  \n",
      " 6   Location                3900 non-null   object \n",
      " 7   Size                    3900 non-null   object \n",
      " 8   Color                   3900 non-null   object \n",
      " 9   Season                  3900 non-null   object \n",
      " 10  Review Rating           3900 non-null   float64\n",
      " 11  Subscription Status     3900 non-null   object \n",
      " 12  Shipping Type           3900 non-null   object \n",
      " 13  Discount Applied        3900 non-null   object \n",
      " 14  Promo Code Used         3900 non-null   object \n",
      " 15  Previous Purchases      3900 non-null   int64  \n",
      " 16  Payment Method          3900 non-null   object \n",
      " 17  Frequency of Purchases  3900 non-null   object \n",
      "dtypes: float64(1), int64(4), object(13)\n",
      "memory usage: 548.6+ KB\n"
     ]
    },
    {
     "data": {
      "text/html": [
       "<div>\n",
       "<style scoped>\n",
       "    .dataframe tbody tr th:only-of-type {\n",
       "        vertical-align: middle;\n",
       "    }\n",
       "\n",
       "    .dataframe tbody tr th {\n",
       "        vertical-align: top;\n",
       "    }\n",
       "\n",
       "    .dataframe thead th {\n",
       "        text-align: right;\n",
       "    }\n",
       "</style>\n",
       "<table border=\"1\" class=\"dataframe\">\n",
       "  <thead>\n",
       "    <tr style=\"text-align: right;\">\n",
       "      <th></th>\n",
       "      <th>Customer ID</th>\n",
       "      <th>Age</th>\n",
       "      <th>Gender</th>\n",
       "      <th>Item Purchased</th>\n",
       "      <th>Category</th>\n",
       "      <th>Purchase Amount (USD)</th>\n",
       "      <th>Location</th>\n",
       "      <th>Size</th>\n",
       "      <th>Color</th>\n",
       "      <th>Season</th>\n",
       "      <th>Review Rating</th>\n",
       "      <th>Subscription Status</th>\n",
       "      <th>Shipping Type</th>\n",
       "      <th>Discount Applied</th>\n",
       "      <th>Promo Code Used</th>\n",
       "      <th>Previous Purchases</th>\n",
       "      <th>Payment Method</th>\n",
       "      <th>Frequency of Purchases</th>\n",
       "    </tr>\n",
       "  </thead>\n",
       "  <tbody>\n",
       "    <tr>\n",
       "      <th>0</th>\n",
       "      <td>1</td>\n",
       "      <td>55</td>\n",
       "      <td>Male</td>\n",
       "      <td>Blouse</td>\n",
       "      <td>Clothing</td>\n",
       "      <td>53</td>\n",
       "      <td>Kentucky</td>\n",
       "      <td>L</td>\n",
       "      <td>Gray</td>\n",
       "      <td>Winter</td>\n",
       "      <td>3.1</td>\n",
       "      <td>Yes</td>\n",
       "      <td>Express</td>\n",
       "      <td>Yes</td>\n",
       "      <td>Yes</td>\n",
       "      <td>14</td>\n",
       "      <td>Venmo</td>\n",
       "      <td>Fortnightly</td>\n",
       "    </tr>\n",
       "    <tr>\n",
       "      <th>1</th>\n",
       "      <td>2</td>\n",
       "      <td>19</td>\n",
       "      <td>Male</td>\n",
       "      <td>Sweater</td>\n",
       "      <td>Clothing</td>\n",
       "      <td>64</td>\n",
       "      <td>Maine</td>\n",
       "      <td>L</td>\n",
       "      <td>Maroon</td>\n",
       "      <td>Winter</td>\n",
       "      <td>3.1</td>\n",
       "      <td>Yes</td>\n",
       "      <td>Express</td>\n",
       "      <td>Yes</td>\n",
       "      <td>Yes</td>\n",
       "      <td>2</td>\n",
       "      <td>Cash</td>\n",
       "      <td>Fortnightly</td>\n",
       "    </tr>\n",
       "    <tr>\n",
       "      <th>2</th>\n",
       "      <td>3</td>\n",
       "      <td>50</td>\n",
       "      <td>Male</td>\n",
       "      <td>Jeans</td>\n",
       "      <td>Clothing</td>\n",
       "      <td>73</td>\n",
       "      <td>Massachusetts</td>\n",
       "      <td>S</td>\n",
       "      <td>Maroon</td>\n",
       "      <td>Spring</td>\n",
       "      <td>3.1</td>\n",
       "      <td>Yes</td>\n",
       "      <td>Free Shipping</td>\n",
       "      <td>Yes</td>\n",
       "      <td>Yes</td>\n",
       "      <td>23</td>\n",
       "      <td>Credit Card</td>\n",
       "      <td>Weekly</td>\n",
       "    </tr>\n",
       "    <tr>\n",
       "      <th>3</th>\n",
       "      <td>4</td>\n",
       "      <td>21</td>\n",
       "      <td>Male</td>\n",
       "      <td>Sandals</td>\n",
       "      <td>Footwear</td>\n",
       "      <td>90</td>\n",
       "      <td>Rhode Island</td>\n",
       "      <td>M</td>\n",
       "      <td>Maroon</td>\n",
       "      <td>Spring</td>\n",
       "      <td>3.5</td>\n",
       "      <td>Yes</td>\n",
       "      <td>Next Day Air</td>\n",
       "      <td>Yes</td>\n",
       "      <td>Yes</td>\n",
       "      <td>49</td>\n",
       "      <td>PayPal</td>\n",
       "      <td>Weekly</td>\n",
       "    </tr>\n",
       "    <tr>\n",
       "      <th>4</th>\n",
       "      <td>5</td>\n",
       "      <td>45</td>\n",
       "      <td>Male</td>\n",
       "      <td>Blouse</td>\n",
       "      <td>Clothing</td>\n",
       "      <td>49</td>\n",
       "      <td>Oregon</td>\n",
       "      <td>M</td>\n",
       "      <td>Turquoise</td>\n",
       "      <td>Spring</td>\n",
       "      <td>2.7</td>\n",
       "      <td>Yes</td>\n",
       "      <td>Free Shipping</td>\n",
       "      <td>Yes</td>\n",
       "      <td>Yes</td>\n",
       "      <td>31</td>\n",
       "      <td>PayPal</td>\n",
       "      <td>Annually</td>\n",
       "    </tr>\n",
       "  </tbody>\n",
       "</table>\n",
       "</div>"
      ],
      "text/plain": [
       "   Customer ID  Age Gender Item Purchased  Category  Purchase Amount (USD)  \\\n",
       "0            1   55   Male         Blouse  Clothing                     53   \n",
       "1            2   19   Male        Sweater  Clothing                     64   \n",
       "2            3   50   Male          Jeans  Clothing                     73   \n",
       "3            4   21   Male        Sandals  Footwear                     90   \n",
       "4            5   45   Male         Blouse  Clothing                     49   \n",
       "\n",
       "        Location Size      Color  Season  Review Rating Subscription Status  \\\n",
       "0       Kentucky    L       Gray  Winter            3.1                 Yes   \n",
       "1          Maine    L     Maroon  Winter            3.1                 Yes   \n",
       "2  Massachusetts    S     Maroon  Spring            3.1                 Yes   \n",
       "3   Rhode Island    M     Maroon  Spring            3.5                 Yes   \n",
       "4         Oregon    M  Turquoise  Spring            2.7                 Yes   \n",
       "\n",
       "   Shipping Type Discount Applied Promo Code Used  Previous Purchases  \\\n",
       "0        Express              Yes             Yes                  14   \n",
       "1        Express              Yes             Yes                   2   \n",
       "2  Free Shipping              Yes             Yes                  23   \n",
       "3   Next Day Air              Yes             Yes                  49   \n",
       "4  Free Shipping              Yes             Yes                  31   \n",
       "\n",
       "  Payment Method Frequency of Purchases  \n",
       "0          Venmo            Fortnightly  \n",
       "1           Cash            Fortnightly  \n",
       "2    Credit Card                 Weekly  \n",
       "3         PayPal                 Weekly  \n",
       "4         PayPal               Annually  "
      ]
     },
     "execution_count": 3,
     "metadata": {},
     "output_type": "execute_result"
    }
   ],
   "source": [
    "df.info()\n",
    "df.head()"
   ]
  },
  {
   "cell_type": "code",
   "execution_count": 4,
   "metadata": {},
   "outputs": [
    {
     "data": {
      "text/plain": [
       "Index(['Customer ID', 'Age', 'Gender', 'Item Purchased', 'Category',\n",
       "       'Purchase Amount (USD)', 'Location', 'Size', 'Color', 'Season',\n",
       "       'Review Rating', 'Subscription Status', 'Shipping Type',\n",
       "       'Discount Applied', 'Promo Code Used', 'Previous Purchases',\n",
       "       'Payment Method', 'Frequency of Purchases'],\n",
       "      dtype='object')"
      ]
     },
     "execution_count": 4,
     "metadata": {},
     "output_type": "execute_result"
    }
   ],
   "source": [
    "#checking for snakecase format\n",
    "df.columns"
   ]
  },
  {
   "cell_type": "code",
   "execution_count": 5,
   "metadata": {},
   "outputs": [
    {
     "data": {
      "text/plain": [
       "Index(['uid', 'age', 'gender', 'garment_type', 'category',\n",
       "       'usd_purchase_total', 'location', 'size', 'color', 'season',\n",
       "       'customer_rating', 'sub_status', 'shipping_type', 'discount_applied',\n",
       "       'promo_code_applied', 'previous_orders', 'payment_method',\n",
       "       'order_freq'],\n",
       "      dtype='object')"
      ]
     },
     "execution_count": 5,
     "metadata": {},
     "output_type": "execute_result"
    }
   ],
   "source": [
    "# Renaming column names to snake_case format\n",
    "df = df.rename(columns={'Customer ID':'uid',\n",
    "                        'Age':'age',\n",
    "                        'Gender':'gender',\n",
    "                        'Item Purchased':'garment_type',\n",
    "                        'Category':'category',\n",
    "                        'Purchase Amount (USD)':'usd_purchase_total',\n",
    "                        'Location':'location',\n",
    "                        'Size':'size',\n",
    "                        'Color':'color',\n",
    "                        'Season':'season',\n",
    "                        'Review Rating':'customer_rating',\n",
    "                        'Subscription Status':'sub_status',\n",
    "                        'Shipping Type':'shipping_type',\n",
    "                        'Discount Applied':'discount_applied',\n",
    "                        'Promo Code Used':'promo_code_applied',\n",
    "                        'Previous Purchases':'previous_orders',\n",
    "                        'Payment Method':'payment_method',\n",
    "                        'Frequency of Purchases':'order_freq'})\n",
    "df.columns"
   ]
  },
  {
   "cell_type": "code",
   "execution_count": 6,
   "metadata": {},
   "outputs": [
    {
     "name": "stdout",
     "output_type": "stream",
     "text": [
      "<class 'pandas.core.frame.DataFrame'>\n",
      "RangeIndex: 3900 entries, 0 to 3899\n",
      "Data columns (total 18 columns):\n",
      " #   Column              Non-Null Count  Dtype  \n",
      "---  ------              --------------  -----  \n",
      " 0   uid                 3900 non-null   int64  \n",
      " 1   age                 3900 non-null   int64  \n",
      " 2   gender              3900 non-null   object \n",
      " 3   garment_type        3900 non-null   object \n",
      " 4   category            3900 non-null   object \n",
      " 5   usd_purchase_total  3900 non-null   int64  \n",
      " 6   location            3900 non-null   object \n",
      " 7   size                3900 non-null   object \n",
      " 8   color               3900 non-null   object \n",
      " 9   season              3900 non-null   object \n",
      " 10  customer_rating     3900 non-null   float64\n",
      " 11  sub_status          3900 non-null   object \n",
      " 12  shipping_type       3900 non-null   object \n",
      " 13  discount_applied    3900 non-null   object \n",
      " 14  promo_code_applied  3900 non-null   object \n",
      " 15  previous_orders     3900 non-null   int64  \n",
      " 16  payment_method      3900 non-null   object \n",
      " 17  order_freq          3900 non-null   object \n",
      "dtypes: float64(1), int64(4), object(13)\n",
      "memory usage: 548.6+ KB\n"
     ]
    }
   ],
   "source": [
    "df.info()"
   ]
  },
  {
   "cell_type": "code",
   "execution_count": 7,
   "metadata": {},
   "outputs": [
    {
     "data": {
      "text/plain": [
       "0"
      ]
     },
     "execution_count": 7,
     "metadata": {},
     "output_type": "execute_result"
    }
   ],
   "source": [
    "# Checking for duplicates\n",
    "df.duplicated().sum()"
   ]
  },
  {
   "cell_type": "code",
   "execution_count": 8,
   "metadata": {},
   "outputs": [
    {
     "data": {
      "text/plain": [
       "0"
      ]
     },
     "execution_count": 8,
     "metadata": {},
     "output_type": "execute_result"
    }
   ],
   "source": [
    "# Checking for duplicate user IDs\n",
    "df['uid'].duplicated().sum()"
   ]
  },
  {
   "cell_type": "code",
   "execution_count": 9,
   "metadata": {},
   "outputs": [
    {
     "data": {
      "text/plain": [
       "uid                   0\n",
       "age                   0\n",
       "gender                0\n",
       "garment_type          0\n",
       "category              0\n",
       "usd_purchase_total    0\n",
       "location              0\n",
       "size                  0\n",
       "color                 0\n",
       "season                0\n",
       "customer_rating       0\n",
       "sub_status            0\n",
       "shipping_type         0\n",
       "discount_applied      0\n",
       "promo_code_applied    0\n",
       "previous_orders       0\n",
       "payment_method        0\n",
       "order_freq            0\n",
       "dtype: int64"
      ]
     },
     "execution_count": 9,
     "metadata": {},
     "output_type": "execute_result"
    }
   ],
   "source": [
    "# Checking for null values\n",
    "df.isna().sum()"
   ]
  },
  {
   "cell_type": "code",
   "execution_count": 10,
   "metadata": {},
   "outputs": [
    {
     "data": {
      "text/plain": [
       "uid                   3900\n",
       "age                     53\n",
       "gender                   2\n",
       "garment_type            25\n",
       "category                 4\n",
       "usd_purchase_total      81\n",
       "location                50\n",
       "size                     4\n",
       "color                   25\n",
       "season                   4\n",
       "customer_rating         26\n",
       "sub_status               2\n",
       "shipping_type            6\n",
       "discount_applied         2\n",
       "promo_code_applied       2\n",
       "previous_orders         50\n",
       "payment_method           6\n",
       "order_freq               7\n",
       "dtype: int64"
      ]
     },
     "execution_count": 10,
     "metadata": {},
     "output_type": "execute_result"
    }
   ],
   "source": [
    "# By using nunique we can find the total number of unique values in each column. Depending\n",
    "#   on the number of unique results we can change the column data types to reduce data usage\n",
    "df.nunique()"
   ]
  },
  {
   "cell_type": "code",
   "execution_count": 11,
   "metadata": {},
   "outputs": [
    {
     "data": {
      "text/plain": [
       "array(['Male', 'Female'], dtype=object)"
      ]
     },
     "execution_count": 11,
     "metadata": {},
     "output_type": "execute_result"
    }
   ],
   "source": [
    "# Checking column for snake_case format and number of unique outputs\n",
    "df['gender'].unique()"
   ]
  },
  {
   "cell_type": "code",
   "execution_count": 12,
   "metadata": {},
   "outputs": [
    {
     "data": {
      "text/plain": [
       "['male', 'female']\n",
       "Categories (2, object): ['female', 'male']"
      ]
     },
     "execution_count": 12,
     "metadata": {},
     "output_type": "execute_result"
    }
   ],
   "source": [
    "# Changing column to snake_case format and changing data type to reduce data usage\n",
    "df['gender'] = df['gender'].str.lower()\n",
    "df['gender'] = df['gender'].astype('category')\n",
    "df['gender'].unique()"
   ]
  },
  {
   "cell_type": "code",
   "execution_count": 13,
   "metadata": {},
   "outputs": [
    {
     "data": {
      "text/plain": [
       "array(['Blouse', 'Sweater', 'Jeans', 'Sandals', 'Sneakers', 'Shirt',\n",
       "       'Shorts', 'Coat', 'Handbag', 'Shoes', 'Dress', 'Skirt',\n",
       "       'Sunglasses', 'Pants', 'Jacket', 'Hoodie', 'Jewelry', 'T-shirt',\n",
       "       'Scarf', 'Hat', 'Socks', 'Backpack', 'Belt', 'Boots', 'Gloves'],\n",
       "      dtype=object)"
      ]
     },
     "execution_count": 13,
     "metadata": {},
     "output_type": "execute_result"
    }
   ],
   "source": [
    "# Checking column for snake_case format and number of unique outputs\n",
    "df['garment_type'].unique()"
   ]
  },
  {
   "cell_type": "code",
   "execution_count": 14,
   "metadata": {},
   "outputs": [
    {
     "data": {
      "text/plain": [
       "array(['blouse', 'sweater', 'jeans', 'sandals', 'sneakers', 'shirt',\n",
       "       'shorts', 'coat', 'handbag', 'shoes', 'dress', 'skirt',\n",
       "       'sunglasses', 'pants', 'jacket', 'hoodie', 'jewelry', 't-shirt',\n",
       "       'scarf', 'hat', 'socks', 'backpack', 'belt', 'boots', 'gloves'],\n",
       "      dtype=object)"
      ]
     },
     "execution_count": 14,
     "metadata": {},
     "output_type": "execute_result"
    }
   ],
   "source": [
    "# Changing column to snake_case format\n",
    "# There are numerous unique values and will leave data type as an object\n",
    "df['garment_type'] = df['garment_type'].str.lower()\n",
    "df['garment_type'].unique()"
   ]
  },
  {
   "cell_type": "code",
   "execution_count": 15,
   "metadata": {},
   "outputs": [
    {
     "data": {
      "text/plain": [
       "array(['Clothing', 'Footwear', 'Outerwear', 'Accessories'], dtype=object)"
      ]
     },
     "execution_count": 15,
     "metadata": {},
     "output_type": "execute_result"
    }
   ],
   "source": [
    "# Checking column for snake_case format and number of unique outputs\n",
    "df['category'].unique()"
   ]
  },
  {
   "cell_type": "code",
   "execution_count": 16,
   "metadata": {},
   "outputs": [
    {
     "data": {
      "text/plain": [
       "['clothing', 'footwear', 'outerwear', 'accessories']\n",
       "Categories (4, object): ['accessories', 'clothing', 'footwear', 'outerwear']"
      ]
     },
     "execution_count": 16,
     "metadata": {},
     "output_type": "execute_result"
    }
   ],
   "source": [
    "# Changing column to snake_case format and changing data type to reduce data usage\n",
    "df['category'] = df['category'].str.lower()\n",
    "df['category'] = df['category'].astype('category')\n",
    "df['category'].unique()"
   ]
  },
  {
   "cell_type": "code",
   "execution_count": 17,
   "metadata": {},
   "outputs": [
    {
     "data": {
      "text/plain": [
       "array(['Kentucky', 'Maine', 'Massachusetts', 'Rhode Island', 'Oregon',\n",
       "       'Wyoming', 'Montana', 'Louisiana', 'West Virginia', 'Missouri',\n",
       "       'Arkansas', 'Hawaii', 'Delaware', 'New Hampshire', 'New York',\n",
       "       'Alabama', 'Mississippi', 'North Carolina', 'California',\n",
       "       'Oklahoma', 'Florida', 'Texas', 'Nevada', 'Kansas', 'Colorado',\n",
       "       'North Dakota', 'Illinois', 'Indiana', 'Arizona', 'Alaska',\n",
       "       'Tennessee', 'Ohio', 'New Jersey', 'Maryland', 'Vermont',\n",
       "       'New Mexico', 'South Carolina', 'Idaho', 'Pennsylvania',\n",
       "       'Connecticut', 'Utah', 'Virginia', 'Georgia', 'Nebraska', 'Iowa',\n",
       "       'South Dakota', 'Minnesota', 'Washington', 'Wisconsin', 'Michigan'],\n",
       "      dtype=object)"
      ]
     },
     "execution_count": 17,
     "metadata": {},
     "output_type": "execute_result"
    }
   ],
   "source": [
    "# Checking column for snake_case format and number of unique outputs\n",
    "df['location'].unique()"
   ]
  },
  {
   "cell_type": "code",
   "execution_count": 18,
   "metadata": {},
   "outputs": [
    {
     "data": {
      "text/plain": [
       "array(['kentucky', 'maine', 'massachusetts', 'rhode_island', 'oregon',\n",
       "       'wyoming', 'montana', 'louisiana', 'west_virginia', 'missouri',\n",
       "       'arkansas', 'hawaii', 'delaware', 'new_hampshire', 'new_york',\n",
       "       'alabama', 'mississippi', 'north_carolina', 'california',\n",
       "       'oklahoma', 'florida', 'texas', 'nevada', 'kansas', 'colorado',\n",
       "       'north_dakota', 'illinois', 'indiana', 'arizona', 'alaska',\n",
       "       'tennessee', 'ohio', 'new_jersey', 'maryland', 'vermont',\n",
       "       'new_mexico', 'south_carolina', 'idaho', 'pennsylvania',\n",
       "       'connecticut', 'utah', 'virginia', 'georgia', 'nebraska', 'iowa',\n",
       "       'south_dakota', 'minnesota', 'washington', 'wisconsin', 'michigan'],\n",
       "      dtype=object)"
      ]
     },
     "execution_count": 18,
     "metadata": {},
     "output_type": "execute_result"
    }
   ],
   "source": [
    "# Changing column to snake_case format\n",
    "# There are numerous unique values and will leave data type as an object\n",
    "df['location'] = df['location'].str.lower()\n",
    "df['location'] = df['location'].apply(lambda x: x.replace(' ', '_'))\n",
    "df['location'].unique()"
   ]
  },
  {
   "cell_type": "code",
   "execution_count": 19,
   "metadata": {},
   "outputs": [
    {
     "data": {
      "text/plain": [
       "array(['L', 'S', 'M', 'XL'], dtype=object)"
      ]
     },
     "execution_count": 19,
     "metadata": {},
     "output_type": "execute_result"
    }
   ],
   "source": [
    "# Checking column for snake_case format and number of unique outputs\n",
    "df['size'].unique()"
   ]
  },
  {
   "cell_type": "code",
   "execution_count": 20,
   "metadata": {},
   "outputs": [
    {
     "data": {
      "text/plain": [
       "['l', 's', 'm', 'xl']\n",
       "Categories (4, object): ['l', 'm', 's', 'xl']"
      ]
     },
     "execution_count": 20,
     "metadata": {},
     "output_type": "execute_result"
    }
   ],
   "source": [
    "# Changing column to snake_case format and changing data type to reduce data usage\n",
    "df['size'] = df['size'].str.lower()\n",
    "df['size'] = df['size'].astype('category')\n",
    "df['size'].unique()"
   ]
  },
  {
   "cell_type": "code",
   "execution_count": 21,
   "metadata": {},
   "outputs": [
    {
     "data": {
      "text/plain": [
       "array(['Gray', 'Maroon', 'Turquoise', 'White', 'Charcoal', 'Silver',\n",
       "       'Pink', 'Purple', 'Olive', 'Gold', 'Violet', 'Teal', 'Lavender',\n",
       "       'Black', 'Green', 'Peach', 'Red', 'Cyan', 'Brown', 'Beige',\n",
       "       'Orange', 'Indigo', 'Yellow', 'Magenta', 'Blue'], dtype=object)"
      ]
     },
     "execution_count": 21,
     "metadata": {},
     "output_type": "execute_result"
    }
   ],
   "source": [
    "# Checking column for snake_case format and number of unique outputs\n",
    "df['color'].unique()"
   ]
  },
  {
   "cell_type": "code",
   "execution_count": 22,
   "metadata": {},
   "outputs": [],
   "source": [
    "#df['color'] = df['color'].replace('gray','neutral').replace('maroon','warm').replace('turquoise','cool').replace('white','neutral').replace('charcoal','neutral').replace('silver','cool').replace('pink','warm').replace('purple','cool').replace('olive','cool').replace('gold','warm').replace('violet','cool').replace('teal','cool').replace('lavender','cool').replace('black','neutral').replace('green','cool').replace('peach','warm').replace('red','warm').replace('cyan','cool').replace('brown','warm').replace('beige','warm').replace('orange','warm').replace('indigo','cool').replace('yellow','warm').replace('magenta','cool').replace('blue','cool')\n",
    "# def categorize_colors(current_color, color_tone):\n",
    "#    df['color'] = df['color'].replace(current_color, color_tone)\n",
    "#df['color'].unique()"
   ]
  },
  {
   "cell_type": "code",
   "execution_count": 23,
   "metadata": {},
   "outputs": [
    {
     "data": {
      "text/plain": [
       "array(['gray', 'maroon', 'turquoise', 'white', 'charcoal', 'silver',\n",
       "       'pink', 'purple', 'olive', 'gold', 'violet', 'teal', 'lavender',\n",
       "       'black', 'green', 'peach', 'red', 'cyan', 'brown', 'beige',\n",
       "       'orange', 'indigo', 'yellow', 'magenta', 'blue'], dtype=object)"
      ]
     },
     "execution_count": 23,
     "metadata": {},
     "output_type": "execute_result"
    }
   ],
   "source": [
    "# Changing column to snake_case format\n",
    "df['color'] = df['color'].str.lower()\n",
    "df['color'].unique()"
   ]
  },
  {
   "cell_type": "code",
   "execution_count": 24,
   "metadata": {},
   "outputs": [
    {
     "data": {
      "text/plain": [
       "array(['Winter', 'Spring', 'Summer', 'Fall'], dtype=object)"
      ]
     },
     "execution_count": 24,
     "metadata": {},
     "output_type": "execute_result"
    }
   ],
   "source": [
    "# Checking column for snake_case format and number of unique outputs\n",
    "df['season'].unique()"
   ]
  },
  {
   "cell_type": "code",
   "execution_count": 25,
   "metadata": {},
   "outputs": [
    {
     "data": {
      "text/plain": [
       "['winter', 'spring', 'summer', 'fall']\n",
       "Categories (4, object): ['fall', 'spring', 'summer', 'winter']"
      ]
     },
     "execution_count": 25,
     "metadata": {},
     "output_type": "execute_result"
    }
   ],
   "source": [
    "# Changing column to snake_case format and changing data type to reduce data usage\n",
    "df['season'] = df['season'].str.lower()\n",
    "df['season'] = df['season'].astype('category')\n",
    "df['season'].unique()"
   ]
  },
  {
   "cell_type": "code",
   "execution_count": 26,
   "metadata": {},
   "outputs": [
    {
     "data": {
      "text/plain": [
       "array(['Yes', 'No'], dtype=object)"
      ]
     },
     "execution_count": 26,
     "metadata": {},
     "output_type": "execute_result"
    }
   ],
   "source": [
    "# Checking column for snake_case format and number of unique outputs\n",
    "df['sub_status'].unique()"
   ]
  },
  {
   "cell_type": "code",
   "execution_count": 27,
   "metadata": {},
   "outputs": [
    {
     "data": {
      "text/plain": [
       "['yes', 'no']\n",
       "Categories (2, object): ['no', 'yes']"
      ]
     },
     "execution_count": 27,
     "metadata": {},
     "output_type": "execute_result"
    }
   ],
   "source": [
    "# Changing column to snake_case format and changing data type to reduce data usage\n",
    "df['sub_status'] = df['sub_status'].str.lower()\n",
    "df['sub_status'] = df['sub_status'].astype('category')\n",
    "df['sub_status'].unique()"
   ]
  },
  {
   "cell_type": "code",
   "execution_count": 28,
   "metadata": {},
   "outputs": [
    {
     "data": {
      "text/plain": [
       "array(['Express', 'Free Shipping', 'Next Day Air', 'Standard',\n",
       "       '2-Day Shipping', 'Store Pickup'], dtype=object)"
      ]
     },
     "execution_count": 28,
     "metadata": {},
     "output_type": "execute_result"
    }
   ],
   "source": [
    "# Checking column for snake_case format and number of unique outputs\n",
    "df['shipping_type'].unique()"
   ]
  },
  {
   "cell_type": "code",
   "execution_count": 29,
   "metadata": {},
   "outputs": [
    {
     "data": {
      "text/plain": [
       "array(['paid_shipping', 'free_shipping'], dtype=object)"
      ]
     },
     "execution_count": 29,
     "metadata": {},
     "output_type": "execute_result"
    }
   ],
   "source": [
    "# Changing column to snake_case format and changing data type to reduce data usage\n",
    "# Changing the results to free shipping or paid shipping, customers who pay for faster shipping\n",
    "#   usually means they love the product so much that they want it sooner signaling a positive\n",
    "#   market sentiment with the customers\n",
    "df['shipping_type'] = df['shipping_type'].str.lower()\n",
    "df['shipping_type'] = df['shipping_type'].astype('category')\n",
    "df['shipping_type'] = df['shipping_type'].replace('express', 'paid_shipping').replace('next day air', 'paid_shipping').replace('standard', 'paid_shipping').replace('2-day shipping', 'paid_shipping').replace('store pickup', 'free_shipping')\n",
    "df['shipping_type'] = df['shipping_type'].apply(lambda x: x.replace(' ', '_'))\n",
    "df['shipping_type'].unique()"
   ]
  },
  {
   "cell_type": "code",
   "execution_count": 30,
   "metadata": {},
   "outputs": [
    {
     "data": {
      "text/plain": [
       "array(['Yes', 'No'], dtype=object)"
      ]
     },
     "execution_count": 30,
     "metadata": {},
     "output_type": "execute_result"
    }
   ],
   "source": [
    "# Checking column for snake_case format and number of unique outputs\n",
    "df['discount_applied'].unique()"
   ]
  },
  {
   "cell_type": "code",
   "execution_count": 31,
   "metadata": {},
   "outputs": [
    {
     "data": {
      "text/plain": [
       "['yes', 'no']\n",
       "Categories (2, object): ['no', 'yes']"
      ]
     },
     "execution_count": 31,
     "metadata": {},
     "output_type": "execute_result"
    }
   ],
   "source": [
    "# Changing column to snake_case format and changing data type to reduce data usage\n",
    "df['discount_applied'] = df['discount_applied'].str.lower()\n",
    "df['discount_applied'] = df['discount_applied'].astype('category')\n",
    "df['discount_applied'].unique()"
   ]
  },
  {
   "cell_type": "code",
   "execution_count": 32,
   "metadata": {},
   "outputs": [
    {
     "data": {
      "text/plain": [
       "array(['Yes', 'No'], dtype=object)"
      ]
     },
     "execution_count": 32,
     "metadata": {},
     "output_type": "execute_result"
    }
   ],
   "source": [
    "# Checking column for snake_case format and number of unique outputs\n",
    "df['promo_code_applied'].unique()"
   ]
  },
  {
   "cell_type": "code",
   "execution_count": 33,
   "metadata": {},
   "outputs": [
    {
     "data": {
      "text/plain": [
       "discount_applied\n",
       "no     2223\n",
       "yes    1677\n",
       "Name: count, dtype: int64"
      ]
     },
     "execution_count": 33,
     "metadata": {},
     "output_type": "execute_result"
    }
   ],
   "source": [
    "# Seeing how promo codes and discounts are very similar to each other\n",
    "# This gives enough reason to check the values to see if they are the same\n",
    "# If they are we can remove one column to save data usage\n",
    "df['discount_applied'].value_counts()"
   ]
  },
  {
   "cell_type": "code",
   "execution_count": 34,
   "metadata": {},
   "outputs": [
    {
     "data": {
      "text/plain": [
       "promo_code_applied\n",
       "No     2223\n",
       "Yes    1677\n",
       "Name: count, dtype: int64"
      ]
     },
     "execution_count": 34,
     "metadata": {},
     "output_type": "execute_result"
    }
   ],
   "source": [
    "# Seeing how they have the same results this leads me to believe they are the same column\n",
    "df['promo_code_applied'].value_counts()"
   ]
  },
  {
   "cell_type": "code",
   "execution_count": 35,
   "metadata": {},
   "outputs": [
    {
     "data": {
      "text/plain": [
       "1951     no\n",
       "1550    yes\n",
       "31      yes\n",
       "3171     no\n",
       "1044    yes\n",
       "381     yes\n",
       "776     yes\n",
       "2791     no\n",
       "410     yes\n",
       "2331     no\n",
       "842     yes\n",
       "1586    yes\n",
       "1945     no\n",
       "2768     no\n",
       "1923     no\n",
       "Name: discount_applied, dtype: category\n",
       "Categories (2, object): ['no', 'yes']"
      ]
     },
     "execution_count": 35,
     "metadata": {},
     "output_type": "execute_result"
    }
   ],
   "source": [
    "# By using random_state sample we can compare the results from both columns \n",
    "df['discount_applied'].sample(15, random_state=0)"
   ]
  },
  {
   "cell_type": "code",
   "execution_count": 36,
   "metadata": {},
   "outputs": [
    {
     "data": {
      "text/plain": [
       "1951     No\n",
       "1550    Yes\n",
       "31      Yes\n",
       "3171     No\n",
       "1044    Yes\n",
       "381     Yes\n",
       "776     Yes\n",
       "2791     No\n",
       "410     Yes\n",
       "2331     No\n",
       "842     Yes\n",
       "1586    Yes\n",
       "1945     No\n",
       "2768     No\n",
       "1923     No\n",
       "Name: promo_code_applied, dtype: object"
      ]
     },
     "execution_count": 36,
     "metadata": {},
     "output_type": "execute_result"
    }
   ],
   "source": [
    "# This proves that both columns have the same data \n",
    "df['promo_code_applied'].sample(15, random_state=0)"
   ]
  },
  {
   "cell_type": "code",
   "execution_count": 37,
   "metadata": {},
   "outputs": [],
   "source": [
    "# We can remove this column to save data usage\n",
    "df = df.drop('promo_code_applied', axis=1)"
   ]
  },
  {
   "cell_type": "code",
   "execution_count": 38,
   "metadata": {},
   "outputs": [
    {
     "data": {
      "text/plain": [
       "array(['Venmo', 'Cash', 'Credit Card', 'PayPal', 'Bank Transfer',\n",
       "       'Debit Card'], dtype=object)"
      ]
     },
     "execution_count": 38,
     "metadata": {},
     "output_type": "execute_result"
    }
   ],
   "source": [
    "# Checking column for snake_case format and number of unique outputs\n",
    "df['payment_method'].unique()"
   ]
  },
  {
   "cell_type": "code",
   "execution_count": 39,
   "metadata": {},
   "outputs": [
    {
     "data": {
      "text/plain": [
       "['venmo', 'cash', 'credit_card', 'paypal', 'bank_transfer', 'debit_card']\n",
       "Categories (6, object): ['bank_transfer', 'cash', 'credit_card', 'debit_card', 'paypal', 'venmo']"
      ]
     },
     "execution_count": 39,
     "metadata": {},
     "output_type": "execute_result"
    }
   ],
   "source": [
    "# Changing column to snake_case format and changing data type to reduce data usage\n",
    "df['payment_method'] = df['payment_method'].str.lower()\n",
    "df['payment_method'] = df['payment_method'].astype('category')\n",
    "df['payment_method'] = df['payment_method'].apply(lambda x: x.replace(' ', '_'))\n",
    "df['location'].unique()\n",
    "df['payment_method'].unique()"
   ]
  },
  {
   "cell_type": "code",
   "execution_count": 40,
   "metadata": {},
   "outputs": [
    {
     "data": {
      "text/plain": [
       "array(['Fortnightly', 'Weekly', 'Annually', 'Quarterly', 'Bi-Weekly',\n",
       "       'Monthly', 'Every 3 Months'], dtype=object)"
      ]
     },
     "execution_count": 40,
     "metadata": {},
     "output_type": "execute_result"
    }
   ],
   "source": [
    "# Checking column for snake_case format and number of unique outputs\n",
    "df['order_freq'].unique()"
   ]
  },
  {
   "cell_type": "code",
   "execution_count": 41,
   "metadata": {},
   "outputs": [
    {
     "data": {
      "text/plain": [
       "['monthly', 'annually', 'quarterly']\n",
       "Categories (3, object): ['annually', 'monthly', 'quarterly']"
      ]
     },
     "execution_count": 41,
     "metadata": {},
     "output_type": "execute_result"
    }
   ],
   "source": [
    "# Changing column to snake_case format and changing data type to reduce data usage\n",
    "# Since this dataset does not include datetime information, it would be better to reduce the number\n",
    "#   of time results to save space and keep the data simplier\n",
    "df['order_freq'] = df['order_freq'].str.lower()\n",
    "df['order_freq'] = df['order_freq'].astype('category')\n",
    "df['order_freq'] = df['order_freq'].replace('fortnightly','monthly').replace('weekly','monthly').replace('bi-weekly', 'monthly').replace('every 3 months','quarterly')\n",
    "df['order_freq'].unique()"
   ]
  },
  {
   "cell_type": "code",
   "execution_count": 42,
   "metadata": {},
   "outputs": [
    {
     "name": "stdout",
     "output_type": "stream",
     "text": [
      "<class 'pandas.core.frame.DataFrame'>\n",
      "RangeIndex: 3900 entries, 0 to 3899\n",
      "Data columns (total 17 columns):\n",
      " #   Column              Non-Null Count  Dtype   \n",
      "---  ------              --------------  -----   \n",
      " 0   uid                 3900 non-null   int64   \n",
      " 1   age                 3900 non-null   int64   \n",
      " 2   gender              3900 non-null   category\n",
      " 3   garment_type        3900 non-null   object  \n",
      " 4   category            3900 non-null   category\n",
      " 5   usd_purchase_total  3900 non-null   int64   \n",
      " 6   location            3900 non-null   object  \n",
      " 7   size                3900 non-null   category\n",
      " 8   color               3900 non-null   object  \n",
      " 9   season              3900 non-null   category\n",
      " 10  customer_rating     3900 non-null   float64 \n",
      " 11  sub_status          3900 non-null   category\n",
      " 12  shipping_type       3900 non-null   object  \n",
      " 13  discount_applied    3900 non-null   category\n",
      " 14  previous_orders     3900 non-null   int64   \n",
      " 15  payment_method      3900 non-null   category\n",
      " 16  order_freq          3900 non-null   category\n",
      "dtypes: category(8), float64(1), int64(4), object(4)\n",
      "memory usage: 306.1+ KB\n"
     ]
    },
    {
     "data": {
      "text/html": [
       "<div>\n",
       "<style scoped>\n",
       "    .dataframe tbody tr th:only-of-type {\n",
       "        vertical-align: middle;\n",
       "    }\n",
       "\n",
       "    .dataframe tbody tr th {\n",
       "        vertical-align: top;\n",
       "    }\n",
       "\n",
       "    .dataframe thead th {\n",
       "        text-align: right;\n",
       "    }\n",
       "</style>\n",
       "<table border=\"1\" class=\"dataframe\">\n",
       "  <thead>\n",
       "    <tr style=\"text-align: right;\">\n",
       "      <th></th>\n",
       "      <th>uid</th>\n",
       "      <th>age</th>\n",
       "      <th>gender</th>\n",
       "      <th>garment_type</th>\n",
       "      <th>category</th>\n",
       "      <th>usd_purchase_total</th>\n",
       "      <th>location</th>\n",
       "      <th>size</th>\n",
       "      <th>color</th>\n",
       "      <th>season</th>\n",
       "      <th>customer_rating</th>\n",
       "      <th>sub_status</th>\n",
       "      <th>shipping_type</th>\n",
       "      <th>discount_applied</th>\n",
       "      <th>previous_orders</th>\n",
       "      <th>payment_method</th>\n",
       "      <th>order_freq</th>\n",
       "    </tr>\n",
       "  </thead>\n",
       "  <tbody>\n",
       "    <tr>\n",
       "      <th>0</th>\n",
       "      <td>1</td>\n",
       "      <td>55</td>\n",
       "      <td>male</td>\n",
       "      <td>blouse</td>\n",
       "      <td>clothing</td>\n",
       "      <td>53</td>\n",
       "      <td>kentucky</td>\n",
       "      <td>l</td>\n",
       "      <td>gray</td>\n",
       "      <td>winter</td>\n",
       "      <td>3.1</td>\n",
       "      <td>yes</td>\n",
       "      <td>paid_shipping</td>\n",
       "      <td>yes</td>\n",
       "      <td>14</td>\n",
       "      <td>venmo</td>\n",
       "      <td>monthly</td>\n",
       "    </tr>\n",
       "    <tr>\n",
       "      <th>1</th>\n",
       "      <td>2</td>\n",
       "      <td>19</td>\n",
       "      <td>male</td>\n",
       "      <td>sweater</td>\n",
       "      <td>clothing</td>\n",
       "      <td>64</td>\n",
       "      <td>maine</td>\n",
       "      <td>l</td>\n",
       "      <td>maroon</td>\n",
       "      <td>winter</td>\n",
       "      <td>3.1</td>\n",
       "      <td>yes</td>\n",
       "      <td>paid_shipping</td>\n",
       "      <td>yes</td>\n",
       "      <td>2</td>\n",
       "      <td>cash</td>\n",
       "      <td>monthly</td>\n",
       "    </tr>\n",
       "    <tr>\n",
       "      <th>2</th>\n",
       "      <td>3</td>\n",
       "      <td>50</td>\n",
       "      <td>male</td>\n",
       "      <td>jeans</td>\n",
       "      <td>clothing</td>\n",
       "      <td>73</td>\n",
       "      <td>massachusetts</td>\n",
       "      <td>s</td>\n",
       "      <td>maroon</td>\n",
       "      <td>spring</td>\n",
       "      <td>3.1</td>\n",
       "      <td>yes</td>\n",
       "      <td>free_shipping</td>\n",
       "      <td>yes</td>\n",
       "      <td>23</td>\n",
       "      <td>credit_card</td>\n",
       "      <td>monthly</td>\n",
       "    </tr>\n",
       "    <tr>\n",
       "      <th>3</th>\n",
       "      <td>4</td>\n",
       "      <td>21</td>\n",
       "      <td>male</td>\n",
       "      <td>sandals</td>\n",
       "      <td>footwear</td>\n",
       "      <td>90</td>\n",
       "      <td>rhode_island</td>\n",
       "      <td>m</td>\n",
       "      <td>maroon</td>\n",
       "      <td>spring</td>\n",
       "      <td>3.5</td>\n",
       "      <td>yes</td>\n",
       "      <td>paid_shipping</td>\n",
       "      <td>yes</td>\n",
       "      <td>49</td>\n",
       "      <td>paypal</td>\n",
       "      <td>monthly</td>\n",
       "    </tr>\n",
       "    <tr>\n",
       "      <th>4</th>\n",
       "      <td>5</td>\n",
       "      <td>45</td>\n",
       "      <td>male</td>\n",
       "      <td>blouse</td>\n",
       "      <td>clothing</td>\n",
       "      <td>49</td>\n",
       "      <td>oregon</td>\n",
       "      <td>m</td>\n",
       "      <td>turquoise</td>\n",
       "      <td>spring</td>\n",
       "      <td>2.7</td>\n",
       "      <td>yes</td>\n",
       "      <td>free_shipping</td>\n",
       "      <td>yes</td>\n",
       "      <td>31</td>\n",
       "      <td>paypal</td>\n",
       "      <td>annually</td>\n",
       "    </tr>\n",
       "  </tbody>\n",
       "</table>\n",
       "</div>"
      ],
      "text/plain": [
       "   uid  age gender garment_type  category  usd_purchase_total       location  \\\n",
       "0    1   55   male       blouse  clothing                  53       kentucky   \n",
       "1    2   19   male      sweater  clothing                  64          maine   \n",
       "2    3   50   male        jeans  clothing                  73  massachusetts   \n",
       "3    4   21   male      sandals  footwear                  90   rhode_island   \n",
       "4    5   45   male       blouse  clothing                  49         oregon   \n",
       "\n",
       "  size      color  season  customer_rating sub_status  shipping_type  \\\n",
       "0    l       gray  winter              3.1        yes  paid_shipping   \n",
       "1    l     maroon  winter              3.1        yes  paid_shipping   \n",
       "2    s     maroon  spring              3.1        yes  free_shipping   \n",
       "3    m     maroon  spring              3.5        yes  paid_shipping   \n",
       "4    m  turquoise  spring              2.7        yes  free_shipping   \n",
       "\n",
       "  discount_applied  previous_orders payment_method order_freq  \n",
       "0              yes               14          venmo    monthly  \n",
       "1              yes                2           cash    monthly  \n",
       "2              yes               23    credit_card    monthly  \n",
       "3              yes               49         paypal    monthly  \n",
       "4              yes               31         paypal   annually  "
      ]
     },
     "execution_count": 42,
     "metadata": {},
     "output_type": "execute_result"
    }
   ],
   "source": [
    "# By converting data types and reducing result redundancy we cut data usage in half\n",
    "df.info()\n",
    "df.head()"
   ]
  },
  {
   "cell_type": "markdown",
   "metadata": {},
   "source": [
    "[Back to Table of Contents](#back)"
   ]
  },
  {
   "cell_type": "markdown",
   "metadata": {},
   "source": [
    "## Data Analysis"
   ]
  },
  {
   "cell_type": "markdown",
   "metadata": {},
   "source": [
    "### 1. Identifying our customers"
   ]
  },
  {
   "cell_type": "markdown",
   "metadata": {},
   "source": [
    "#### 1.1 Who are our main customer demographic? Where are they from?"
   ]
  },
  {
   "cell_type": "code",
   "execution_count": 43,
   "metadata": {},
   "outputs": [
    {
     "data": {
      "text/plain": [
       "gender\n",
       "male      2652\n",
       "female    1248\n",
       "Name: count, dtype: int64"
      ]
     },
     "execution_count": 43,
     "metadata": {},
     "output_type": "execute_result"
    }
   ],
   "source": [
    "# Since this is a fashion apparel, the first key demographic characteristic is gender. We\n",
    "# need to find out if we cater to men, women, or both since products and marketing\n",
    "# can vary depending on who is our main demographic.\n",
    "df['gender'].value_counts()"
   ]
  },
  {
   "cell_type": "code",
   "execution_count": 44,
   "metadata": {},
   "outputs": [
    {
     "data": {
      "image/png": "[encoded data removed]",
      "text/plain": [
       "<Figure size 640x480 with 1 Axes>"
      ]
     },
     "metadata": {},
     "output_type": "display_data"
    }
   ],
   "source": [
    "df['gender'].value_counts().plot(kind='pie',\n",
    "                                 autopct='%1.1f%%',\n",
    "                                 title='Customer Gender Demographic',\n",
    "                                 colors=['lightblue', 'pink'])\n",
    "plt.legend(title='Gender',\n",
    "           loc=[-0.05,0])\n",
    "plt.show()"
   ]
  },
  {
   "cell_type": "markdown",
   "metadata": {},
   "source": [
    "Based on the dataset our main demographic are men but we also cater to women as well. It would be interesting to see the age demographic of these two customer bases."
   ]
  },
  {
   "cell_type": "code",
   "execution_count": 45,
   "metadata": {},
   "outputs": [
    {
     "data": {
      "image/png": "[encoded data removed]",
      "text/plain": [
       "<Figure size 640x480 with 1 Axes>"
      ]
     },
     "metadata": {},
     "output_type": "display_data"
    },
    {
     "name": "stdout",
     "output_type": "stream",
     "text": [
      "Men's Mean Age: 50.0\n",
      "Men's Median Age: 50.0\n"
     ]
    }
   ],
   "source": [
    "# Seeing how we cater to both genders, we need to find out the age distribution of each customer demographic.\n",
    "df[df['gender'] == 'male'].groupby('age').agg({'age':'count'}).hist(alpha=0.75,\n",
    "                                                                    bins='auto',\n",
    "                                                                    color='blue')\n",
    "plt.title('Mens Age Demographic')\n",
    "plt.show()\n",
    "print('Men\\'s Mean Age:', df[df['gender'] == 'male']['age'].value_counts().mean().round(1))\n",
    "print('Men\\'s Median Age:', df[df['gender'] == 'male']['age'].value_counts().median())"
   ]
  },
  {
   "cell_type": "markdown",
   "metadata": {},
   "source": [
    "Based on the results from the histogram, mean, and median, our main demographic are men in their late 40s to their mid 50s, with the average age being about 50 years old."
   ]
  },
  {
   "cell_type": "code",
   "execution_count": 46,
   "metadata": {},
   "outputs": [
    {
     "data": {
      "image/png": "[encoded data removed]",
      "text/plain": [
       "<Figure size 640x480 with 1 Axes>"
      ]
     },
     "metadata": {},
     "output_type": "display_data"
    },
    {
     "name": "stdout",
     "output_type": "stream",
     "text": [
      "Women's Mean Age: 23.5\n",
      "Women's Median Age: 23.0\n"
     ]
    }
   ],
   "source": [
    "# Now we perform the same analysis filtering for the female customers\n",
    "df[df['gender'] == 'female'].groupby('age').agg({'age':'count'}).hist(alpha=0.75,\n",
    "                                                                       bins='auto',\n",
    "                                                                       color='red')\n",
    "plt.title('Womens Age Demographic')\n",
    "plt.show()\n",
    "print('Women\\'s Mean Age:', df[df['gender'] == 'female']['age'].value_counts().mean().round(1))\n",
    "print('Women\\'s Median Age:', df[df['gender'] == 'female']['age'].value_counts().median())"
   ]
  },
  {
   "cell_type": "markdown",
   "metadata": {},
   "source": [
    "Unlike the older male demographic, our female customers’ ages range from early to mid-20s with the mean and median being about 23. This is an interesting discovery since it is uncommon for two widely different demographics to be interested in the aesthetic of fashion."
   ]
  },
  {
   "cell_type": "code",
   "execution_count": 47,
   "metadata": {},
   "outputs": [
    {
     "data": {
      "text/plain": [
       "location\n",
       "montana       96\n",
       "california    95\n",
       "idaho         93\n",
       "illinois      92\n",
       "alabama       89\n",
       "Name: uid, dtype: int64"
      ]
     },
     "execution_count": 47,
     "metadata": {},
     "output_type": "execute_result"
    }
   ],
   "source": [
    "# To find where our target demographic order from, we first group the data by location. Then we count all the unique\n",
    "# customer IDs from each unique location, sort from largest to smallest, and get the top 10 states with the largest\n",
    "# concentration of our customer demographic.\n",
    "df.groupby('location')['uid'].count().sort_values(ascending=False).head(5)"
   ]
  },
  {
   "cell_type": "markdown",
   "metadata": {},
   "source": [
    "This grouping tells us that Montana, California, Idaho, Illinois, and Alabama are generally where the largest clusters of our customer demographic are from. "
   ]
  },
  {
   "cell_type": "code",
   "execution_count": 48,
   "metadata": {},
   "outputs": [
    {
     "data": {
      "text/plain": [
       "location\n",
       "california    66\n",
       "missouri      63\n",
       "alabama       62\n",
       "vermont       62\n",
       "new_york      62\n",
       "Name: uid, dtype: int64"
      ]
     },
     "execution_count": 48,
     "metadata": {},
     "output_type": "execute_result"
    }
   ],
   "source": [
    "# It is also important to find which states has the largest demographic of male and female populations are\n",
    "# from so we have the option to perform more targeted marketing since our male and female customers\n",
    "# are widely different in age and cultural preferences.\n",
    "df[df['gender'] == 'male'].groupby('location')['uid'].count().sort_values(ascending=False).head(5)"
   ]
  },
  {
   "cell_type": "markdown",
   "metadata": {},
   "source": [
    "Grouping only the male customers shows that the top five states for male customers have changed to California, Missouri, Alabama, Vermont, and New York. Only California and Alabama were on the top five list before and now they have risen in ranking. This also tells us that our male and female demographic preferences differ widely from state to state indicating that a targeted marketing effort could perform better than just a general marketing effort."
   ]
  },
  {
   "cell_type": "code",
   "execution_count": 49,
   "metadata": {},
   "outputs": [
    {
     "data": {
      "text/plain": [
       "location\n",
       "montana    38\n",
       "idaho      34\n",
       "texas      33\n",
       "georgia    30\n",
       "kansas     30\n",
       "Name: uid, dtype: int64"
      ]
     },
     "execution_count": 49,
     "metadata": {},
     "output_type": "execute_result"
    }
   ],
   "source": [
    "df[df['gender'] == 'female'].groupby('location')['uid'].count().sort_values(ascending=False).head(5)"
   ]
  },
  {
   "cell_type": "markdown",
   "metadata": {},
   "source": [
    "The top five states where our main female customer demographic reside in include Montana, Idaho, Texas, Georgia, and Kansas. This includes Montana and Idaho from the general top 5 with three other states. It would be interesting to see who the last five states are regarding our customers."
   ]
  },
  {
   "cell_type": "code",
   "execution_count": 50,
   "metadata": {},
   "outputs": [
    {
     "data": {
      "text/plain": [
       "location\n",
       "utah            44\n",
       "new_jersey      43\n",
       "arizona         40\n",
       "rhode_island    40\n",
       "kansas          33\n",
       "Name: uid, dtype: int64"
      ]
     },
     "execution_count": 50,
     "metadata": {},
     "output_type": "execute_result"
    }
   ],
   "source": [
    "df[df['gender'] == 'male'].groupby('location')['uid'].count().sort_values(ascending=False).tail(5)"
   ]
  },
  {
   "cell_type": "markdown",
   "metadata": {},
   "source": [
    "According to this data, it says that the five lowest-performing states for our male customers are Utah, New Jersey, Arizona, Rhode Island, and Kansas. This is interesting to see that Kansas was a top five performing state with our female customers and is also the last and worst performing state for our male customers. This is a prime example of the different preferences of our older male customers and younger female customers. However, this could also be an opportunity to perform a targeted marketing campaign for men in this state to see if the success with our female demographic can be recreated with our male customers. "
   ]
  },
  {
   "cell_type": "code",
   "execution_count": 51,
   "metadata": {},
   "outputs": [
    {
     "data": {
      "text/plain": [
       "location\n",
       "missouri         18\n",
       "indiana          17\n",
       "iowa             17\n",
       "massachusetts    16\n",
       "hawaii           14\n",
       "Name: uid, dtype: int64"
      ]
     },
     "execution_count": 51,
     "metadata": {},
     "output_type": "execute_result"
    }
   ],
   "source": [
    "df[df['gender'] == 'female'].groupby('location')['uid'].count().sort_values(ascending=False).tail(5)"
   ]
  },
  {
   "cell_type": "markdown",
   "metadata": {},
   "source": [
    "The last five performing states for our female demographic are Missouri, Indiana, Iowa, Massachusetts, and Hawaii. Again, we can see the contrast in customer preferences seeing as Missouri is a top-five performing state for our male audience and is also in the bottom five for our female audience.  "
   ]
  },
  {
   "cell_type": "code",
   "execution_count": 52,
   "metadata": {},
   "outputs": [
    {
     "data": {
      "text/plain": [
       "location\n",
       "montana       5784\n",
       "illinois      5617\n",
       "california    5605\n",
       "idaho         5587\n",
       "nevada        5514\n",
       "Name: usd_purchase_total, dtype: int64"
      ]
     },
     "execution_count": 52,
     "metadata": {},
     "output_type": "execute_result"
    }
   ],
   "source": [
    "df.groupby('location')['usd_purchase_total'].sum().sort_values(ascending=False).head(5)"
   ]
  },
  {
   "cell_type": "code",
   "execution_count": 53,
   "metadata": {},
   "outputs": [
    {
     "data": {
      "text/plain": [
       "location\n",
       "rhode_island    3871\n",
       "new_jersey      3802\n",
       "florida         3798\n",
       "hawaii          3752\n",
       "kansas          3437\n",
       "Name: usd_purchase_total, dtype: int64"
      ]
     },
     "execution_count": 53,
     "metadata": {},
     "output_type": "execute_result"
    }
   ],
   "source": [
    "df.groupby('location')['usd_purchase_total'].sum().sort_values(ascending=False).tail(5)"
   ]
  },
  {
   "cell_type": "code",
   "execution_count": 54,
   "metadata": {},
   "outputs": [
    {
     "data": {
      "text/plain": [
       "season\n",
       "fall      60018\n",
       "spring    58679\n",
       "winter    58607\n",
       "summer    55777\n",
       "Name: usd_purchase_total, dtype: int64"
      ]
     },
     "execution_count": 54,
     "metadata": {},
     "output_type": "execute_result"
    }
   ],
   "source": [
    "df.groupby('season')['usd_purchase_total'].sum().sort_values(ascending=False)"
   ]
  },
  {
   "cell_type": "code",
   "execution_count": null,
   "metadata": {},
   "outputs": [],
   "source": []
  },
  {
   "cell_type": "markdown",
   "metadata": {},
   "source": []
  },
  {
   "cell_type": "markdown",
   "metadata": {},
   "source": []
  },
  {
   "cell_type": "code",
   "execution_count": 55,
   "metadata": {},
   "outputs": [
    {
     "data": {
      "text/plain": [
       "garment_type\n",
       "blouse        171\n",
       "jewelry       171\n",
       "pants         171\n",
       "shirt         169\n",
       "dress         166\n",
       "sweater       164\n",
       "jacket        163\n",
       "belt          161\n",
       "sunglasses    161\n",
       "coat          161\n",
       "sandals       160\n",
       "socks         159\n",
       "skirt         158\n",
       "shorts        157\n",
       "scarf         157\n",
       "hat           154\n",
       "handbag       153\n",
       "hoodie        151\n",
       "shoes         150\n",
       "t-shirt       147\n",
       "sneakers      145\n",
       "boots         144\n",
       "backpack      143\n",
       "gloves        140\n",
       "jeans         124\n",
       "Name: count, dtype: int64"
      ]
     },
     "execution_count": 55,
     "metadata": {},
     "output_type": "execute_result"
    }
   ],
   "source": [
    "df['garment_type'].value_counts()"
   ]
  },
  {
   "cell_type": "code",
   "execution_count": 56,
   "metadata": {},
   "outputs": [
    {
     "data": {
      "text/plain": [
       "garment_type\n",
       "pants         123\n",
       "jewelry       119\n",
       "coat          114\n",
       "dress         114\n",
       "sweater       114\n",
       "scarf         112\n",
       "shirt         110\n",
       "shorts        109\n",
       "jacket        109\n",
       "skirt         109\n",
       "belt          106\n",
       "backpack      106\n",
       "blouse        105\n",
       "sunglasses    105\n",
       "sneakers      103\n",
       "gloves        103\n",
       "shoes         102\n",
       "hat           102\n",
       "t-shirt       101\n",
       "socks         101\n",
       "sandals       101\n",
       "hoodie        100\n",
       "handbag        95\n",
       "jeans          95\n",
       "boots          94\n",
       "Name: count, dtype: int64"
      ]
     },
     "execution_count": 56,
     "metadata": {},
     "output_type": "execute_result"
    }
   ],
   "source": [
    "df[df['gender'] == 'male']['garment_type'].value_counts()"
   ]
  },
  {
   "cell_type": "code",
   "execution_count": 57,
   "metadata": {},
   "outputs": [
    {
     "data": {
      "text/plain": [
       "garment_type\n",
       "gloves        3.892233\n",
       "belt          3.844340\n",
       "sandals       3.843564\n",
       "hat           3.837255\n",
       "boots         3.827660\n",
       "t-shirt       3.825743\n",
       "jewelry       3.803361\n",
       "backpack      3.789623\n",
       "sweater       3.771930\n",
       "jacket        3.770642\n",
       "skirt         3.766972\n",
       "pants         3.759350\n",
       "dress         3.756140\n",
       "socks         3.749505\n",
       "coat          3.738596\n",
       "sneakers      3.725243\n",
       "shirt         3.709091\n",
       "shoes         3.708824\n",
       "scarf         3.704464\n",
       "blouse        3.698095\n",
       "shorts        3.687156\n",
       "sunglasses    3.682857\n",
       "jeans         3.664211\n",
       "hoodie        3.648000\n",
       "handbag       3.633684\n",
       "Name: customer_rating, dtype: float64"
      ]
     },
     "execution_count": 57,
     "metadata": {},
     "output_type": "execute_result"
    }
   ],
   "source": [
    "df[df['gender'] == 'male'].groupby(['garment_type'])['customer_rating'].mean().sort_values(ascending=False)"
   ]
  },
  {
   "cell_type": "code",
   "execution_count": 58,
   "metadata": {},
   "outputs": [
    {
     "data": {
      "text/plain": [
       "garment_type\n",
       "blouse        66\n",
       "sandals       59\n",
       "shirt         59\n",
       "socks         58\n",
       "handbag       58\n",
       "sunglasses    56\n",
       "belt          55\n",
       "jacket        54\n",
       "dress         52\n",
       "jewelry       52\n",
       "hat           52\n",
       "hoodie        51\n",
       "boots         50\n",
       "sweater       50\n",
       "skirt         49\n",
       "shoes         48\n",
       "shorts        48\n",
       "pants         48\n",
       "coat          47\n",
       "t-shirt       46\n",
       "scarf         45\n",
       "sneakers      42\n",
       "backpack      37\n",
       "gloves        37\n",
       "jeans         29\n",
       "Name: count, dtype: int64"
      ]
     },
     "execution_count": 58,
     "metadata": {},
     "output_type": "execute_result"
    }
   ],
   "source": [
    "df[df['gender'] == 'female']['garment_type'].value_counts()"
   ]
  },
  {
   "cell_type": "code",
   "execution_count": 59,
   "metadata": {},
   "outputs": [
    {
     "data": {
      "text/plain": [
       "garment_type\n",
       "handbag       4.006897\n",
       "sunglasses    3.860714\n",
       "hoodie        3.858824\n",
       "sneakers      3.838095\n",
       "sandals       3.837288\n",
       "shoes         3.829167\n",
       "skirt         3.816327\n",
       "gloves        3.786486\n",
       "boots         3.784000\n",
       "shorts        3.766667\n",
       "sweater       3.756000\n",
       "socks         3.753448\n",
       "dress         3.751923\n",
       "jacket        3.748148\n",
       "hat           3.746154\n",
       "coat          3.710638\n",
       "t-shirt       3.689130\n",
       "scarf         3.688889\n",
       "blouse        3.660606\n",
       "jewelry       3.648077\n",
       "backpack      3.645946\n",
       "pants         3.614583\n",
       "belt          3.601818\n",
       "jeans         3.596552\n",
       "shirt         3.481356\n",
       "Name: customer_rating, dtype: float64"
      ]
     },
     "execution_count": 59,
     "metadata": {},
     "output_type": "execute_result"
    }
   ],
   "source": [
    "df[df['gender'] == 'female'].groupby(['garment_type'])['customer_rating'].mean().sort_values(ascending=False)"
   ]
  },
  {
   "cell_type": "markdown",
   "metadata": {},
   "source": [
    "[Back to Table of Contents](#back)"
   ]
  },
  {
   "cell_type": "markdown",
   "metadata": {},
   "source": [
    "#### 1.2 Which items are highly rated by our customers? Size? Color?"
   ]
  },
  {
   "cell_type": "code",
   "execution_count": 60,
   "metadata": {},
   "outputs": [
    {
     "name": "stdout",
     "output_type": "stream",
     "text": [
      "2.5\n",
      "3.75\n",
      "5.0\n"
     ]
    }
   ],
   "source": [
    "print(df['customer_rating'].min())\n",
    "print(df['customer_rating'].mean().round(3))\n",
    "print(df['customer_rating'].max())"
   ]
  },
  {
   "cell_type": "markdown",
   "metadata": {},
   "source": [
    "Based on the minimum value 2.5/5 rating, a maximum value of 5/5 rating, and an average value of 3.7/5 rating for the overall business. This signals to the business that the sold products were seen as average at worst, and perfect at best which is a good sign of quality products."
   ]
  },
  {
   "cell_type": "code",
   "execution_count": 61,
   "metadata": {},
   "outputs": [
    {
     "data": {
      "image/png": "[encoded data removed]",
      "text/plain": [
       "<Figure size 640x480 with 1 Axes>"
      ]
     },
     "metadata": {},
     "output_type": "display_data"
    }
   ],
   "source": [
    "avg_rating = df['customer_rating'].mean()\n",
    "\n",
    "df.groupby(['category'])['customer_rating'].mean().sort_values().round(2).plot(kind='barh',\n",
    "                                                                               title='Customer Category Ratings',\n",
    "                                                                               edgecolor='black')\n",
    "plt.axvline(x=avg_rating, color='black', linestyle='--')\n",
    "plt.grid(axis='x')\n",
    "plt.xlim([3,4])\n",
    "plt.show()"
   ]
  },
  {
   "cell_type": "markdown",
   "metadata": {},
   "source": [
    "Grouping each category by their average rating shows us that our footwear had the highest rating by category and clothing had the lowest rating by category. "
   ]
  },
  {
   "cell_type": "code",
   "execution_count": 62,
   "metadata": {},
   "outputs": [
    {
     "data": {
      "image/png": "[encoded data removed]",
      "text/plain": [
       "<Figure size 640x480 with 1 Axes>"
      ]
     },
     "metadata": {},
     "output_type": "display_data"
    }
   ],
   "source": [
    "df.groupby(['garment_type'])['customer_rating'].mean().sort_values().round(2).plot(kind='barh',\n",
    "                                                                                   title='Customer Product Ratings',\n",
    "                                                                                   edgecolor='black')\n",
    "plt.axvline(x=avg_rating, color='black', linestyle='--')\n",
    "plt.grid(axis='x', linestyle='--')\n",
    "plt.xlim([3,4])\n",
    "plt.show()"
   ]
  },
  {
   "cell_type": "code",
   "execution_count": 63,
   "metadata": {},
   "outputs": [
    {
     "data": {
      "image/png": "[encoded data removed]",
      "text/plain": [
       "<Figure size 640x480 with 1 Axes>"
      ]
     },
     "metadata": {},
     "output_type": "display_data"
    }
   ],
   "source": [
    "df['size'].value_counts().sort_values().plot(kind='barh',\n",
    "                                             title='Total Size Orders')\n",
    "plt.grid(axis='x', linestyle='--')\n",
    "plt.show()"
   ]
  },
  {
   "cell_type": "code",
   "execution_count": 64,
   "metadata": {},
   "outputs": [
    {
     "data": {
      "image/png": "[encoded data removed]",
      "text/plain": [
       "<Figure size 640x480 with 1 Axes>"
      ]
     },
     "metadata": {},
     "output_type": "display_data"
    }
   ],
   "source": [
    "df['color'].value_counts().sort_values().plot(kind='barh',\n",
    "                                              title='Customer Color Preferences')\n",
    "plt.grid(axis='x', linestyle='--')\n",
    "plt.show()"
   ]
  },
  {
   "cell_type": "markdown",
   "metadata": {},
   "source": [
    "[Back to Table of Contents](#back)"
   ]
  },
  {
   "cell_type": "markdown",
   "metadata": {},
   "source": [
    "#### 1.3 What is the market sentiment of our products?"
   ]
  },
  {
   "cell_type": "code",
   "execution_count": 65,
   "metadata": {},
   "outputs": [
    {
     "data": {
      "text/plain": [
       "shipping_type\n",
       "paid_shipping    2575\n",
       "free_shipping    1325\n",
       "Name: count, dtype: int64"
      ]
     },
     "execution_count": 65,
     "metadata": {},
     "output_type": "execute_result"
    }
   ],
   "source": [
    "df['shipping_type'].value_counts()"
   ]
  },
  {
   "cell_type": "code",
   "execution_count": 66,
   "metadata": {},
   "outputs": [
    {
     "name": "stdout",
     "output_type": "stream",
     "text": [
      "1\n",
      "50\n"
     ]
    }
   ],
   "source": [
    "print(df['previous_orders'].min())\n",
    "print(df['previous_orders'].max())"
   ]
  },
  {
   "cell_type": "code",
   "execution_count": 67,
   "metadata": {},
   "outputs": [],
   "source": [
    "ordered_before = df[df['previous_orders'] > 1]['previous_orders'].count()\n",
    "ordered_before_10_times = df[df['previous_orders'] >= 10]['previous_orders'].count()\n",
    "ordered_before_25_times = df[df['previous_orders'] >= 25]['previous_orders'].count()\n",
    "total_customers = len(df)"
   ]
  },
  {
   "cell_type": "code",
   "execution_count": 68,
   "metadata": {},
   "outputs": [
    {
     "data": {
      "text/plain": [
       "0.979"
      ]
     },
     "execution_count": 68,
     "metadata": {},
     "output_type": "execute_result"
    }
   ],
   "source": [
    "(ordered_before / total_customers).round(3)"
   ]
  },
  {
   "cell_type": "code",
   "execution_count": 69,
   "metadata": {},
   "outputs": [
    {
     "data": {
      "text/plain": [
       "0.818"
      ]
     },
     "execution_count": 69,
     "metadata": {},
     "output_type": "execute_result"
    }
   ],
   "source": [
    "(ordered_before_10_times / total_customers).round(3)"
   ]
  },
  {
   "cell_type": "code",
   "execution_count": 70,
   "metadata": {},
   "outputs": [
    {
     "data": {
      "text/plain": [
       "0.516"
      ]
     },
     "execution_count": 70,
     "metadata": {},
     "output_type": "execute_result"
    }
   ],
   "source": [
    "(ordered_before_25_times / total_customers).round(3)"
   ]
  },
  {
   "cell_type": "code",
   "execution_count": 71,
   "metadata": {},
   "outputs": [],
   "source": [
    "monthly_orders = (df[df['order_freq'] == 'monthly']['order_freq'].count())\n",
    "quarterly_orders = (df[df['order_freq'] == 'quarterly']['order_freq'].count())\n",
    "annually_orders = (df[df['order_freq'] == 'annually']['order_freq'].count())"
   ]
  },
  {
   "cell_type": "code",
   "execution_count": 72,
   "metadata": {},
   "outputs": [
    {
     "data": {
      "text/plain": [
       "0.559"
      ]
     },
     "execution_count": 72,
     "metadata": {},
     "output_type": "execute_result"
    }
   ],
   "source": [
    "(monthly_orders / total_customers).round(3)"
   ]
  },
  {
   "cell_type": "code",
   "execution_count": 73,
   "metadata": {},
   "outputs": [
    {
     "data": {
      "text/plain": [
       "0.294"
      ]
     },
     "execution_count": 73,
     "metadata": {},
     "output_type": "execute_result"
    }
   ],
   "source": [
    "(quarterly_orders / total_customers).round(3)"
   ]
  },
  {
   "cell_type": "code",
   "execution_count": 74,
   "metadata": {},
   "outputs": [
    {
     "data": {
      "text/plain": [
       "0.147"
      ]
     },
     "execution_count": 74,
     "metadata": {},
     "output_type": "execute_result"
    }
   ],
   "source": [
    "(annually_orders / total_customers).round(3)"
   ]
  },
  {
   "cell_type": "markdown",
   "metadata": {},
   "source": [
    "##### 1.4 What are their prefered method of transaction?"
   ]
  },
  {
   "cell_type": "code",
   "execution_count": 75,
   "metadata": {},
   "outputs": [
    {
     "data": {
      "image/png": "[encoded data removed]",
      "text/plain": [
       "<Figure size 640x480 with 1 Axes>"
      ]
     },
     "metadata": {},
     "output_type": "display_data"
    }
   ],
   "source": [
    "df['payment_method'].value_counts().plot(kind='barh')\n",
    "plt.grid(axis='x')\n",
    "plt.show()"
   ]
  },
  {
   "cell_type": "markdown",
   "metadata": {},
   "source": [
    "[Back to Table of Contents](#back)"
   ]
  },
  {
   "cell_type": "markdown",
   "metadata": {},
   "source": [
    "### 2. Business performance"
   ]
  },
  {
   "cell_type": "markdown",
   "metadata": {},
   "source": [
    "#### 2.1 What is the best selling items?"
   ]
  },
  {
   "cell_type": "code",
   "execution_count": 76,
   "metadata": {},
   "outputs": [
    {
     "data": {
      "text/plain": [
       "category\n",
       "clothing       104264\n",
       "accessories     74200\n",
       "footwear        36093\n",
       "outerwear       18524\n",
       "Name: usd_purchase_total, dtype: int64"
      ]
     },
     "execution_count": 76,
     "metadata": {},
     "output_type": "execute_result"
    }
   ],
   "source": [
    "df.groupby('category')['usd_purchase_total'].sum().sort_values(ascending=False)"
   ]
  },
  {
   "cell_type": "code",
   "execution_count": 77,
   "metadata": {},
   "outputs": [
    {
     "data": {
      "text/plain": [
       "garment_type\n",
       "jewelry    171\n",
       "blouse     171\n",
       "pants      171\n",
       "shirt      169\n",
       "dress      166\n",
       "Name: usd_purchase_total, dtype: int64"
      ]
     },
     "execution_count": 77,
     "metadata": {},
     "output_type": "execute_result"
    }
   ],
   "source": [
    "df.groupby('garment_type')['usd_purchase_total'].count().sort_values(ascending=False).head(5)"
   ]
  },
  {
   "cell_type": "markdown",
   "metadata": {},
   "source": [
    "[Back to Table of Contents](#back)"
   ]
  },
  {
   "cell_type": "markdown",
   "metadata": {},
   "source": [
    "#### 2.2 Does subscription status increase sales?"
   ]
  },
  {
   "cell_type": "code",
   "execution_count": 78,
   "metadata": {},
   "outputs": [
    {
     "data": {
      "text/plain": [
       "1053"
      ]
     },
     "execution_count": 78,
     "metadata": {},
     "output_type": "execute_result"
    }
   ],
   "source": [
    "df[df['sub_status'] == 'yes']['sub_status'].count()"
   ]
  },
  {
   "cell_type": "code",
   "execution_count": 79,
   "metadata": {},
   "outputs": [
    {
     "data": {
      "text/plain": [
       "62645"
      ]
     },
     "execution_count": 79,
     "metadata": {},
     "output_type": "execute_result"
    }
   ],
   "source": [
    "df[df['sub_status'] == 'yes']['usd_purchase_total'].sum()"
   ]
  },
  {
   "cell_type": "code",
   "execution_count": 80,
   "metadata": {},
   "outputs": [
    {
     "data": {
      "text/plain": [
       "2847"
      ]
     },
     "execution_count": 80,
     "metadata": {},
     "output_type": "execute_result"
    }
   ],
   "source": [
    "df[df['sub_status'] == 'no']['sub_status'].count()"
   ]
  },
  {
   "cell_type": "code",
   "execution_count": 81,
   "metadata": {},
   "outputs": [
    {
     "data": {
      "text/plain": [
       "170436"
      ]
     },
     "execution_count": 81,
     "metadata": {},
     "output_type": "execute_result"
    }
   ],
   "source": [
    "df[df['sub_status'] == 'no']['usd_purchase_total'].sum()"
   ]
  },
  {
   "cell_type": "markdown",
   "metadata": {},
   "source": [
    "[Back to Table of Contents](#back)"
   ]
  },
  {
   "cell_type": "markdown",
   "metadata": {},
   "source": [
    "#### 2.3 Is our business market share growing?"
   ]
  },
  {
   "cell_type": "markdown",
   "metadata": {},
   "source": []
  },
  {
   "cell_type": "code",
   "execution_count": null,
   "metadata": {},
   "outputs": [],
   "source": []
  },
  {
   "cell_type": "code",
   "execution_count": null,
   "metadata": {},
   "outputs": [],
   "source": []
  },
  {
   "cell_type": "markdown",
   "metadata": {},
   "source": [
    "[Back to Table of Contents](#back)"
   ]
  },
  {
   "cell_type": "code",
   "execution_count": 82,
   "metadata": {},
   "outputs": [
    {
     "data": {
      "text/html": [
       "<div>\n",
       "<style scoped>\n",
       "    .dataframe tbody tr th:only-of-type {\n",
       "        vertical-align: middle;\n",
       "    }\n",
       "\n",
       "    .dataframe tbody tr th {\n",
       "        vertical-align: top;\n",
       "    }\n",
       "\n",
       "    .dataframe thead th {\n",
       "        text-align: right;\n",
       "    }\n",
       "</style>\n",
       "<table border=\"1\" class=\"dataframe\">\n",
       "  <thead>\n",
       "    <tr style=\"text-align: right;\">\n",
       "      <th></th>\n",
       "      <th>uid</th>\n",
       "      <th>age</th>\n",
       "      <th>gender</th>\n",
       "      <th>garment_type</th>\n",
       "      <th>category</th>\n",
       "      <th>usd_purchase_total</th>\n",
       "      <th>location</th>\n",
       "      <th>size</th>\n",
       "      <th>color</th>\n",
       "      <th>season</th>\n",
       "      <th>customer_rating</th>\n",
       "      <th>sub_status</th>\n",
       "      <th>shipping_type</th>\n",
       "      <th>discount_applied</th>\n",
       "      <th>previous_orders</th>\n",
       "      <th>payment_method</th>\n",
       "      <th>order_freq</th>\n",
       "    </tr>\n",
       "  </thead>\n",
       "  <tbody>\n",
       "    <tr>\n",
       "      <th>0</th>\n",
       "      <td>1</td>\n",
       "      <td>55</td>\n",
       "      <td>male</td>\n",
       "      <td>blouse</td>\n",
       "      <td>clothing</td>\n",
       "      <td>53</td>\n",
       "      <td>kentucky</td>\n",
       "      <td>l</td>\n",
       "      <td>gray</td>\n",
       "      <td>winter</td>\n",
       "      <td>3.1</td>\n",
       "      <td>yes</td>\n",
       "      <td>paid_shipping</td>\n",
       "      <td>yes</td>\n",
       "      <td>14</td>\n",
       "      <td>venmo</td>\n",
       "      <td>monthly</td>\n",
       "    </tr>\n",
       "  </tbody>\n",
       "</table>\n",
       "</div>"
      ],
      "text/plain": [
       "   uid  age gender garment_type  category  usd_purchase_total  location size  \\\n",
       "0    1   55   male       blouse  clothing                  53  kentucky    l   \n",
       "\n",
       "  color  season  customer_rating sub_status  shipping_type discount_applied  \\\n",
       "0  gray  winter              3.1        yes  paid_shipping              yes   \n",
       "\n",
       "   previous_orders payment_method order_freq  \n",
       "0               14          venmo    monthly  "
      ]
     },
     "execution_count": 82,
     "metadata": {},
     "output_type": "execute_result"
    }
   ],
   "source": [
    "df.head(1)"
   ]
  },
  {
   "cell_type": "markdown",
   "metadata": {},
   "source": [
    "### 3. Identifying trends within the data"
   ]
  },
  {
   "cell_type": "markdown",
   "metadata": {},
   "source": [
    "#### 3.1 Which season does the company perform best?"
   ]
  },
  {
   "cell_type": "code",
   "execution_count": 83,
   "metadata": {},
   "outputs": [
    {
     "data": {
      "text/plain": [
       "season\n",
       "fall      60018\n",
       "spring    58679\n",
       "winter    58607\n",
       "summer    55777\n",
       "Name: usd_purchase_total, dtype: int64"
      ]
     },
     "execution_count": 83,
     "metadata": {},
     "output_type": "execute_result"
    }
   ],
   "source": [
    "df.groupby(['season'])['usd_purchase_total'].sum().sort_values(ascending=False)"
   ]
  },
  {
   "cell_type": "markdown",
   "metadata": {},
   "source": [
    "[Back to Table of Contents](#back)"
   ]
  },
  {
   "cell_type": "markdown",
   "metadata": {},
   "source": [
    "#### 3.2 What is our customer retention?"
   ]
  },
  {
   "cell_type": "code",
   "execution_count": 84,
   "metadata": {},
   "outputs": [
    {
     "data": {
      "text/plain": [
       "0.979"
      ]
     },
     "execution_count": 84,
     "metadata": {},
     "output_type": "execute_result"
    }
   ],
   "source": [
    "(ordered_before / total_customers).round(3)"
   ]
  },
  {
   "cell_type": "code",
   "execution_count": 85,
   "metadata": {},
   "outputs": [
    {
     "data": {
      "text/plain": [
       "0.818"
      ]
     },
     "execution_count": 85,
     "metadata": {},
     "output_type": "execute_result"
    }
   ],
   "source": [
    "(ordered_before_10_times / total_customers).round(3)"
   ]
  },
  {
   "cell_type": "code",
   "execution_count": 86,
   "metadata": {},
   "outputs": [
    {
     "data": {
      "text/plain": [
       "0.516"
      ]
     },
     "execution_count": 86,
     "metadata": {},
     "output_type": "execute_result"
    }
   ],
   "source": [
    "(ordered_before_25_times / total_customers).round(3)"
   ]
  },
  {
   "cell_type": "code",
   "execution_count": 87,
   "metadata": {},
   "outputs": [
    {
     "data": {
      "text/plain": [
       "0.559"
      ]
     },
     "execution_count": 87,
     "metadata": {},
     "output_type": "execute_result"
    }
   ],
   "source": [
    "(monthly_orders / total_customers).round(3)"
   ]
  },
  {
   "cell_type": "code",
   "execution_count": 88,
   "metadata": {},
   "outputs": [
    {
     "data": {
      "text/plain": [
       "0.294"
      ]
     },
     "execution_count": 88,
     "metadata": {},
     "output_type": "execute_result"
    }
   ],
   "source": [
    "(quarterly_orders / total_customers).round(3)"
   ]
  },
  {
   "cell_type": "code",
   "execution_count": 89,
   "metadata": {},
   "outputs": [
    {
     "data": {
      "text/plain": [
       "0.147"
      ]
     },
     "execution_count": 89,
     "metadata": {},
     "output_type": "execute_result"
    }
   ],
   "source": [
    "(annually_orders / total_customers).round(3)"
   ]
  },
  {
   "cell_type": "markdown",
   "metadata": {},
   "source": [
    "[Back to Table of Contents](#back)"
   ]
  },
  {
   "cell_type": "markdown",
   "metadata": {},
   "source": [
    "#### 3.3 Are there areas within the business for improvement?"
   ]
  },
  {
   "cell_type": "code",
   "execution_count": null,
   "metadata": {},
   "outputs": [],
   "source": []
  },
  {
   "cell_type": "code",
   "execution_count": null,
   "metadata": {},
   "outputs": [],
   "source": []
  },
  {
   "cell_type": "code",
   "execution_count": null,
   "metadata": {},
   "outputs": [],
   "source": []
  },
  {
   "cell_type": "markdown",
   "metadata": {},
   "source": [
    "## Conclusions and Reccomendations"
   ]
  },
  {
   "cell_type": "markdown",
   "metadata": {},
   "source": []
  },
  {
   "cell_type": "markdown",
   "metadata": {},
   "source": [
    "## Dataset Citation\n",
    "\n",
    "Zee solver. (2023, October). Consumer Behavior and Shopping Habits Dataset, Version 1. Retrieved December 14, 2023 from [Kaggle](https://www.kaggle.com/datasets/zeesolver/consumer-behavior-and-shopping-habits-dataset/data)."
   ]
  },
  {
   "cell_type": "markdown",
   "metadata": {},
   "source": [
    "[Back to Table of Contents](#back)"
   ]
  }
 ],
 "metadata": {
  "kernelspec": {
   "display_name": "base",
   "language": "python",
   "name": "python3"
  },
  "language_info": {
   "codemirror_mode": {
    "name": "ipython",
    "version": 3
   },
   "file_extension": ".py",
   "mimetype": "text/x-python",
   "name": "python",
   "nbconvert_exporter": "python",
   "pygments_lexer": "ipython3",
   "version": "3.11.7"
  },
  "orig_nbformat": 4
 },
 "nbformat": 4,
 "nbformat_minor": 2
}
