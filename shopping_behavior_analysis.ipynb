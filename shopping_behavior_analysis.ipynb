{
 "cells": [
  {
   "cell_type": "markdown",
   "metadata": {},
   "source": [
    "# Shopping Behavior Exploratory Data Analysis <a id='back'></a>\n",
    "\n",
    "## Table of Contents\n",
    "- [Project Introduction](#project-introduction)\n",
    "    - [Analysis Outline Questions](#analysis-outline-questions)\n",
    "    - [Results](#results)\n",
    "- [Importing Libraries and Opening Data Files](#importing-libraries-and-opening-data-files)\n",
    "- [Pre-processing Data](#pre-processing-data)\n",
    "    - [Header style](#header-style)\n",
    "    - [Duplicates](#duplicates)\n",
    "    - [Missing values](#missing-values)\n",
    "    - [Reducing data usage and formatting](#reducing-data-usage-and-formatting)\n",
    "- [Data Analysis](#data-analysis)\n",
    "    - [1. Identifying our customers](#1.-identifying-ourcustomers)\n",
    "        - [1.1 Who are our main customer demographic? Where are they from?](#1.1-who-are-our-main-customer-demographic?-where-are-they-from?)\n",
    "        - [1.2 Which items are highly rated by our customers? Size? Color?](#1.2-which-items-are-highly-rated-by-our-customers?-size?-color?)\n",
    "        - [1.3 What is the market sentiment of our products?](#1.3-what-is-the-market-sentiment-of-our-products?)\n",
    "        - [1.4 What are their prefered method of transaction?](#1.4-what-are-their-prefered-method-of-transaction?)\n",
    "    - [2. Business performance](#2.-business-performance)\n",
    "        - [2.1 What is the best selling items?](#2.1-what-is-the-best-selling-items?)\n",
    "        - [2.2 Does subscription status increase sales?](#2.2-does-subscription-status-increase-sales?)\n",
    "        - [2.3 Are there areas within the business for improvement?](#3.3-are-there-areas-within-the-business-for-improvement?)\n",
    "    - [3. Identifying trends within the data](#3.-identifying-trends-within-the-data)\n",
    "        - [3.1 Which season does the company perform best?](#3.1-which-season-does-the-company-perform-best?)\n",
    "        - [3.2 What is our customer retention?](#3.2-what-is-our-customer-retention?)\n",
    "- [Conclusions and Reccomendations](#conclusions-and-reccomendations)\n",
    "- [Dataset Citation](#dataset-citation)\n",
    "\n",
    "<a name='headers'>"
   ]
  },
  {
   "cell_type": "markdown",
   "metadata": {},
   "source": [
    "## Project Introduction\n",
    "\n",
    "This is a Kaggle-sourced dataset used to further refine my data analytics skills and gain more experience in the data science field. The Customer Behavior and Shopping Habits Dataset contains a variety of intricate insights into customer preferences and mannerisms when shopping from this untitled online source. Throughout the project, I will discover and answer insights within the data that I find interesting and useful to optimize business performance and growth. Below is the link to the original dataset."
   ]
  },
  {
   "cell_type": "markdown",
   "metadata": {},
   "source": [
    "### Analysis Outline Questions\n",
    "\n",
    "Before looking at the dataset, there are several interesting questions I wanted to learn more about. Below are the insights I am interesting in exploring more into:\n",
    "\n",
    "    1. Identifying our customers\n",
    "        1.1 Who are our main customer demographic? Where are they from?\n",
    "        1.2 Which items are highly rated by our customers? Size? Color?\n",
    "        1.3 What is the market sentiment of our products?\n",
    "        1.4 What are their prefered method of transaction?\n",
    "    \n",
    "    2. Business performance\n",
    "        2.1 Which items do we sell the most?(By profit and by volume)\n",
    "        2.2 Does subscription status increase sales?\n",
    "        2.3 Is our business market share growing?\n",
    "    \n",
    "    3. Identifying trends within the data\n",
    "        3.1 Which season does the company perform best?\n",
    "        3.2 What is our customer retention?\n",
    "        3.3 Are there areas within the business for improvement?"
   ]
  },
  {
   "cell_type": "markdown",
   "metadata": {},
   "source": [
    "### Results\n",
    "\n",
    "In conclusion, "
   ]
  },
  {
   "cell_type": "markdown",
   "metadata": {},
   "source": [
    "## Importing Libraries and Opening Data Files"
   ]
  },
  {
   "cell_type": "code",
   "execution_count": null,
   "metadata": {},
   "outputs": [],
   "source": [
    "# Importing the needed libraries for this assignment\n",
    "import pandas as pd\n",
    "import numpy as np\n",
    "from matplotlib import pyplot as plt\n",
    "import seaborn as sns"
   ]
  },
  {
   "cell_type": "code",
   "execution_count": null,
   "metadata": {},
   "outputs": [],
   "source": [
    "# Importing file for assignment\n",
    "try:\n",
    "    df = pd.read_csv('shopping_behavior_updated.csv', sep=',')\n",
    "except:\n",
    "    df = pd.read_csv('/datasets/shopping_behavior_updated.csv', sep=',')"
   ]
  },
  {
   "cell_type": "markdown",
   "metadata": {},
   "source": [
    "[Back to Table of Contents](#back)"
   ]
  },
  {
   "cell_type": "markdown",
   "metadata": {},
   "source": [
    "## Pre-processing Data"
   ]
  },
  {
   "cell_type": "markdown",
   "metadata": {},
   "source": [
    "### Header style"
   ]
  },
  {
   "cell_type": "code",
   "execution_count": null,
   "metadata": {},
   "outputs": [],
   "source": [
    "# Getting general information about the dataset\n",
    "df.info()\n",
    "df.head()"
   ]
  },
  {
   "cell_type": "code",
   "execution_count": null,
   "metadata": {},
   "outputs": [],
   "source": [
    "#checking for snakecase format\n",
    "df.columns"
   ]
  },
  {
   "cell_type": "code",
   "execution_count": null,
   "metadata": {},
   "outputs": [],
   "source": [
    "# Renaming column names to snake_case format\n",
    "df = df.rename(columns={'Customer ID': 'uid',\n",
    "                        'Age': 'age',\n",
    "                        'Gender': 'gender',\n",
    "                        'Item Purchased': 'item_purchased',\n",
    "                        'Category': 'category',\n",
    "                        'Purchase Amount (USD)': 'usd_purchase_total',\n",
    "                        'Location': 'location',\n",
    "                        'Size': 'size',\n",
    "                        'Color': 'color',\n",
    "                        'Season': 'season',\n",
    "                        'Review Rating': 'customer_rating',\n",
    "                        'Subscription Status': 'sub_status',\n",
    "                        'Shipping Type': 'shipping_type',\n",
    "                        'Discount Applied': 'discount_applied',\n",
    "                        'Promo Code Used': 'promo_code_applied',\n",
    "                        'Previous Purchases': 'previous_orders',\n",
    "                        'Payment Method': 'payment_method',\n",
    "                        'Frequency of Purchases': 'order_freq'})\n",
    "df.columns"
   ]
  },
  {
   "cell_type": "markdown",
   "metadata": {},
   "source": [
    "[Back to Table of Contents](#back)"
   ]
  },
  {
   "cell_type": "markdown",
   "metadata": {},
   "source": [
    "### Duplicates"
   ]
  },
  {
   "cell_type": "code",
   "execution_count": null,
   "metadata": {},
   "outputs": [],
   "source": [
    "# Checking for duplicates\n",
    "df.duplicated().sum()"
   ]
  },
  {
   "cell_type": "markdown",
   "metadata": {},
   "source": [
    "[Back to Table of Contents](#back)"
   ]
  },
  {
   "cell_type": "markdown",
   "metadata": {},
   "source": [
    "### Missing values"
   ]
  },
  {
   "cell_type": "code",
   "execution_count": null,
   "metadata": {},
   "outputs": [],
   "source": [
    "# Checking for null values\n",
    "df.isna().sum()"
   ]
  },
  {
   "cell_type": "markdown",
   "metadata": {},
   "source": [
    "[Back to Table of Contents](#back)"
   ]
  },
  {
   "cell_type": "markdown",
   "metadata": {},
   "source": [
    "### Reducing data usage and formatting"
   ]
  },
  {
   "cell_type": "code",
   "execution_count": null,
   "metadata": {},
   "outputs": [],
   "source": [
    "# By using nunique we can find the total number of unique values in each column. Depending\n",
    "# on the number of unique results we can change the column data types to reduce data usage.\n",
    "df.nunique()"
   ]
  },
  {
   "cell_type": "code",
   "execution_count": null,
   "metadata": {},
   "outputs": [],
   "source": [
    "# Checking column for snake_case format and number of unique outputs\n",
    "df['gender'].unique()"
   ]
  },
  {
   "cell_type": "code",
   "execution_count": null,
   "metadata": {},
   "outputs": [],
   "source": [
    "# Changing column to snake_case format and changing data type to reduce data usage\n",
    "df['gender'] = df['gender'].str.lower()\n",
    "df['gender'] = df['gender'].astype('category')\n",
    "df['gender'].unique()"
   ]
  },
  {
   "cell_type": "code",
   "execution_count": null,
   "metadata": {},
   "outputs": [],
   "source": [
    "# Checking column for snake_case format and number of unique outputs\n",
    "df['item_purchased'].unique()"
   ]
  },
  {
   "cell_type": "code",
   "execution_count": null,
   "metadata": {},
   "outputs": [],
   "source": [
    "# Changing column to snake_case format\n",
    "# There are numerous unique values and will leave data type as an object\n",
    "df['item_purchased'] = df['item_purchased'].str.lower()\n",
    "df['item_purchased'].unique()"
   ]
  },
  {
   "cell_type": "code",
   "execution_count": null,
   "metadata": {},
   "outputs": [],
   "source": [
    "# Checking column for snake_case format and number of unique outputs\n",
    "df['category'].unique()"
   ]
  },
  {
   "cell_type": "code",
   "execution_count": null,
   "metadata": {},
   "outputs": [],
   "source": [
    "# Changing column to snake_case format and changing data type to reduce data usage\n",
    "df['category'] = df['category'].str.lower()\n",
    "df['category'] = df['category'].astype('category')\n",
    "df['category'].unique()"
   ]
  },
  {
   "cell_type": "code",
   "execution_count": null,
   "metadata": {},
   "outputs": [],
   "source": [
    "# Checking column for snake_case format and number of unique outputs\n",
    "df['location'].unique()"
   ]
  },
  {
   "cell_type": "code",
   "execution_count": null,
   "metadata": {},
   "outputs": [],
   "source": [
    "# Changing column to snake_case format\n",
    "# There are numerous unique values and will leave data type as an object\n",
    "df['location'] = df['location'].str.lower()\n",
    "df['location'] = df['location'].apply(lambda x: x.replace(' ', '_'))\n",
    "df['location'].unique()"
   ]
  },
  {
   "cell_type": "code",
   "execution_count": null,
   "metadata": {},
   "outputs": [],
   "source": [
    "# Checking column for snake_case format and number of unique outputs\n",
    "df['size'].unique()"
   ]
  },
  {
   "cell_type": "code",
   "execution_count": null,
   "metadata": {},
   "outputs": [],
   "source": [
    "# Changing column to snake_case format and changing data type to reduce data usage\n",
    "df['size'] = df['size'].str.lower()\n",
    "df['size'] = df['size'].astype('category')\n",
    "df['size'].unique()"
   ]
  },
  {
   "cell_type": "code",
   "execution_count": null,
   "metadata": {},
   "outputs": [],
   "source": [
    "# Checking column for snake_case format and number of unique outputs\n",
    "df['color'].unique()"
   ]
  },
  {
   "cell_type": "code",
   "execution_count": null,
   "metadata": {},
   "outputs": [],
   "source": [
    "# Changing column to snake_case format\n",
    "# There are numerous unique values and will leave data type as an object\n",
    "df['color'] = df['color'].str.lower()\n",
    "df['color'].unique()"
   ]
  },
  {
   "cell_type": "code",
   "execution_count": null,
   "metadata": {},
   "outputs": [],
   "source": [
    "# Checking column for snake_case format and number of unique outputs\n",
    "df['season'].unique()"
   ]
  },
  {
   "cell_type": "code",
   "execution_count": null,
   "metadata": {},
   "outputs": [],
   "source": [
    "# Changing column to snake_case format and changing data type to reduce data usage\n",
    "df['season'] = df['season'].str.lower()\n",
    "df['season'] = df['season'].astype('category')\n",
    "df['season'].unique()"
   ]
  },
  {
   "cell_type": "code",
   "execution_count": null,
   "metadata": {},
   "outputs": [],
   "source": [
    "# Checking column for snake_case format and number of unique outputs\n",
    "df['sub_status'].unique()"
   ]
  },
  {
   "cell_type": "code",
   "execution_count": null,
   "metadata": {},
   "outputs": [],
   "source": [
    "# Changing column to snake_case format and changing data type to reduce data usage\n",
    "df['sub_status'] = df['sub_status'].str.lower()\n",
    "df['sub_status'] = df['sub_status'].astype('category')\n",
    "df['sub_status'].unique()"
   ]
  },
  {
   "cell_type": "code",
   "execution_count": null,
   "metadata": {},
   "outputs": [],
   "source": [
    "# Checking column for snake_case format and number of unique outputs\n",
    "df['shipping_type'].unique()"
   ]
  },
  {
   "cell_type": "code",
   "execution_count": null,
   "metadata": {},
   "outputs": [],
   "source": [
    "# Changing column to snake_case format and changing data type to reduce data usage\n",
    "\n",
    "# Changing the results to free shipping or paid shipping, customers who pay for faster shipping\n",
    "# usually means they love the product so much that they want it sooner signaling a positive\n",
    "# market sentiment with the customer and so we can narrow the results to paid or non paid shipping\n",
    "\n",
    "df['shipping_type'] = df['shipping_type'].str.lower()\n",
    "df['shipping_type'] = df['shipping_type'].astype('category')\n",
    "df['shipping_type'] = df['shipping_type'].replace('express', 'paid_shipping').replace('next day air', 'paid_shipping').replace('standard', 'paid_shipping').replace('2-day shipping', 'paid_shipping').replace('store pickup', 'free_shipping')\n",
    "df['shipping_type'] = df['shipping_type'].apply(lambda x: x.replace(' ', '_'))\n",
    "df['shipping_type'].unique()"
   ]
  },
  {
   "cell_type": "code",
   "execution_count": null,
   "metadata": {},
   "outputs": [],
   "source": [
    "# Checking column for snake_case format and number of unique outputs\n",
    "df['discount_applied'].unique()"
   ]
  },
  {
   "cell_type": "code",
   "execution_count": null,
   "metadata": {},
   "outputs": [],
   "source": [
    "# Changing column to snake_case format and changing data type to reduce data usage\n",
    "df['discount_applied'] = df['discount_applied'].str.lower()\n",
    "df['discount_applied'] = df['discount_applied'].astype('category')\n",
    "df['discount_applied'].unique()"
   ]
  },
  {
   "cell_type": "code",
   "execution_count": null,
   "metadata": {},
   "outputs": [],
   "source": [
    "# Checking column for snake_case format and number of unique outputs\n",
    "df['promo_code_applied'].unique()"
   ]
  },
  {
   "cell_type": "code",
   "execution_count": null,
   "metadata": {},
   "outputs": [],
   "source": [
    "# Seeing how promo codes and discounts are very similar to each other this gives enough \n",
    "# reason to check the values to see if they contain the same values. If so then we can \n",
    "# remove one column to save more data usage.\n",
    "\n",
    "df['discount_applied'].value_counts()"
   ]
  },
  {
   "cell_type": "code",
   "execution_count": null,
   "metadata": {},
   "outputs": [],
   "source": [
    "# Seeing how they have the same results this leads me to believe they are the same column\n",
    "df['promo_code_applied'].value_counts()"
   ]
  },
  {
   "cell_type": "code",
   "execution_count": null,
   "metadata": {},
   "outputs": [],
   "source": [
    "# By using random_state sample we can compare the results from both columns \n",
    "df['discount_applied'].sample(15, random_state=0)"
   ]
  },
  {
   "cell_type": "code",
   "execution_count": null,
   "metadata": {},
   "outputs": [],
   "source": [
    "# This proves that both columns have the same data \n",
    "df['promo_code_applied'].sample(15, random_state=0)"
   ]
  },
  {
   "cell_type": "code",
   "execution_count": null,
   "metadata": {},
   "outputs": [],
   "source": [
    "# We can remove this column to save data usage\n",
    "df = df.drop('promo_code_applied', axis=1)"
   ]
  },
  {
   "cell_type": "code",
   "execution_count": null,
   "metadata": {},
   "outputs": [],
   "source": [
    "# Checking column for snake_case format and number of unique outputs\n",
    "df['payment_method'].unique()"
   ]
  },
  {
   "cell_type": "code",
   "execution_count": null,
   "metadata": {},
   "outputs": [],
   "source": [
    "# Changing column to snake_case format and changing data type to reduce data usage\n",
    "# We can narrow down the options since many of the results are similar\n",
    "\n",
    "df['payment_method'] = df['payment_method'].str.lower()\n",
    "df['payment_method'] = df['payment_method'].astype('category')\n",
    "df['payment_method'] = df['payment_method'].apply(lambda x: x.replace(' ', '_'))\n",
    "df['payment_method'] = df['payment_method'].replace('venmo', 'payment_service').replace('credit_card', 'credit_debit_card').replace('paypal', 'payment_service').replace('bank_transfer', 'cash').replace('debit_card', 'credit_debit_card')\n",
    "df['payment_method'].unique()"
   ]
  },
  {
   "cell_type": "code",
   "execution_count": null,
   "metadata": {},
   "outputs": [],
   "source": [
    "# Checking column for snake_case format and number of unique outputs\n",
    "df['order_freq'].unique()"
   ]
  },
  {
   "cell_type": "code",
   "execution_count": null,
   "metadata": {},
   "outputs": [],
   "source": [
    "# Changing column to snake_case format and changing data type to reduce data usage\n",
    "# Since this dataset does not include datetime information, it would be better to reduce\n",
    "# the number of time results to save space and keep the data simplier\n",
    "\n",
    "df['order_freq'] = df['order_freq'].str.lower()\n",
    "df['order_freq'] = df['order_freq'].astype('category')\n",
    "df['order_freq'] = df['order_freq'].replace('fortnightly', 'monthly').replace('weekly', 'monthly').replace('bi-weekly', 'monthly').replace('every 3 months', 'quarterly')\n",
    "df['order_freq'].unique()"
   ]
  },
  {
   "cell_type": "code",
   "execution_count": null,
   "metadata": {},
   "outputs": [],
   "source": [
    "# By converting data types and reducing result redundancy we cut data usage by almost half\n",
    "df.info()\n",
    "df.head()"
   ]
  },
  {
   "cell_type": "markdown",
   "metadata": {},
   "source": [
    "[Back to Table of Contents](#back)"
   ]
  },
  {
   "cell_type": "markdown",
   "metadata": {},
   "source": [
    "## Exploratory Data Analysis"
   ]
  },
  {
   "cell_type": "markdown",
   "metadata": {},
   "source": [
    "### 1. Identifying our customers"
   ]
  },
  {
   "cell_type": "markdown",
   "metadata": {},
   "source": [
    "#### 1.1 Who are our main customer demographic? Where are they from?"
   ]
  },
  {
   "cell_type": "code",
   "execution_count": null,
   "metadata": {},
   "outputs": [],
   "source": [
    "# Since this is a fashion apparel business, the first key demographic characteristic is gender\n",
    "# We need to find out if we cater to men, women, or both since products and marketing\n",
    "# can vary depending on who is our main demographic.\n",
    "\n",
    "df['gender'].value_counts().plot(kind='pie',\n",
    "                                 autopct='%1.1f%%',\n",
    "                                 colors=['lightblue', 'pink'],\n",
    "                                 radius=1.25)\n",
    "plt.title('Customer Gender Demographic')\n",
    "plt.legend(title='Gender',\n",
    "           loc=[-0.05,0])\n",
    "plt.show()"
   ]
  },
  {
   "cell_type": "code",
   "execution_count": null,
   "metadata": {},
   "outputs": [],
   "source": [
    "sns.boxplot(df, x=df['gender'], y=df['age'], palette=['lightblue', 'pink'])\n",
    "plt.title('Age Boxplot')\n",
    "plt.grid(axis='y')\n",
    "plt.show()\n",
    "\n",
    "df['age'].describe()"
   ]
  },
  {
   "cell_type": "markdown",
   "metadata": {},
   "source": [
    "Based on our dataset about 2/3 customers are male customers and 1/3 are female customers. The average customer is about 44 years old telling us that our customers are middle aged who tend to have more disposable income. "
   ]
  },
  {
   "cell_type": "code",
   "execution_count": null,
   "metadata": {},
   "outputs": [],
   "source": [
    "# To find where the largest group of our target demographic order from, we first group the data by\n",
    "# location and then find the total revenue generated from each location.\n",
    "# Then we sort the values from largest to smallest, and get the top 5 best performing states\n",
    "\n",
    "df.groupby('location')['usd_purchase_total'].sum().sort_values(ascending=False).head(5).plot(kind='barh',\n",
    "                                                                                             color='green',\n",
    "                                                                                             edgecolor='black')\n",
    "plt.title('Top 5 Customer Demographic States', loc='left')\n",
    "plt.grid(axis='x')\n",
    "plt.xlabel('Total Revenue')\n",
    "plt.xlim([0, 6000])\n",
    "plt.ylabel('Top 5 States')\n",
    "plt.show()"
   ]
  },
  {
   "cell_type": "markdown",
   "metadata": {},
   "source": [
    "The results show Montana, Illinois, California, Idaho, and Nevada are where our largest customer demographic are from. It should be noted that it is interesting to see states like Montana, Idaho, and Nevada ranking in the top five despite being smaller states based on population. This shows that there are also opportunities to significantly grow in the larger states like California and New York."
   ]
  },
  {
   "cell_type": "code",
   "execution_count": null,
   "metadata": {},
   "outputs": [],
   "source": [
    "# It is also important to find which states has the largest demographic of male and female customers are\n",
    "# from so we have the option to perform more targeted marketing since our male and female customers\n",
    "# are widely different in age and cultural preferences.\n",
    "\n",
    "df[df['gender'] == 'male'].groupby('location')['usd_purchase_total'].sum().sort_values(ascending=False).head(5).plot(kind='barh',\n",
    "                                                                                                                     color='lightblue',\n",
    "                                                                                                                     edgecolor='black')\n",
    "plt.title('Top 5 Male Customer Demographic States', loc='left')\n",
    "plt.grid(axis='x')\n",
    "plt.xlabel('Total Revenue')\n",
    "plt.xlim([2000, 4000])\n",
    "plt.ylabel('Top 5 States')\n",
    "plt.show()"
   ]
  },
  {
   "cell_type": "markdown",
   "metadata": {},
   "source": [
    "Grouping only the male customers shows that the top five states for male customers have changed to West Virginia, California, Idaho, Missouri, and Illinois. This also tells us that our male and female demographic preferences can differ widely from state to state indicating that a targeted marketing effort could perform better than just a general marketing effort."
   ]
  },
  {
   "cell_type": "code",
   "execution_count": null,
   "metadata": {},
   "outputs": [],
   "source": [
    "# Now we are looking for the states with the highest performance for our female customers\n",
    "df[df['gender'] == 'female'].groupby('location')['usd_purchase_total'].sum().sort_values(ascending=False).head(5).plot(kind='barh',\n",
    "                                                                                                                       color='pink',\n",
    "                                                                                                                       edgecolor='black')\n",
    "plt.title('Top 5 Female Customer Demographic States', loc='left')\n",
    "plt.grid(axis='x')\n",
    "plt.xlabel('Total Revenue')\n",
    "plt.xlim([0, 2500])\n",
    "plt.ylabel('Top 5 States')\n",
    "plt.show()"
   ]
  },
  {
   "cell_type": "markdown",
   "metadata": {},
   "source": [
    "The top five states where our main female customer demographic reside in include Montana, Texas, Illinois, Idaho, and Nevada. This list is similar to the overall top 5 states except for Texas. Should we want to run a targeted marketed campaign for our women’s products, the first state that we should target would be Texas."
   ]
  },
  {
   "cell_type": "markdown",
   "metadata": {},
   "source": [
    "[Back to Table of Contents](#back)"
   ]
  },
  {
   "cell_type": "markdown",
   "metadata": {},
   "source": [
    "#### 1.2 Which items are highly rated by our customers? Size? Color?"
   ]
  },
  {
   "cell_type": "code",
   "execution_count": null,
   "metadata": {},
   "outputs": [],
   "source": [
    "# Finding the range in which our products are rated as\n",
    "print(df['customer_rating'].min())\n",
    "print(df['customer_rating'].mean().round(3))\n",
    "print(df['customer_rating'].max())"
   ]
  },
  {
   "cell_type": "markdown",
   "metadata": {},
   "source": [
    "Based on the minimum value 2.5/5 rating, a maximum value of 5/5 rating, and an average value of 3.7/5 rating for the overall business. This signals to the business that the sold products were seen as average at worst, and perfect at best which is a good sign of quality products."
   ]
  },
  {
   "cell_type": "code",
   "execution_count": null,
   "metadata": {},
   "outputs": [],
   "source": [
    "df.groupby(['category'])['customer_rating'].mean().sort_values().round(2).plot(kind='barh',\n",
    "                                                                               color='yellow',\n",
    "                                                                               edgecolor='black')\n",
    "plt.title('Customer Category Review Ratings', loc='left')\n",
    "plt.grid(axis='x')\n",
    "plt.xlim([3,4])\n",
    "plt.show()"
   ]
  },
  {
   "cell_type": "markdown",
   "metadata": {},
   "source": [
    "Grouping each category by their average rating shows us that our footwear had the highest rating by category and clothing had the lowest rating by category. "
   ]
  },
  {
   "cell_type": "markdown",
   "metadata": {},
   "source": [
    "product_ratings_green_filter = product_ratings >= avg_rating\n",
    "product_ratings_red_filter = product_ratings < avg_rating\n",
    "\n",
    "product_ratings_green = product_ratings[product_ratings_green_filter]\n",
    "product_ratings_red = product_ratings[product_ratings_red_filter]"
   ]
  },
  {
   "cell_type": "code",
   "execution_count": null,
   "metadata": {},
   "outputs": [],
   "source": [
    "product_ratings = df.groupby(['item_purchased'])['customer_rating'].mean().sort_values(ascending=False)\n",
    "avg_rating = df['customer_rating'].mean()\n",
    "\n",
    "col = []\n",
    "for i in product_ratings:\n",
    "    if i >= avg_rating:\n",
    "        col.append('green')\n",
    "    else:\n",
    "        col.append('red')\n",
    "\n",
    "product_ratings.plot(kind='barh',\n",
    "                     color=col,\n",
    "                     edgecolor='black')\n",
    "plt.title('Customer Product Review Ratings', loc='left')\n",
    "plt.axvline(x=avg_rating, \n",
    "            color='black', \n",
    "            linestyle='--')\n",
    "plt.text(3.77, 4.5, 'Average Rating')\n",
    "plt.grid(axis='x', linestyle='--')\n",
    "plt.xlim([3,4])\n",
    "plt.show()"
   ]
  },
  {
   "cell_type": "code",
   "execution_count": null,
   "metadata": {},
   "outputs": [],
   "source": [
    "sns.boxplot(df, x=df['item_purchased'], y=df['age'], width=0.5)\n",
    "sns.despine(offset=10, trim=True)\n",
    "plt.title('Items Purchased by Age Group', loc='left')\n",
    "plt.grid(axis='y')\n",
    "plt.xlabel('Item Purchased')\n",
    "plt.xticks(rotation=90)\n",
    "plt.ylabel('Customer Age')\n",
    "plt.show()"
   ]
  },
  {
   "cell_type": "code",
   "execution_count": null,
   "metadata": {},
   "outputs": [],
   "source": [
    "df['size'].value_counts().sort_values().plot(kind='bar',\n",
    "                                             edgecolor='black')\n",
    "plt.title('Total Orders Per Size', loc='left')\n",
    "plt.grid(axis='y', linestyle='--')\n",
    "plt.xlabel('Product Sizes')\n",
    "plt.xticks(rotation=0)\n",
    "plt.ylabel('Total Orders')\n",
    "plt.show()"
   ]
  },
  {
   "cell_type": "code",
   "execution_count": null,
   "metadata": {},
   "outputs": [],
   "source": [
    "df['color'].value_counts().sort_values().head(10).plot(kind='barh',\n",
    "                                                       edgecolor='black')\n",
    "plt.title('Top 10 Most Popular Product Colors ', loc='left')\n",
    "plt.grid(axis='x', linestyle='--')\n",
    "plt.xlabel('Quantity Sold')\n",
    "plt.ylabel('Top 10 Colors')\n",
    "plt.show()"
   ]
  },
  {
   "cell_type": "markdown",
   "metadata": {},
   "source": [
    "[Back to Table of Contents](#back)"
   ]
  },
  {
   "cell_type": "markdown",
   "metadata": {},
   "source": [
    "#### 1.3 What is the market sentiment of our products?"
   ]
  },
  {
   "cell_type": "code",
   "execution_count": null,
   "metadata": {},
   "outputs": [],
   "source": [
    "df['shipping_type'].value_counts().plot(kind='pie',\n",
    "                                 autopct='%1.1f%%',\n",
    "                                 colors=['dodgerblue', 'sandybrown'],\n",
    "                                 radius=1.25)\n",
    "plt.title('Customer Gender Demographic')\n",
    "plt.legend(title='Gender',\n",
    "           loc=[0.95,.75])\n",
    "plt.show()"
   ]
  },
  {
   "cell_type": "markdown",
   "metadata": {},
   "source": [
    "Based on the dataset it shows that about 2/3 customers go out of their way to pay for a form of premium shipping. This is a good sign of market sentiment that most of our customers view paying for premium shipping to get their orders faster as worth the cost. "
   ]
  },
  {
   "cell_type": "code",
   "execution_count": null,
   "metadata": {},
   "outputs": [],
   "source": [
    "ordered_before = df[df['previous_orders'] > 1]['previous_orders'].count()\n",
    "ordered_before_10_times = df[df['previous_orders'] >= 10]['previous_orders'].count()\n",
    "ordered_before_25_times = df[df['previous_orders'] >= 25]['previous_orders'].count()\n",
    "total_customers = len(df)"
   ]
  },
  {
   "cell_type": "code",
   "execution_count": null,
   "metadata": {},
   "outputs": [],
   "source": [
    "(ordered_before / total_customers).round(3)"
   ]
  },
  {
   "cell_type": "code",
   "execution_count": null,
   "metadata": {},
   "outputs": [],
   "source": [
    "(ordered_before_10_times / total_customers).round(3)"
   ]
  },
  {
   "cell_type": "code",
   "execution_count": null,
   "metadata": {},
   "outputs": [],
   "source": [
    "(ordered_before_25_times / total_customers).round(3)"
   ]
  },
  {
   "cell_type": "code",
   "execution_count": null,
   "metadata": {},
   "outputs": [],
   "source": [
    "monthly_orders = (df[df['order_freq'] == 'monthly']['order_freq'].count())\n",
    "quarterly_orders = (df[df['order_freq'] == 'quarterly']['order_freq'].count())\n",
    "annually_orders = (df[df['order_freq'] == 'annually']['order_freq'].count())"
   ]
  },
  {
   "cell_type": "code",
   "execution_count": null,
   "metadata": {},
   "outputs": [],
   "source": [
    "(monthly_orders / total_customers).round(3)"
   ]
  },
  {
   "cell_type": "code",
   "execution_count": null,
   "metadata": {},
   "outputs": [],
   "source": [
    "(quarterly_orders / total_customers).round(3)"
   ]
  },
  {
   "cell_type": "code",
   "execution_count": null,
   "metadata": {},
   "outputs": [],
   "source": [
    "(annually_orders / total_customers).round(3)"
   ]
  },
  {
   "cell_type": "markdown",
   "metadata": {},
   "source": [
    "##### 1.4 What are their prefered method of transaction?"
   ]
  },
  {
   "cell_type": "code",
   "execution_count": null,
   "metadata": {},
   "outputs": [],
   "source": [
    "df['payment_method'].value_counts().sort_values(ascending=False).plot(kind='bar',\n",
    "                                                                      color=['blue', 'yellow', 'Green'],\n",
    "                                                                      edgecolor='black')\n",
    "plt.title('Prefered Transaction Method')\n",
    "plt.grid(axis='y')\n",
    "plt.xlabel('Payment Methods')\n",
    "plt.xticks(rotation=45)\n",
    "plt.ylabel('Total Transactions')\n",
    "plt.ylim([800, 1350])\n",
    "plt.show()"
   ]
  },
  {
   "cell_type": "markdown",
   "metadata": {},
   "source": [
    "[Back to Table of Contents](#back)"
   ]
  },
  {
   "cell_type": "markdown",
   "metadata": {},
   "source": [
    "### 2. Business performance"
   ]
  },
  {
   "cell_type": "markdown",
   "metadata": {},
   "source": [
    "#### 2.1 What is the best selling items?"
   ]
  },
  {
   "cell_type": "code",
   "execution_count": null,
   "metadata": {},
   "outputs": [],
   "source": [
    "df.groupby('category')['usd_purchase_total'].sum().sort_values(ascending=False)"
   ]
  },
  {
   "cell_type": "code",
   "execution_count": null,
   "metadata": {},
   "outputs": [],
   "source": [
    "df.groupby('item_purchased')['usd_purchase_total'].count().sort_values(ascending=False).head(5)"
   ]
  },
  {
   "cell_type": "markdown",
   "metadata": {},
   "source": [
    "[Back to Table of Contents](#back)"
   ]
  },
  {
   "cell_type": "markdown",
   "metadata": {},
   "source": [
    "#### 2.2 Does subscription status increase sales?"
   ]
  },
  {
   "cell_type": "code",
   "execution_count": null,
   "metadata": {},
   "outputs": [],
   "source": [
    "df[df['sub_status'] == 'yes']['sub_status'].count()"
   ]
  },
  {
   "cell_type": "code",
   "execution_count": null,
   "metadata": {},
   "outputs": [],
   "source": [
    "df[df['sub_status'] == 'yes']['usd_purchase_total'].sum()"
   ]
  },
  {
   "cell_type": "code",
   "execution_count": null,
   "metadata": {},
   "outputs": [],
   "source": [
    "df[df['sub_status'] == 'no']['sub_status'].count()"
   ]
  },
  {
   "cell_type": "code",
   "execution_count": null,
   "metadata": {},
   "outputs": [],
   "source": [
    "df[df['sub_status'] == 'no']['usd_purchase_total'].sum()"
   ]
  },
  {
   "cell_type": "markdown",
   "metadata": {},
   "source": [
    "[Back to Table of Contents](#back)"
   ]
  },
  {
   "cell_type": "markdown",
   "metadata": {},
   "source": [
    "#### 2.3 Are there areas within the business for improvement?"
   ]
  },
  {
   "cell_type": "code",
   "execution_count": null,
   "metadata": {},
   "outputs": [],
   "source": []
  },
  {
   "cell_type": "code",
   "execution_count": null,
   "metadata": {},
   "outputs": [],
   "source": []
  },
  {
   "cell_type": "markdown",
   "metadata": {},
   "source": [
    "[Back to Table of Contents](#back)"
   ]
  },
  {
   "cell_type": "markdown",
   "metadata": {},
   "source": [
    "### 3. Identifying trends within the data"
   ]
  },
  {
   "cell_type": "markdown",
   "metadata": {},
   "source": [
    "#### 3.1 Which season does the company perform best?"
   ]
  },
  {
   "cell_type": "code",
   "execution_count": null,
   "metadata": {},
   "outputs": [],
   "source": [
    "avg_seasonal_rev = df.groupby(['season'])['usd_purchase_total'].sum().mean()\n",
    "\n",
    "df.groupby(['season'])['usd_purchase_total'].sum().sort_values(ascending=False).plot(kind='barh',\n",
    "                                                                                     color=['navajowhite', 'palegreen', 'skyblue', 'lightpink'],\n",
    "                                                                                     edgecolor='black')\n",
    "plt.grid(axis='x')\n",
    "plt.axvline(x=avg_seasonal_rev, \n",
    "            color='black', \n",
    "            linestyle='--')\n",
    "plt.text(2, 3, 'Average Seasonal Revenue')\n",
    "plt.title('Total Seasonal Revenue')\n",
    "plt.xlabel('Lifetime Total Revenue')\n",
    "plt.xlim([50000, 64000])\n",
    "plt.ylabel('Season')\n",
    "plt.show()"
   ]
  },
  {
   "cell_type": "markdown",
   "metadata": {},
   "source": [
    "[Back to Table of Contents](#back)"
   ]
  },
  {
   "cell_type": "markdown",
   "metadata": {},
   "source": [
    "#### 3.2 What is our customer retention?"
   ]
  },
  {
   "cell_type": "code",
   "execution_count": null,
   "metadata": {},
   "outputs": [],
   "source": [
    "def customer_orders(prev_orders):\n",
    "    order_before_rate = (prev_orders / total_customers).round(2)\n",
    "    not_ordered_before_rate = (1 - order_before_rate)\n",
    "    ordered_before_rate = pd.Series([order_before_rate, not_ordered_before_rate])\n",
    "    return ordered_before_rate"
   ]
  },
  {
   "cell_type": "code",
   "execution_count": null,
   "metadata": {},
   "outputs": [],
   "source": [
    "customer_orders(ordered_before).plot(kind='pie',\n",
    "                                     autopct='%1.1f%%',\n",
    "                                     fontsize=11,\n",
    "                                     labels=['Ordered Before', 'Not Ordered Before'],\n",
    "                                     radius=1.25)\n",
    "plt.legend(title='Lifetime Revenue',\n",
    "           loc=[0.95, 0.75])\n",
    "plt.title('First Time Customers')\n",
    "plt.show()"
   ]
  },
  {
   "cell_type": "code",
   "execution_count": null,
   "metadata": {},
   "outputs": [],
   "source": [
    "customer_orders(ordered_before_10_times).plot(kind='pie',\n",
    "                                                   autopct='%1.1f%%',\n",
    "                                                   fontsize=11,\n",
    "                                                   labels=['Ordered Before', 'Ordered Less than 10 Items Before'],\n",
    "                                                   radius=1.25)\n",
    "plt.legend(title='Customer Experience',\n",
    "           loc=[0.95, 0.75])\n",
    "plt.title('Tenth Time Customers')\n",
    "plt.show()"
   ]
  },
  {
   "cell_type": "code",
   "execution_count": null,
   "metadata": {},
   "outputs": [],
   "source": [
    "customer_orders(ordered_before_25_times).plot(kind='pie',\n",
    "                                                   autopct='%1.1f%%',\n",
    "                                                   fontsize=11,\n",
    "                                                   labels=['Ordered Before', 'Not Ordered Before'],\n",
    "                                                   radius=1.25)\n",
    "plt.legend(title='Lifetime Revenue',\n",
    "           loc=[0.95, 0.75])\n",
    "plt.title('First Time Customers',\n",
    "           x= 1, y=1)\n",
    "plt.show()"
   ]
  },
  {
   "cell_type": "code",
   "execution_count": null,
   "metadata": {},
   "outputs": [],
   "source": [
    "customer_orders(monthly_orders).plot(kind='pie',\n",
    "                                                   autopct='%1.1f%%',\n",
    "                                                   fontsize=11,\n",
    "                                                   labels=['Ordered Before', 'Not Ordered Before'],\n",
    "                                                   radius=1.25)\n",
    "plt.legend(title='Lifetime Revenue',\n",
    "           loc=[0.95, 0.75])\n",
    "plt.title('First Time Customers',\n",
    "           x= 1, y=1)\n",
    "plt.show()"
   ]
  },
  {
   "cell_type": "code",
   "execution_count": null,
   "metadata": {},
   "outputs": [],
   "source": [
    "customer_orders(quarterly_orders).plot(kind='pie',\n",
    "                                                   autopct='%1.1f%%',\n",
    "                                                   fontsize=11,\n",
    "                                                   labels=['Ordered Before', 'Not Ordered Before'],\n",
    "                                                   radius=1.25)\n",
    "plt.legend(title='Lifetime Revenue',\n",
    "           loc=[0.95, 0.75])\n",
    "plt.title('First Time Customers',\n",
    "           x= 1, y=1)\n",
    "plt.show()"
   ]
  },
  {
   "cell_type": "code",
   "execution_count": null,
   "metadata": {},
   "outputs": [],
   "source": [
    "customer_orders(annually_orders).plot(kind='pie',\n",
    "                                                   autopct='%1.1f%%',\n",
    "                                                   fontsize=11,\n",
    "                                                   labels=['Ordered Before', 'Not Ordered Before'],\n",
    "                                                   radius=1.25)\n",
    "plt.legend(title='Lifetime Revenue',\n",
    "           loc=[0.95, 0.75])\n",
    "plt.title('First Time Customers',\n",
    "           x= 1, y=1)\n",
    "plt.show()"
   ]
  },
  {
   "cell_type": "markdown",
   "metadata": {},
   "source": [
    "[Back to Table of Contents](#back)"
   ]
  },
  {
   "cell_type": "markdown",
   "metadata": {},
   "source": [
    "## Conclusions and Reccomendations"
   ]
  },
  {
   "cell_type": "markdown",
   "metadata": {},
   "source": []
  },
  {
   "cell_type": "markdown",
   "metadata": {},
   "source": [
    "## Dataset Citation\n",
    "\n",
    "Zee solver. (2023, October). Consumer Behavior and Shopping Habits Dataset, Version 1. Retrieved December 14, 2023 from [Kaggle](https://www.kaggle.com/datasets/zeesolver/consumer-behavior-and-shopping-habits-dataset/data)."
   ]
  },
  {
   "cell_type": "markdown",
   "metadata": {},
   "source": [
    "[Back to Table of Contents](#back)"
   ]
  }
 ],
 "metadata": {
  "kernelspec": {
   "display_name": "base",
   "language": "python",
   "name": "python3"
  },
  "language_info": {
   "codemirror_mode": {
    "name": "ipython",
    "version": 3
   },
   "file_extension": ".py",
   "mimetype": "text/x-python",
   "name": "python",
   "nbconvert_exporter": "python",
   "pygments_lexer": "ipython3",
   "version": "3.10.9"
  },
  "orig_nbformat": 4
 },
 "nbformat": 4,
 "nbformat_minor": 2
}
