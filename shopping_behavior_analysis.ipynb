{
 "cells": [
  {
   "cell_type": "markdown",
   "metadata": {},
   "source": [
    "# Shopping Behavior Exploratory Data Analysis <a id='back'></a>\n",
    "\n",
    "## Table of Contents\n",
    "- [Project Introduction](#project-introduction)\n",
    "    - [Analysis Outline Questions](#analysis-outline-questions)\n",
    "    - [Results](#results)\n",
    "- [Importing Libraries and Opening Data Files](#importing-libraries-and-opening-data-files)\n",
    "- [Pre-Processing Data](#pre-processing-data)\n",
    "    - [Data Structure Overhaul](#data-structure-overhaul)\n",
    "        - [Header Style](#header-style)\n",
    "        - [Formatting and Data Usage](#formatting-and-data-usage)\n",
    "    - [Duplicates](#duplicates)\n",
    "    - [Missing Values](#missing-values)\n",
    "    - [Removing Irrelevant Data](#removing-irrelevant-data)\n",
    "- [Exploratory Data Analysis](#exploratory-data-analysis)\n",
    "    - [1. Identifying Customers](#1.-identifying-customers)\n",
    "        - [1.1 Who are our main customer demographic? Where are they from?](#1.1-who-are-our-main-customer-demographic?-where-are-they-from?)\n",
    "        - [1.2 Which products do customers love the most? Size? Color?](#1.2-which-products-do-customers-love-the-most?-size?-color?)\n",
    "        - [1.3 What is the customer sentiment about the business?](#1.3-what-is-the-customer-sentiment-about-the-business?)\n",
    "        - [1.4 What are the customer's prefered method of transaction?](#1.4-what-are-the-customer's-prefered-method-of-transaction?)\n",
    "    - [2. Business Performance and Trends](#2.-business-performance-and-trends)\n",
    "        - [2.1 What are the best selling products?](#2.1-what-are-the-best-selling-products?)\n",
    "        - [2.2 What is our customer retention?](#2.2-what-is-our-customer-retention?)\n",
    "        - [2.3 Does subscription status increase sales?](#2.3-does-subscription-status-increase-sales?)\n",
    "        - [2.4 Does having discounts increase sales?](#2.4-does-having-discounts-increase-sales?)\n",
    "        - [2.5 What time of the year is the busiest?](#2.5-what-time-of-the-year-is-the-busiest?)\n",
    "- [Conclusions and Reccomendations](#conclusions-and-reccomendations)\n",
    "- [Dataset Citation](#dataset-citation)"
   ]
  },
  {
   "cell_type": "markdown",
   "metadata": {},
   "source": [
    "## Project Introduction\n",
    "\n",
    "This is a Kaggle-sourced dataset used to refine my data analytics skills further and gain more data science experience. The Customer Behavior and Shopping Habits Dataset contains a variety of intricate insights into customer preferences and mannerisms when shopping from this untitled online source. Throughout the project, I will discover and answer insights within the data I find interesting and useful to optimize business performance and growth."
   ]
  },
  {
   "cell_type": "markdown",
   "metadata": {},
   "source": [
    "### Analysis Outline Questions\n",
    "\n",
    "Before looking at the dataset, there were several interesting questions I wanted to learn more about. Below are the insights I am interested in exploring more:\n",
    "\n",
    "- 1. Identifying our customers\n",
    "\n",
    "    - 1.1 Who is our main customer demographic? Where are they from?\n",
    "   \n",
    "    - 1.2 Which products do customers love the most? Size? Color?\n",
    "   \n",
    "    - 1.3 What is the customer sentiment about the business?\n",
    "   \n",
    "    - 1.4 What are the customer's preferred methods of transaction?\n",
    "    \n",
    "   \n",
    "- 2. Business performance and trends\n",
    "   \n",
    "    - 2.1 What are the best-selling products?\n",
    "  \n",
    "    - 2.2 What is our customer retention?\n",
    "  \n",
    "    - 2.3 Does subscription status increase sales?\n",
    "  \n",
    "    - 2.4 Does having discounts increase sales?\n",
    "  \n",
    "    - 2.5 What time of the year is the busiest?\n"
   ]
  },
  {
   "cell_type": "markdown",
   "metadata": {},
   "source": [
    "### Results\n",
    "\n",
    "-\tDiscovered the primary customer demographic, their age, and where they are located\n",
    "\n",
    "-\tConfidently gauged and analyzed customer sentiment towards their products\n",
    "\n",
    "-\tMade suggestions on how to grow the customer base to new customers\n",
    "\n",
    "-\tRevealed new areas of improvement to increase product quality and increase customer satisfaction\n",
    "\n",
    "-\tBrought light on business practices that could be improved upon or removed to lower costs and increase revenue"
   ]
  },
  {
   "cell_type": "markdown",
   "metadata": {},
   "source": [
    "## Importing Libraries and Opening Data Files"
   ]
  },
  {
   "cell_type": "code",
   "execution_count": 1,
   "metadata": {},
   "outputs": [],
   "source": [
    "# Importing the needed libraries for this assignment\n",
    "import pandas as pd\n",
    "from matplotlib import pyplot as plt\n",
    "import seaborn as sns\n",
    "import folium\n",
    "from geopy.geocoders import Nominatim\n",
    "import requests"
   ]
  },
  {
   "cell_type": "code",
   "execution_count": 2,
   "metadata": {},
   "outputs": [],
   "source": [
    "# Importing file for assignment\n",
    "try:\n",
    "    df = pd.read_csv('shopping_behavior_updated.csv', sep=',')\n",
    "except:\n",
    "    df = pd.read_csv('/datasets/shopping_behavior_updated.csv', sep=',')"
   ]
  },
  {
   "cell_type": "markdown",
   "metadata": {},
   "source": [
    "[Back to Table of Contents](#back)"
   ]
  },
  {
   "cell_type": "markdown",
   "metadata": {},
   "source": [
    "## Pre-processing Data\n",
    "\n",
    "### Data Structure Overhaul"
   ]
  },
  {
   "cell_type": "code",
   "execution_count": 3,
   "metadata": {},
   "outputs": [
    {
     "data": {
      "text/html": [
       "<div>\n",
       "<style scoped>\n",
       "    .dataframe tbody tr th:only-of-type {\n",
       "        vertical-align: middle;\n",
       "    }\n",
       "\n",
       "    .dataframe tbody tr th {\n",
       "        vertical-align: top;\n",
       "    }\n",
       "\n",
       "    .dataframe thead th {\n",
       "        text-align: right;\n",
       "    }\n",
       "</style>\n",
       "<table border=\"1\" class=\"dataframe\">\n",
       "  <thead>\n",
       "    <tr style=\"text-align: right;\">\n",
       "      <th></th>\n",
       "      <th>Customer ID</th>\n",
       "      <th>Age</th>\n",
       "      <th>Purchase Amount (USD)</th>\n",
       "      <th>Review Rating</th>\n",
       "      <th>Previous Purchases</th>\n",
       "    </tr>\n",
       "  </thead>\n",
       "  <tbody>\n",
       "    <tr>\n",
       "      <th>count</th>\n",
       "      <td>3900.000000</td>\n",
       "      <td>3900.000000</td>\n",
       "      <td>3900.000000</td>\n",
       "      <td>3900.000000</td>\n",
       "      <td>3900.000000</td>\n",
       "    </tr>\n",
       "    <tr>\n",
       "      <th>mean</th>\n",
       "      <td>1950.500000</td>\n",
       "      <td>44.068462</td>\n",
       "      <td>59.764359</td>\n",
       "      <td>3.749949</td>\n",
       "      <td>25.351538</td>\n",
       "    </tr>\n",
       "    <tr>\n",
       "      <th>std</th>\n",
       "      <td>1125.977353</td>\n",
       "      <td>15.207589</td>\n",
       "      <td>23.685392</td>\n",
       "      <td>0.716223</td>\n",
       "      <td>14.447125</td>\n",
       "    </tr>\n",
       "    <tr>\n",
       "      <th>min</th>\n",
       "      <td>1.000000</td>\n",
       "      <td>18.000000</td>\n",
       "      <td>20.000000</td>\n",
       "      <td>2.500000</td>\n",
       "      <td>1.000000</td>\n",
       "    </tr>\n",
       "    <tr>\n",
       "      <th>25%</th>\n",
       "      <td>975.750000</td>\n",
       "      <td>31.000000</td>\n",
       "      <td>39.000000</td>\n",
       "      <td>3.100000</td>\n",
       "      <td>13.000000</td>\n",
       "    </tr>\n",
       "    <tr>\n",
       "      <th>50%</th>\n",
       "      <td>1950.500000</td>\n",
       "      <td>44.000000</td>\n",
       "      <td>60.000000</td>\n",
       "      <td>3.700000</td>\n",
       "      <td>25.000000</td>\n",
       "    </tr>\n",
       "    <tr>\n",
       "      <th>75%</th>\n",
       "      <td>2925.250000</td>\n",
       "      <td>57.000000</td>\n",
       "      <td>81.000000</td>\n",
       "      <td>4.400000</td>\n",
       "      <td>38.000000</td>\n",
       "    </tr>\n",
       "    <tr>\n",
       "      <th>max</th>\n",
       "      <td>3900.000000</td>\n",
       "      <td>70.000000</td>\n",
       "      <td>100.000000</td>\n",
       "      <td>5.000000</td>\n",
       "      <td>50.000000</td>\n",
       "    </tr>\n",
       "  </tbody>\n",
       "</table>\n",
       "</div>"
      ],
      "text/plain": [
       "       Customer ID          Age  Purchase Amount (USD)  Review Rating  \\\n",
       "count  3900.000000  3900.000000            3900.000000    3900.000000   \n",
       "mean   1950.500000    44.068462              59.764359       3.749949   \n",
       "std    1125.977353    15.207589              23.685392       0.716223   \n",
       "min       1.000000    18.000000              20.000000       2.500000   \n",
       "25%     975.750000    31.000000              39.000000       3.100000   \n",
       "50%    1950.500000    44.000000              60.000000       3.700000   \n",
       "75%    2925.250000    57.000000              81.000000       4.400000   \n",
       "max    3900.000000    70.000000             100.000000       5.000000   \n",
       "\n",
       "       Previous Purchases  \n",
       "count         3900.000000  \n",
       "mean            25.351538  \n",
       "std             14.447125  \n",
       "min              1.000000  \n",
       "25%             13.000000  \n",
       "50%             25.000000  \n",
       "75%             38.000000  \n",
       "max             50.000000  "
      ]
     },
     "execution_count": 3,
     "metadata": {},
     "output_type": "execute_result"
    }
   ],
   "source": [
    "df.describe()"
   ]
  },
  {
   "cell_type": "code",
   "execution_count": 4,
   "metadata": {},
   "outputs": [
    {
     "data": {
      "text/html": [
       "<div>\n",
       "<style scoped>\n",
       "    .dataframe tbody tr th:only-of-type {\n",
       "        vertical-align: middle;\n",
       "    }\n",
       "\n",
       "    .dataframe tbody tr th {\n",
       "        vertical-align: top;\n",
       "    }\n",
       "\n",
       "    .dataframe thead th {\n",
       "        text-align: right;\n",
       "    }\n",
       "</style>\n",
       "<table border=\"1\" class=\"dataframe\">\n",
       "  <thead>\n",
       "    <tr style=\"text-align: right;\">\n",
       "      <th></th>\n",
       "      <th>Customer ID</th>\n",
       "      <th>Age</th>\n",
       "      <th>Gender</th>\n",
       "      <th>Item Purchased</th>\n",
       "      <th>Category</th>\n",
       "      <th>Purchase Amount (USD)</th>\n",
       "      <th>Location</th>\n",
       "      <th>Size</th>\n",
       "      <th>Color</th>\n",
       "      <th>Season</th>\n",
       "      <th>Review Rating</th>\n",
       "      <th>Subscription Status</th>\n",
       "      <th>Shipping Type</th>\n",
       "      <th>Discount Applied</th>\n",
       "      <th>Promo Code Used</th>\n",
       "      <th>Previous Purchases</th>\n",
       "      <th>Payment Method</th>\n",
       "      <th>Frequency of Purchases</th>\n",
       "    </tr>\n",
       "  </thead>\n",
       "  <tbody>\n",
       "    <tr>\n",
       "      <th>0</th>\n",
       "      <td>1</td>\n",
       "      <td>55</td>\n",
       "      <td>Male</td>\n",
       "      <td>Blouse</td>\n",
       "      <td>Clothing</td>\n",
       "      <td>53</td>\n",
       "      <td>Kentucky</td>\n",
       "      <td>L</td>\n",
       "      <td>Gray</td>\n",
       "      <td>Winter</td>\n",
       "      <td>3.1</td>\n",
       "      <td>Yes</td>\n",
       "      <td>Express</td>\n",
       "      <td>Yes</td>\n",
       "      <td>Yes</td>\n",
       "      <td>14</td>\n",
       "      <td>Venmo</td>\n",
       "      <td>Fortnightly</td>\n",
       "    </tr>\n",
       "    <tr>\n",
       "      <th>1</th>\n",
       "      <td>2</td>\n",
       "      <td>19</td>\n",
       "      <td>Male</td>\n",
       "      <td>Sweater</td>\n",
       "      <td>Clothing</td>\n",
       "      <td>64</td>\n",
       "      <td>Maine</td>\n",
       "      <td>L</td>\n",
       "      <td>Maroon</td>\n",
       "      <td>Winter</td>\n",
       "      <td>3.1</td>\n",
       "      <td>Yes</td>\n",
       "      <td>Express</td>\n",
       "      <td>Yes</td>\n",
       "      <td>Yes</td>\n",
       "      <td>2</td>\n",
       "      <td>Cash</td>\n",
       "      <td>Fortnightly</td>\n",
       "    </tr>\n",
       "    <tr>\n",
       "      <th>2</th>\n",
       "      <td>3</td>\n",
       "      <td>50</td>\n",
       "      <td>Male</td>\n",
       "      <td>Jeans</td>\n",
       "      <td>Clothing</td>\n",
       "      <td>73</td>\n",
       "      <td>Massachusetts</td>\n",
       "      <td>S</td>\n",
       "      <td>Maroon</td>\n",
       "      <td>Spring</td>\n",
       "      <td>3.1</td>\n",
       "      <td>Yes</td>\n",
       "      <td>Free Shipping</td>\n",
       "      <td>Yes</td>\n",
       "      <td>Yes</td>\n",
       "      <td>23</td>\n",
       "      <td>Credit Card</td>\n",
       "      <td>Weekly</td>\n",
       "    </tr>\n",
       "    <tr>\n",
       "      <th>3</th>\n",
       "      <td>4</td>\n",
       "      <td>21</td>\n",
       "      <td>Male</td>\n",
       "      <td>Sandals</td>\n",
       "      <td>Footwear</td>\n",
       "      <td>90</td>\n",
       "      <td>Rhode Island</td>\n",
       "      <td>M</td>\n",
       "      <td>Maroon</td>\n",
       "      <td>Spring</td>\n",
       "      <td>3.5</td>\n",
       "      <td>Yes</td>\n",
       "      <td>Next Day Air</td>\n",
       "      <td>Yes</td>\n",
       "      <td>Yes</td>\n",
       "      <td>49</td>\n",
       "      <td>PayPal</td>\n",
       "      <td>Weekly</td>\n",
       "    </tr>\n",
       "    <tr>\n",
       "      <th>4</th>\n",
       "      <td>5</td>\n",
       "      <td>45</td>\n",
       "      <td>Male</td>\n",
       "      <td>Blouse</td>\n",
       "      <td>Clothing</td>\n",
       "      <td>49</td>\n",
       "      <td>Oregon</td>\n",
       "      <td>M</td>\n",
       "      <td>Turquoise</td>\n",
       "      <td>Spring</td>\n",
       "      <td>2.7</td>\n",
       "      <td>Yes</td>\n",
       "      <td>Free Shipping</td>\n",
       "      <td>Yes</td>\n",
       "      <td>Yes</td>\n",
       "      <td>31</td>\n",
       "      <td>PayPal</td>\n",
       "      <td>Annually</td>\n",
       "    </tr>\n",
       "  </tbody>\n",
       "</table>\n",
       "</div>"
      ],
      "text/plain": [
       "   Customer ID  Age Gender Item Purchased  Category  Purchase Amount (USD)  \\\n",
       "0            1   55   Male         Blouse  Clothing                     53   \n",
       "1            2   19   Male        Sweater  Clothing                     64   \n",
       "2            3   50   Male          Jeans  Clothing                     73   \n",
       "3            4   21   Male        Sandals  Footwear                     90   \n",
       "4            5   45   Male         Blouse  Clothing                     49   \n",
       "\n",
       "        Location Size      Color  Season  Review Rating Subscription Status  \\\n",
       "0       Kentucky    L       Gray  Winter            3.1                 Yes   \n",
       "1          Maine    L     Maroon  Winter            3.1                 Yes   \n",
       "2  Massachusetts    S     Maroon  Spring            3.1                 Yes   \n",
       "3   Rhode Island    M     Maroon  Spring            3.5                 Yes   \n",
       "4         Oregon    M  Turquoise  Spring            2.7                 Yes   \n",
       "\n",
       "   Shipping Type Discount Applied Promo Code Used  Previous Purchases  \\\n",
       "0        Express              Yes             Yes                  14   \n",
       "1        Express              Yes             Yes                   2   \n",
       "2  Free Shipping              Yes             Yes                  23   \n",
       "3   Next Day Air              Yes             Yes                  49   \n",
       "4  Free Shipping              Yes             Yes                  31   \n",
       "\n",
       "  Payment Method Frequency of Purchases  \n",
       "0          Venmo            Fortnightly  \n",
       "1           Cash            Fortnightly  \n",
       "2    Credit Card                 Weekly  \n",
       "3         PayPal                 Weekly  \n",
       "4         PayPal               Annually  "
      ]
     },
     "execution_count": 4,
     "metadata": {},
     "output_type": "execute_result"
    }
   ],
   "source": [
    "df.head()"
   ]
  },
  {
   "cell_type": "markdown",
   "metadata": {},
   "source": [
    "#### Header Style"
   ]
  },
  {
   "cell_type": "code",
   "execution_count": 5,
   "metadata": {},
   "outputs": [
    {
     "name": "stdout",
     "output_type": "stream",
     "text": [
      "<class 'pandas.core.frame.DataFrame'>\n",
      "RangeIndex: 3900 entries, 0 to 3899\n",
      "Data columns (total 18 columns):\n",
      " #   Column                  Non-Null Count  Dtype  \n",
      "---  ------                  --------------  -----  \n",
      " 0   Customer ID             3900 non-null   int64  \n",
      " 1   Age                     3900 non-null   int64  \n",
      " 2   Gender                  3900 non-null   object \n",
      " 3   Item Purchased          3900 non-null   object \n",
      " 4   Category                3900 non-null   object \n",
      " 5   Purchase Amount (USD)   3900 non-null   int64  \n",
      " 6   Location                3900 non-null   object \n",
      " 7   Size                    3900 non-null   object \n",
      " 8   Color                   3900 non-null   object \n",
      " 9   Season                  3900 non-null   object \n",
      " 10  Review Rating           3900 non-null   float64\n",
      " 11  Subscription Status     3900 non-null   object \n",
      " 12  Shipping Type           3900 non-null   object \n",
      " 13  Discount Applied        3900 non-null   object \n",
      " 14  Promo Code Used         3900 non-null   object \n",
      " 15  Previous Purchases      3900 non-null   int64  \n",
      " 16  Payment Method          3900 non-null   object \n",
      " 17  Frequency of Purchases  3900 non-null   object \n",
      "dtypes: float64(1), int64(4), object(13)\n",
      "memory usage: 548.6+ KB\n"
     ]
    }
   ],
   "source": [
    "# Getting general information about the dataset\n",
    "df.info()"
   ]
  },
  {
   "cell_type": "code",
   "execution_count": 6,
   "metadata": {},
   "outputs": [
    {
     "data": {
      "text/plain": [
       "Index(['Customer ID', 'Age', 'Gender', 'Item Purchased', 'Category',\n",
       "       'Purchase Amount (USD)', 'Location', 'Size', 'Color', 'Season',\n",
       "       'Review Rating', 'Subscription Status', 'Shipping Type',\n",
       "       'Discount Applied', 'Promo Code Used', 'Previous Purchases',\n",
       "       'Payment Method', 'Frequency of Purchases'],\n",
       "      dtype='object')"
      ]
     },
     "execution_count": 6,
     "metadata": {},
     "output_type": "execute_result"
    }
   ],
   "source": [
    "#checking for snakecase format\n",
    "df.columns"
   ]
  },
  {
   "cell_type": "code",
   "execution_count": 7,
   "metadata": {},
   "outputs": [
    {
     "data": {
      "text/plain": [
       "Index(['uid', 'age', 'gender', 'item_purchased', 'category',\n",
       "       'usd_purchase_total', 'location', 'size', 'color', 'season',\n",
       "       'customer_rating', 'sub_status', 'shipping_type', 'discount_applied',\n",
       "       'promo_code_applied', 'previous_orders', 'payment_method',\n",
       "       'order_freq'],\n",
       "      dtype='object')"
      ]
     },
     "execution_count": 7,
     "metadata": {},
     "output_type": "execute_result"
    }
   ],
   "source": [
    "# Renaming column names to snake_case format\n",
    "df = df.rename(columns={'Customer ID': 'uid',\n",
    "                        'Age': 'age',\n",
    "                        'Gender': 'gender',\n",
    "                        'Item Purchased': 'item_purchased',\n",
    "                        'Category': 'category',\n",
    "                        'Purchase Amount (USD)': 'usd_purchase_total',\n",
    "                        'Location': 'location',\n",
    "                        'Size': 'size',\n",
    "                        'Color': 'color',\n",
    "                        'Season': 'season',\n",
    "                        'Review Rating': 'customer_rating',\n",
    "                        'Subscription Status': 'sub_status',\n",
    "                        'Shipping Type': 'shipping_type',\n",
    "                        'Discount Applied': 'discount_applied',\n",
    "                        'Promo Code Used': 'promo_code_applied',\n",
    "                        'Previous Purchases': 'previous_orders',\n",
    "                        'Payment Method': 'payment_method',\n",
    "                        'Frequency of Purchases': 'order_freq'})\n",
    "df.columns"
   ]
  },
  {
   "cell_type": "markdown",
   "metadata": {},
   "source": [
    "[Back to Table of Contents](#back)"
   ]
  },
  {
   "cell_type": "markdown",
   "metadata": {},
   "source": [
    "#### Formatting and Data Usage"
   ]
  },
  {
   "cell_type": "code",
   "execution_count": 8,
   "metadata": {},
   "outputs": [
    {
     "data": {
      "text/plain": [
       "uid                   3900\n",
       "age                     53\n",
       "gender                   2\n",
       "item_purchased          25\n",
       "category                 4\n",
       "usd_purchase_total      81\n",
       "location                50\n",
       "size                     4\n",
       "color                   25\n",
       "season                   4\n",
       "customer_rating         26\n",
       "sub_status               2\n",
       "shipping_type            6\n",
       "discount_applied         2\n",
       "promo_code_applied       2\n",
       "previous_orders         50\n",
       "payment_method           6\n",
       "order_freq               7\n",
       "dtype: int64"
      ]
     },
     "execution_count": 8,
     "metadata": {},
     "output_type": "execute_result"
    }
   ],
   "source": [
    "# By using nunique we can find the total number of unique values in each column. Depending\n",
    "# on the number of unique results we can change the column data types to reduce data usage.\n",
    "df.nunique()"
   ]
  },
  {
   "cell_type": "code",
   "execution_count": 9,
   "metadata": {},
   "outputs": [
    {
     "data": {
      "text/plain": [
       "array(['Male', 'Female'], dtype=object)"
      ]
     },
     "execution_count": 9,
     "metadata": {},
     "output_type": "execute_result"
    }
   ],
   "source": [
    "# Checking column for snake_case format and number of unique outputs\n",
    "df['gender'].unique()"
   ]
  },
  {
   "cell_type": "code",
   "execution_count": 10,
   "metadata": {},
   "outputs": [
    {
     "data": {
      "text/plain": [
       "['male', 'female']\n",
       "Categories (2, object): ['female', 'male']"
      ]
     },
     "execution_count": 10,
     "metadata": {},
     "output_type": "execute_result"
    }
   ],
   "source": [
    "# Changing column to snake_case format and changing data type to reduce data usage\n",
    "df['gender'] = df['gender'].str.lower()\n",
    "df['gender'] = df['gender'].astype('category')\n",
    "df['gender'].unique()"
   ]
  },
  {
   "cell_type": "code",
   "execution_count": 11,
   "metadata": {},
   "outputs": [
    {
     "data": {
      "text/plain": [
       "array(['Blouse', 'Sweater', 'Jeans', 'Sandals', 'Sneakers', 'Shirt',\n",
       "       'Shorts', 'Coat', 'Handbag', 'Shoes', 'Dress', 'Skirt',\n",
       "       'Sunglasses', 'Pants', 'Jacket', 'Hoodie', 'Jewelry', 'T-shirt',\n",
       "       'Scarf', 'Hat', 'Socks', 'Backpack', 'Belt', 'Boots', 'Gloves'],\n",
       "      dtype=object)"
      ]
     },
     "execution_count": 11,
     "metadata": {},
     "output_type": "execute_result"
    }
   ],
   "source": [
    "# Checking column for snake_case format and number of unique outputs\n",
    "df['item_purchased'].unique()"
   ]
  },
  {
   "cell_type": "code",
   "execution_count": 12,
   "metadata": {},
   "outputs": [
    {
     "data": {
      "text/plain": [
       "array(['blouse', 'sweater', 'jeans', 'sandals', 'sneakers', 'shirt',\n",
       "       'shorts', 'coat', 'handbag', 'shoes', 'dress', 'skirt',\n",
       "       'sunglasses', 'pants', 'jacket', 'hoodie', 'jewelry', 't-shirt',\n",
       "       'scarf', 'hat', 'socks', 'backpack', 'belt', 'boots', 'gloves'],\n",
       "      dtype=object)"
      ]
     },
     "execution_count": 12,
     "metadata": {},
     "output_type": "execute_result"
    }
   ],
   "source": [
    "# Changing column to snake_case format\n",
    "# There are numerous unique values and will leave data type as an object\n",
    "df['item_purchased'] = df['item_purchased'].str.lower()\n",
    "df['item_purchased'].unique()"
   ]
  },
  {
   "cell_type": "code",
   "execution_count": 13,
   "metadata": {},
   "outputs": [
    {
     "data": {
      "text/plain": [
       "array(['Clothing', 'Footwear', 'Outerwear', 'Accessories'], dtype=object)"
      ]
     },
     "execution_count": 13,
     "metadata": {},
     "output_type": "execute_result"
    }
   ],
   "source": [
    "# Checking column for snake_case format and number of unique outputs\n",
    "df['category'].unique()"
   ]
  },
  {
   "cell_type": "code",
   "execution_count": 14,
   "metadata": {},
   "outputs": [
    {
     "data": {
      "text/plain": [
       "['clothing', 'footwear', 'outerwear', 'accessories']\n",
       "Categories (4, object): ['accessories', 'clothing', 'footwear', 'outerwear']"
      ]
     },
     "execution_count": 14,
     "metadata": {},
     "output_type": "execute_result"
    }
   ],
   "source": [
    "# Changing column to snake_case format and changing data type to reduce data usage\n",
    "df['category'] = df['category'].str.lower()\n",
    "df['category'] = df['category'].astype('category')\n",
    "df['category'].unique()"
   ]
  },
  {
   "cell_type": "code",
   "execution_count": 15,
   "metadata": {},
   "outputs": [
    {
     "data": {
      "text/plain": [
       "array(['Kentucky', 'Maine', 'Massachusetts', 'Rhode Island', 'Oregon',\n",
       "       'Wyoming', 'Montana', 'Louisiana', 'West Virginia', 'Missouri',\n",
       "       'Arkansas', 'Hawaii', 'Delaware', 'New Hampshire', 'New York',\n",
       "       'Alabama', 'Mississippi', 'North Carolina', 'California',\n",
       "       'Oklahoma', 'Florida', 'Texas', 'Nevada', 'Kansas', 'Colorado',\n",
       "       'North Dakota', 'Illinois', 'Indiana', 'Arizona', 'Alaska',\n",
       "       'Tennessee', 'Ohio', 'New Jersey', 'Maryland', 'Vermont',\n",
       "       'New Mexico', 'South Carolina', 'Idaho', 'Pennsylvania',\n",
       "       'Connecticut', 'Utah', 'Virginia', 'Georgia', 'Nebraska', 'Iowa',\n",
       "       'South Dakota', 'Minnesota', 'Washington', 'Wisconsin', 'Michigan'],\n",
       "      dtype=object)"
      ]
     },
     "execution_count": 15,
     "metadata": {},
     "output_type": "execute_result"
    }
   ],
   "source": [
    "# Checking column for snake_case format and number of unique outputs\n",
    "df['location'].unique()"
   ]
  },
  {
   "cell_type": "code",
   "execution_count": 16,
   "metadata": {},
   "outputs": [
    {
     "data": {
      "text/plain": [
       "array(['kentucky', 'maine', 'massachusetts', 'rhode_island', 'oregon',\n",
       "       'wyoming', 'montana', 'louisiana', 'west_virginia', 'missouri',\n",
       "       'arkansas', 'hawaii', 'delaware', 'new_hampshire', 'new_york',\n",
       "       'alabama', 'mississippi', 'north_carolina', 'california',\n",
       "       'oklahoma', 'florida', 'texas', 'nevada', 'kansas', 'colorado',\n",
       "       'north_dakota', 'illinois', 'indiana', 'arizona', 'alaska',\n",
       "       'tennessee', 'ohio', 'new_jersey', 'maryland', 'vermont',\n",
       "       'new_mexico', 'south_carolina', 'idaho', 'pennsylvania',\n",
       "       'connecticut', 'utah', 'virginia', 'georgia', 'nebraska', 'iowa',\n",
       "       'south_dakota', 'minnesota', 'washington', 'wisconsin', 'michigan'],\n",
       "      dtype=object)"
      ]
     },
     "execution_count": 16,
     "metadata": {},
     "output_type": "execute_result"
    }
   ],
   "source": [
    "# Changing column to snake_case format\n",
    "# There are numerous unique values and will leave data type as an object\n",
    "df['location'] = df['location'].str.lower()\n",
    "df['location'] = df['location'].apply(lambda x: x.replace(' ', '_'))\n",
    "df['location'].unique()"
   ]
  },
  {
   "cell_type": "code",
   "execution_count": 17,
   "metadata": {},
   "outputs": [
    {
     "data": {
      "text/plain": [
       "array(['L', 'S', 'M', 'XL'], dtype=object)"
      ]
     },
     "execution_count": 17,
     "metadata": {},
     "output_type": "execute_result"
    }
   ],
   "source": [
    "# Checking column for snake_case format and number of unique outputs\n",
    "df['size'].unique()"
   ]
  },
  {
   "cell_type": "code",
   "execution_count": 18,
   "metadata": {},
   "outputs": [
    {
     "data": {
      "text/plain": [
       "['l', 's', 'm', 'xl']\n",
       "Categories (4, object): ['l', 'm', 's', 'xl']"
      ]
     },
     "execution_count": 18,
     "metadata": {},
     "output_type": "execute_result"
    }
   ],
   "source": [
    "# Changing column to snake_case format and changing data type to reduce data usage\n",
    "df['size'] = df['size'].str.lower()\n",
    "df['size'] = df['size'].astype('category')\n",
    "df['size'].unique()"
   ]
  },
  {
   "cell_type": "code",
   "execution_count": 19,
   "metadata": {},
   "outputs": [
    {
     "data": {
      "text/plain": [
       "array(['Gray', 'Maroon', 'Turquoise', 'White', 'Charcoal', 'Silver',\n",
       "       'Pink', 'Purple', 'Olive', 'Gold', 'Violet', 'Teal', 'Lavender',\n",
       "       'Black', 'Green', 'Peach', 'Red', 'Cyan', 'Brown', 'Beige',\n",
       "       'Orange', 'Indigo', 'Yellow', 'Magenta', 'Blue'], dtype=object)"
      ]
     },
     "execution_count": 19,
     "metadata": {},
     "output_type": "execute_result"
    }
   ],
   "source": [
    "# Checking column for snake_case format and number of unique outputs\n",
    "df['color'].unique()"
   ]
  },
  {
   "cell_type": "code",
   "execution_count": 20,
   "metadata": {},
   "outputs": [
    {
     "data": {
      "text/plain": [
       "array(['gray', 'maroon', 'turquoise', 'white', 'charcoal', 'silver',\n",
       "       'pink', 'purple', 'olive', 'gold', 'violet', 'teal', 'lavender',\n",
       "       'black', 'green', 'peach', 'red', 'cyan', 'brown', 'beige',\n",
       "       'orange', 'indigo', 'yellow', 'magenta', 'blue'], dtype=object)"
      ]
     },
     "execution_count": 20,
     "metadata": {},
     "output_type": "execute_result"
    }
   ],
   "source": [
    "# Changing column to snake_case format\n",
    "# There are numerous unique values and will leave data type as an object\n",
    "df['color'] = df['color'].str.lower()\n",
    "df['color'].unique()"
   ]
  },
  {
   "cell_type": "code",
   "execution_count": 21,
   "metadata": {},
   "outputs": [
    {
     "data": {
      "text/plain": [
       "array(['Winter', 'Spring', 'Summer', 'Fall'], dtype=object)"
      ]
     },
     "execution_count": 21,
     "metadata": {},
     "output_type": "execute_result"
    }
   ],
   "source": [
    "# Checking column for snake_case format and number of unique outputs\n",
    "df['season'].unique()"
   ]
  },
  {
   "cell_type": "code",
   "execution_count": 22,
   "metadata": {},
   "outputs": [
    {
     "data": {
      "text/plain": [
       "['winter', 'spring', 'summer', 'fall']\n",
       "Categories (4, object): ['fall', 'spring', 'summer', 'winter']"
      ]
     },
     "execution_count": 22,
     "metadata": {},
     "output_type": "execute_result"
    }
   ],
   "source": [
    "# Changing column to snake_case format and changing data type to reduce data usage\n",
    "df['season'] = df['season'].str.lower()\n",
    "df['season'] = df['season'].astype('category')\n",
    "df['season'].unique()"
   ]
  },
  {
   "cell_type": "code",
   "execution_count": 23,
   "metadata": {},
   "outputs": [
    {
     "data": {
      "text/plain": [
       "array(['Yes', 'No'], dtype=object)"
      ]
     },
     "execution_count": 23,
     "metadata": {},
     "output_type": "execute_result"
    }
   ],
   "source": [
    "# Checking column for snake_case format and number of unique outputs\n",
    "df['sub_status'].unique()"
   ]
  },
  {
   "cell_type": "code",
   "execution_count": 24,
   "metadata": {},
   "outputs": [
    {
     "data": {
      "text/plain": [
       "['yes', 'no']\n",
       "Categories (2, object): ['no', 'yes']"
      ]
     },
     "execution_count": 24,
     "metadata": {},
     "output_type": "execute_result"
    }
   ],
   "source": [
    "# Changing column to snake_case format and changing data type to reduce data usage\n",
    "df['sub_status'] = df['sub_status'].str.lower()\n",
    "df['sub_status'] = df['sub_status'].astype('category')\n",
    "df['sub_status'].unique()"
   ]
  },
  {
   "cell_type": "code",
   "execution_count": 25,
   "metadata": {},
   "outputs": [
    {
     "data": {
      "text/plain": [
       "array(['Express', 'Free Shipping', 'Next Day Air', 'Standard',\n",
       "       '2-Day Shipping', 'Store Pickup'], dtype=object)"
      ]
     },
     "execution_count": 25,
     "metadata": {},
     "output_type": "execute_result"
    }
   ],
   "source": [
    "# Checking column for snake_case format and number of unique outputs\n",
    "df['shipping_type'].unique()"
   ]
  },
  {
   "cell_type": "code",
   "execution_count": 26,
   "metadata": {},
   "outputs": [
    {
     "data": {
      "text/plain": [
       "array(['paid_shipping', 'free_shipping'], dtype=object)"
      ]
     },
     "execution_count": 26,
     "metadata": {},
     "output_type": "execute_result"
    }
   ],
   "source": [
    "# Changing column to snake_case format and changing data type to reduce data usage\n",
    "\n",
    "# Changing the results to free shipping or paid shipping, customers who pay for faster shipping\n",
    "# usually means they love the product so much that they want it sooner signaling a positive\n",
    "# market sentiment with the customer and so we can narrow the results to paid or non paid shipping\n",
    "\n",
    "df['shipping_type'] = df['shipping_type'].str.lower()\n",
    "df['shipping_type'] = df['shipping_type'].astype('category')\n",
    "df['shipping_type'] = df['shipping_type'].replace('express', 'paid_shipping').replace('next day air', 'paid_shipping').replace('standard', 'paid_shipping').replace('2-day shipping', 'paid_shipping').replace('store pickup', 'free_shipping')\n",
    "df['shipping_type'] = df['shipping_type'].apply(lambda x: x.replace(' ', '_'))\n",
    "df['shipping_type'].unique()"
   ]
  },
  {
   "cell_type": "code",
   "execution_count": 27,
   "metadata": {},
   "outputs": [
    {
     "data": {
      "text/plain": [
       "array(['Yes', 'No'], dtype=object)"
      ]
     },
     "execution_count": 27,
     "metadata": {},
     "output_type": "execute_result"
    }
   ],
   "source": [
    "# Checking column for snake_case format and number of unique outputs\n",
    "df['discount_applied'].unique()"
   ]
  },
  {
   "cell_type": "code",
   "execution_count": 28,
   "metadata": {},
   "outputs": [
    {
     "data": {
      "text/plain": [
       "['yes', 'no']\n",
       "Categories (2, object): ['no', 'yes']"
      ]
     },
     "execution_count": 28,
     "metadata": {},
     "output_type": "execute_result"
    }
   ],
   "source": [
    "# Changing column to snake_case format and changing data type to reduce data usage\n",
    "df['discount_applied'] = df['discount_applied'].str.lower()\n",
    "df['discount_applied'] = df['discount_applied'].astype('category')\n",
    "df['discount_applied'].unique()"
   ]
  },
  {
   "cell_type": "code",
   "execution_count": 29,
   "metadata": {},
   "outputs": [
    {
     "data": {
      "text/plain": [
       "array(['Yes', 'No'], dtype=object)"
      ]
     },
     "execution_count": 29,
     "metadata": {},
     "output_type": "execute_result"
    }
   ],
   "source": [
    "# Checking column for snake_case format and number of unique outputs\n",
    "df['promo_code_applied'].unique()"
   ]
  },
  {
   "cell_type": "code",
   "execution_count": 30,
   "metadata": {},
   "outputs": [
    {
     "data": {
      "text/plain": [
       "no     2223\n",
       "yes    1677\n",
       "Name: discount_applied, dtype: int64"
      ]
     },
     "execution_count": 30,
     "metadata": {},
     "output_type": "execute_result"
    }
   ],
   "source": [
    "# Seeing how promo codes and discounts are very similar to each other this gives enough \n",
    "# reason to check the values to see if they contain the same values. If so then we can \n",
    "# remove one column to save more data usage.\n",
    "\n",
    "df['discount_applied'].value_counts()"
   ]
  },
  {
   "cell_type": "code",
   "execution_count": 31,
   "metadata": {},
   "outputs": [
    {
     "data": {
      "text/plain": [
       "No     2223\n",
       "Yes    1677\n",
       "Name: promo_code_applied, dtype: int64"
      ]
     },
     "execution_count": 31,
     "metadata": {},
     "output_type": "execute_result"
    }
   ],
   "source": [
    "# Seeing how they have the same results this leads me to believe they are the same column\n",
    "df['promo_code_applied'].value_counts()"
   ]
  },
  {
   "cell_type": "code",
   "execution_count": 32,
   "metadata": {},
   "outputs": [
    {
     "data": {
      "text/plain": [
       "1951     no\n",
       "1550    yes\n",
       "31      yes\n",
       "3171     no\n",
       "1044    yes\n",
       "381     yes\n",
       "776     yes\n",
       "2791     no\n",
       "410     yes\n",
       "2331     no\n",
       "842     yes\n",
       "1586    yes\n",
       "1945     no\n",
       "2768     no\n",
       "1923     no\n",
       "Name: discount_applied, dtype: category\n",
       "Categories (2, object): ['no', 'yes']"
      ]
     },
     "execution_count": 32,
     "metadata": {},
     "output_type": "execute_result"
    }
   ],
   "source": [
    "# By using random_state sample we can compare the results from both columns \n",
    "df['discount_applied'].sample(15, random_state=0)"
   ]
  },
  {
   "cell_type": "code",
   "execution_count": 33,
   "metadata": {},
   "outputs": [
    {
     "data": {
      "text/plain": [
       "1951     No\n",
       "1550    Yes\n",
       "31      Yes\n",
       "3171     No\n",
       "1044    Yes\n",
       "381     Yes\n",
       "776     Yes\n",
       "2791     No\n",
       "410     Yes\n",
       "2331     No\n",
       "842     Yes\n",
       "1586    Yes\n",
       "1945     No\n",
       "2768     No\n",
       "1923     No\n",
       "Name: promo_code_applied, dtype: object"
      ]
     },
     "execution_count": 33,
     "metadata": {},
     "output_type": "execute_result"
    }
   ],
   "source": [
    "# This proves that both columns have the same data \n",
    "df['promo_code_applied'].sample(15, random_state=0)"
   ]
  },
  {
   "cell_type": "code",
   "execution_count": 34,
   "metadata": {},
   "outputs": [],
   "source": [
    "# We can remove this column to save data usage\n",
    "df = df.drop('promo_code_applied', axis=1)"
   ]
  },
  {
   "cell_type": "code",
   "execution_count": 35,
   "metadata": {},
   "outputs": [
    {
     "data": {
      "text/plain": [
       "array(['Venmo', 'Cash', 'Credit Card', 'PayPal', 'Bank Transfer',\n",
       "       'Debit Card'], dtype=object)"
      ]
     },
     "execution_count": 35,
     "metadata": {},
     "output_type": "execute_result"
    }
   ],
   "source": [
    "# Checking column for snake_case format and number of unique outputs\n",
    "df['payment_method'].unique()"
   ]
  },
  {
   "cell_type": "code",
   "execution_count": 36,
   "metadata": {},
   "outputs": [
    {
     "data": {
      "text/plain": [
       "['payment_service', 'cash', 'credit_debit_card']\n",
       "Categories (3, object): ['cash', 'credit_debit_card', 'payment_service']"
      ]
     },
     "execution_count": 36,
     "metadata": {},
     "output_type": "execute_result"
    }
   ],
   "source": [
    "# Changing column to snake_case format and changing data type to reduce data usage\n",
    "# We can narrow down the options since many of the results are similar\n",
    "\n",
    "df['payment_method'] = df['payment_method'].str.lower()\n",
    "df['payment_method'] = df['payment_method'].astype('category')\n",
    "df['payment_method'] = df['payment_method'].apply(lambda x: x.replace(' ', '_'))\n",
    "df['payment_method'] = df['payment_method'].replace('venmo', 'payment_service').replace('credit_card', 'credit_debit_card').replace('paypal', 'payment_service').replace('bank_transfer', 'cash').replace('debit_card', 'credit_debit_card')\n",
    "df['payment_method'].unique()"
   ]
  },
  {
   "cell_type": "code",
   "execution_count": 37,
   "metadata": {},
   "outputs": [
    {
     "data": {
      "text/plain": [
       "array(['Fortnightly', 'Weekly', 'Annually', 'Quarterly', 'Bi-Weekly',\n",
       "       'Monthly', 'Every 3 Months'], dtype=object)"
      ]
     },
     "execution_count": 37,
     "metadata": {},
     "output_type": "execute_result"
    }
   ],
   "source": [
    "# Checking column for snake_case format and number of unique outputs\n",
    "df['order_freq'].unique()"
   ]
  },
  {
   "cell_type": "code",
   "execution_count": 38,
   "metadata": {},
   "outputs": [
    {
     "data": {
      "text/plain": [
       "['monthly', 'annually', 'quarterly']\n",
       "Categories (3, object): ['annually', 'monthly', 'quarterly']"
      ]
     },
     "execution_count": 38,
     "metadata": {},
     "output_type": "execute_result"
    }
   ],
   "source": [
    "# Changing column to snake_case format and changing data type to reduce data usage\n",
    "# Since this dataset does not include datetime information, it would be better to reduce\n",
    "# the number of time results to save space and keep the data simplier\n",
    "\n",
    "df['order_freq'] = df['order_freq'].str.lower()\n",
    "df['order_freq'] = df['order_freq'].astype('category')\n",
    "df['order_freq'] = df['order_freq'].replace('fortnightly', 'monthly').replace('weekly', 'monthly').replace('bi-weekly', 'monthly').replace('every 3 months', 'quarterly')\n",
    "df['order_freq'].unique()"
   ]
  },
  {
   "cell_type": "code",
   "execution_count": 39,
   "metadata": {},
   "outputs": [
    {
     "name": "stdout",
     "output_type": "stream",
     "text": [
      "<class 'pandas.core.frame.DataFrame'>\n",
      "RangeIndex: 3900 entries, 0 to 3899\n",
      "Data columns (total 17 columns):\n",
      " #   Column              Non-Null Count  Dtype   \n",
      "---  ------              --------------  -----   \n",
      " 0   uid                 3900 non-null   int64   \n",
      " 1   age                 3900 non-null   int64   \n",
      " 2   gender              3900 non-null   category\n",
      " 3   item_purchased      3900 non-null   object  \n",
      " 4   category            3900 non-null   category\n",
      " 5   usd_purchase_total  3900 non-null   int64   \n",
      " 6   location            3900 non-null   object  \n",
      " 7   size                3900 non-null   category\n",
      " 8   color               3900 non-null   object  \n",
      " 9   season              3900 non-null   category\n",
      " 10  customer_rating     3900 non-null   float64 \n",
      " 11  sub_status          3900 non-null   category\n",
      " 12  shipping_type       3900 non-null   object  \n",
      " 13  discount_applied    3900 non-null   category\n",
      " 14  previous_orders     3900 non-null   int64   \n",
      " 15  payment_method      3900 non-null   category\n",
      " 16  order_freq          3900 non-null   category\n",
      "dtypes: category(8), float64(1), int64(4), object(4)\n",
      "memory usage: 306.0+ KB\n"
     ]
    },
    {
     "data": {
      "text/html": [
       "<div>\n",
       "<style scoped>\n",
       "    .dataframe tbody tr th:only-of-type {\n",
       "        vertical-align: middle;\n",
       "    }\n",
       "\n",
       "    .dataframe tbody tr th {\n",
       "        vertical-align: top;\n",
       "    }\n",
       "\n",
       "    .dataframe thead th {\n",
       "        text-align: right;\n",
       "    }\n",
       "</style>\n",
       "<table border=\"1\" class=\"dataframe\">\n",
       "  <thead>\n",
       "    <tr style=\"text-align: right;\">\n",
       "      <th></th>\n",
       "      <th>uid</th>\n",
       "      <th>age</th>\n",
       "      <th>gender</th>\n",
       "      <th>item_purchased</th>\n",
       "      <th>category</th>\n",
       "      <th>usd_purchase_total</th>\n",
       "      <th>location</th>\n",
       "      <th>size</th>\n",
       "      <th>color</th>\n",
       "      <th>season</th>\n",
       "      <th>customer_rating</th>\n",
       "      <th>sub_status</th>\n",
       "      <th>shipping_type</th>\n",
       "      <th>discount_applied</th>\n",
       "      <th>previous_orders</th>\n",
       "      <th>payment_method</th>\n",
       "      <th>order_freq</th>\n",
       "    </tr>\n",
       "  </thead>\n",
       "  <tbody>\n",
       "    <tr>\n",
       "      <th>0</th>\n",
       "      <td>1</td>\n",
       "      <td>55</td>\n",
       "      <td>male</td>\n",
       "      <td>blouse</td>\n",
       "      <td>clothing</td>\n",
       "      <td>53</td>\n",
       "      <td>kentucky</td>\n",
       "      <td>l</td>\n",
       "      <td>gray</td>\n",
       "      <td>winter</td>\n",
       "      <td>3.1</td>\n",
       "      <td>yes</td>\n",
       "      <td>paid_shipping</td>\n",
       "      <td>yes</td>\n",
       "      <td>14</td>\n",
       "      <td>payment_service</td>\n",
       "      <td>monthly</td>\n",
       "    </tr>\n",
       "    <tr>\n",
       "      <th>1</th>\n",
       "      <td>2</td>\n",
       "      <td>19</td>\n",
       "      <td>male</td>\n",
       "      <td>sweater</td>\n",
       "      <td>clothing</td>\n",
       "      <td>64</td>\n",
       "      <td>maine</td>\n",
       "      <td>l</td>\n",
       "      <td>maroon</td>\n",
       "      <td>winter</td>\n",
       "      <td>3.1</td>\n",
       "      <td>yes</td>\n",
       "      <td>paid_shipping</td>\n",
       "      <td>yes</td>\n",
       "      <td>2</td>\n",
       "      <td>cash</td>\n",
       "      <td>monthly</td>\n",
       "    </tr>\n",
       "    <tr>\n",
       "      <th>2</th>\n",
       "      <td>3</td>\n",
       "      <td>50</td>\n",
       "      <td>male</td>\n",
       "      <td>jeans</td>\n",
       "      <td>clothing</td>\n",
       "      <td>73</td>\n",
       "      <td>massachusetts</td>\n",
       "      <td>s</td>\n",
       "      <td>maroon</td>\n",
       "      <td>spring</td>\n",
       "      <td>3.1</td>\n",
       "      <td>yes</td>\n",
       "      <td>free_shipping</td>\n",
       "      <td>yes</td>\n",
       "      <td>23</td>\n",
       "      <td>credit_debit_card</td>\n",
       "      <td>monthly</td>\n",
       "    </tr>\n",
       "    <tr>\n",
       "      <th>3</th>\n",
       "      <td>4</td>\n",
       "      <td>21</td>\n",
       "      <td>male</td>\n",
       "      <td>sandals</td>\n",
       "      <td>footwear</td>\n",
       "      <td>90</td>\n",
       "      <td>rhode_island</td>\n",
       "      <td>m</td>\n",
       "      <td>maroon</td>\n",
       "      <td>spring</td>\n",
       "      <td>3.5</td>\n",
       "      <td>yes</td>\n",
       "      <td>paid_shipping</td>\n",
       "      <td>yes</td>\n",
       "      <td>49</td>\n",
       "      <td>payment_service</td>\n",
       "      <td>monthly</td>\n",
       "    </tr>\n",
       "    <tr>\n",
       "      <th>4</th>\n",
       "      <td>5</td>\n",
       "      <td>45</td>\n",
       "      <td>male</td>\n",
       "      <td>blouse</td>\n",
       "      <td>clothing</td>\n",
       "      <td>49</td>\n",
       "      <td>oregon</td>\n",
       "      <td>m</td>\n",
       "      <td>turquoise</td>\n",
       "      <td>spring</td>\n",
       "      <td>2.7</td>\n",
       "      <td>yes</td>\n",
       "      <td>free_shipping</td>\n",
       "      <td>yes</td>\n",
       "      <td>31</td>\n",
       "      <td>payment_service</td>\n",
       "      <td>annually</td>\n",
       "    </tr>\n",
       "  </tbody>\n",
       "</table>\n",
       "</div>"
      ],
      "text/plain": [
       "   uid  age gender item_purchased  category  usd_purchase_total  \\\n",
       "0    1   55   male         blouse  clothing                  53   \n",
       "1    2   19   male        sweater  clothing                  64   \n",
       "2    3   50   male          jeans  clothing                  73   \n",
       "3    4   21   male        sandals  footwear                  90   \n",
       "4    5   45   male         blouse  clothing                  49   \n",
       "\n",
       "        location size      color  season  customer_rating sub_status  \\\n",
       "0       kentucky    l       gray  winter              3.1        yes   \n",
       "1          maine    l     maroon  winter              3.1        yes   \n",
       "2  massachusetts    s     maroon  spring              3.1        yes   \n",
       "3   rhode_island    m     maroon  spring              3.5        yes   \n",
       "4         oregon    m  turquoise  spring              2.7        yes   \n",
       "\n",
       "   shipping_type discount_applied  previous_orders     payment_method  \\\n",
       "0  paid_shipping              yes               14    payment_service   \n",
       "1  paid_shipping              yes                2               cash   \n",
       "2  free_shipping              yes               23  credit_debit_card   \n",
       "3  paid_shipping              yes               49    payment_service   \n",
       "4  free_shipping              yes               31    payment_service   \n",
       "\n",
       "  order_freq  \n",
       "0    monthly  \n",
       "1    monthly  \n",
       "2    monthly  \n",
       "3    monthly  \n",
       "4   annually  "
      ]
     },
     "execution_count": 39,
     "metadata": {},
     "output_type": "execute_result"
    }
   ],
   "source": [
    "# By converting data types and reducing result redundancy we cut data usage by almost half\n",
    "df.info()\n",
    "df.head()"
   ]
  },
  {
   "cell_type": "markdown",
   "metadata": {},
   "source": [
    "[Back to Table of Contents](#back)"
   ]
  },
  {
   "cell_type": "markdown",
   "metadata": {},
   "source": [
    "### Duplicates"
   ]
  },
  {
   "cell_type": "code",
   "execution_count": 40,
   "metadata": {},
   "outputs": [
    {
     "data": {
      "text/plain": [
       "0"
      ]
     },
     "execution_count": 40,
     "metadata": {},
     "output_type": "execute_result"
    }
   ],
   "source": [
    "# Checking for duplicates\n",
    "df.duplicated().sum()"
   ]
  },
  {
   "cell_type": "markdown",
   "metadata": {},
   "source": [
    "[Back to Table of Contents](#back)"
   ]
  },
  {
   "cell_type": "markdown",
   "metadata": {},
   "source": [
    "### Missing Values"
   ]
  },
  {
   "cell_type": "code",
   "execution_count": 41,
   "metadata": {},
   "outputs": [
    {
     "data": {
      "text/plain": [
       "uid                   0\n",
       "age                   0\n",
       "gender                0\n",
       "item_purchased        0\n",
       "category              0\n",
       "usd_purchase_total    0\n",
       "location              0\n",
       "size                  0\n",
       "color                 0\n",
       "season                0\n",
       "customer_rating       0\n",
       "sub_status            0\n",
       "shipping_type         0\n",
       "discount_applied      0\n",
       "previous_orders       0\n",
       "payment_method        0\n",
       "order_freq            0\n",
       "dtype: int64"
      ]
     },
     "execution_count": 41,
     "metadata": {},
     "output_type": "execute_result"
    }
   ],
   "source": [
    "# Checking for null values\n",
    "df.isna().sum()"
   ]
  },
  {
   "cell_type": "markdown",
   "metadata": {},
   "source": [
    "[Back to Table of Contents](#back)"
   ]
  },
  {
   "cell_type": "markdown",
   "metadata": {},
   "source": [
    "### Removing Irrelevant Data"
   ]
  },
  {
   "cell_type": "code",
   "execution_count": null,
   "metadata": {},
   "outputs": [
    {
     "name": "stdout",
     "output_type": "stream",
     "text": [
      "<class 'pandas.core.frame.DataFrame'>\n",
      "RangeIndex: 3900 entries, 0 to 3899\n",
      "Data columns (total 16 columns):\n",
      " #   Column              Non-Null Count  Dtype   \n",
      "---  ------              --------------  -----   \n",
      " 0   uid                 3900 non-null   int64   \n",
      " 1   age                 3900 non-null   int64   \n",
      " 2   gender              3900 non-null   category\n",
      " 3   item_purchased      3900 non-null   object  \n",
      " 4   category            3900 non-null   category\n",
      " 5   usd_purchase_total  3900 non-null   int64   \n",
      " 6   location            3900 non-null   object  \n",
      " 7   size                3900 non-null   category\n",
      " 8   color               3900 non-null   object  \n",
      " 9   season              3900 non-null   category\n",
      " 10  customer_rating     3900 non-null   float64 \n",
      " 11  sub_status          3900 non-null   category\n",
      " 12  shipping_type       3900 non-null   object  \n",
      " 13  discount_applied    3900 non-null   category\n",
      " 14  previous_orders     3900 non-null   int64   \n",
      " 15  payment_method      3900 non-null   category\n",
      "dtypes: category(7), float64(1), int64(4), object(4)\n",
      "memory usage: 302.1+ KB\n"
     ]
    }
   ],
   "source": [
    "# Removing columns we do not need for this analysis\n",
    "df = df.drop(columns=['uid', 'order_freq'])\n",
    "df.info()"
   ]
  },
  {
   "cell_type": "markdown",
   "metadata": {},
   "source": [
    "[Back to Table of Contents](#back)"
   ]
  },
  {
   "cell_type": "markdown",
   "metadata": {},
   "source": [
    "## Exploratory Data Analysis"
   ]
  },
  {
   "cell_type": "markdown",
   "metadata": {},
   "source": [
    "### 1. Identifying Customers"
   ]
  },
  {
   "cell_type": "markdown",
   "metadata": {},
   "source": [
    "#### 1.1 Who are our main customer demographic? Where are they from?"
   ]
  },
  {
   "cell_type": "code",
   "execution_count": 43,
   "metadata": {},
   "outputs": [
    {
     "data": {
      "image/png": "[encoded data removed]",
      "text/plain": [
       "<Figure size 1300x400 with 2 Axes>"
      ]
     },
     "metadata": {},
     "output_type": "display_data"
    }
   ],
   "source": [
    "# Setting theme and figure size\n",
    "sns.set_theme(style='darkgrid')\n",
    "plt.figure(figsize=(13, 4))\n",
    "\n",
    "# Since this is a fashion apparel business, the first key demographic characteristic is gender\n",
    "# We need to find out if we cater to men, women, or both since products and marketing\n",
    "# can vary depending on who is our main demographic.\n",
    "plt.subplot(1, 2, 1)\n",
    "df['gender'].value_counts().plot(kind='pie',\n",
    "                                 autopct='%1.1f%%',\n",
    "                                 fontsize=12,\n",
    "                                 label='',\n",
    "                                 labels=['', ''],\n",
    "                                 radius=1.25)\n",
    "plt.title('Customer Gender Demographic', loc='right')\n",
    "plt.legend(['Male', 'Female'],\n",
    "           title='Gender',\n",
    "           loc=[0.95,.75])\n",
    "\n",
    "# Fashion apparel widely varies between age and gender groups. By getting a \n",
    "# boxplot of customer ages and genders will reveal a lot about our customer demographic. \n",
    "plt.subplot(1, 2, 2)\n",
    "sns.boxplot(df, x=df['gender'],\n",
    "            y=df['age'])\n",
    "plt.title('Age Boxplot')\n",
    "plt.grid(axis='y')\n",
    "plt.xlabel('Customer Gender')\n",
    "plt.ylabel('Customer Age')\n",
    "plt.show()"
   ]
  },
  {
   "cell_type": "markdown",
   "metadata": {},
   "source": [
    "Observation:\n",
    "\n",
    "-\tBased on the dataset about 2/3 of customers are male customers and 1/3 are female customers\n",
    "\n",
    "-\tThis shows that the sold fashion apparel products cater more towards men\n",
    "\n",
    "-\tThis is important to factor because preferences in fashion apparel products can greatly differ between genders\n",
    "\n",
    "-\tThe box plot shows there are no significant differences in age between genders\n",
    "\n",
    "-\tThe average customer age ranges from 31-57 years old with the average customer being about 44\n",
    "\n",
    "-\tThis tells us that our customers are on the older end of the age spectrum and usually prefer a more mature and refined sense of fashion preferences\n",
    "\n",
    "-\tCustomers in this age range also tend to be in or entering the prime of their careers and will usually have more disposable income to spend on amenities"
   ]
  },
  {
   "cell_type": "code",
   "execution_count": 44,
   "metadata": {},
   "outputs": [],
   "source": [
    "us_state_to_abbrev = {\n",
    "    \"Alabama\": \"AL\",\n",
    "    \"Alaska\": \"AK\",\n",
    "    \"Arizona\": \"AZ\",\n",
    "    \"Arkansas\": \"AR\",\n",
    "    \"California\": \"CA\",\n",
    "    \"Colorado\": \"CO\",\n",
    "    \"Connecticut\": \"CT\",\n",
    "    \"Delaware\": \"DE\",\n",
    "    \"Florida\": \"FL\",\n",
    "    \"Georgia\": \"GA\",\n",
    "    \"Hawaii\": \"HI\",\n",
    "    \"Idaho\": \"ID\",\n",
    "    \"Illinois\": \"IL\",\n",
    "    \"Indiana\": \"IN\",\n",
    "    \"Iowa\": \"IA\",\n",
    "    \"Kansas\": \"KS\",\n",
    "    \"Kentucky\": \"KY\",\n",
    "    \"Louisiana\": \"LA\",\n",
    "    \"Maine\": \"ME\",\n",
    "    \"Maryland\": \"MD\",\n",
    "    \"Massachusetts\": \"MA\",\n",
    "    \"Michigan\": \"MI\",\n",
    "    \"Minnesota\": \"MN\",\n",
    "    \"Mississippi\": \"MS\",\n",
    "    \"Missouri\": \"MO\",\n",
    "    \"Montana\": \"MT\",\n",
    "    \"Nebraska\": \"NE\",\n",
    "    \"Nevada\": \"NV\",\n",
    "    \"New Hampshire\": \"NH\",\n",
    "    \"New Jersey\": \"NJ\",\n",
    "    \"New Mexico\": \"NM\",\n",
    "    \"New York\": \"NY\",\n",
    "    \"North Carolina\": \"NC\",\n",
    "    \"North Dakota\": \"ND\",\n",
    "    \"Ohio\": \"OH\",\n",
    "    \"Oklahoma\": \"OK\",\n",
    "    \"Oregon\": \"OR\",\n",
    "    \"Pennsylvania\": \"PA\",\n",
    "    \"Rhode Island\": \"RI\",\n",
    "    \"South Carolina\": \"SC\",\n",
    "    \"South Dakota\": \"SD\",\n",
    "    \"Tennessee\": \"TN\",\n",
    "    \"Texas\": \"TX\",\n",
    "    \"Utah\": \"UT\",\n",
    "    \"Vermont\": \"VT\",\n",
    "    \"Virginia\": \"VA\",\n",
    "    \"Washington\": \"WA\",\n",
    "    \"West Virginia\": \"WV\",\n",
    "    \"Wisconsin\": \"WI\",\n",
    "    \"Wyoming\": \"WY\",\n",
    "    \"District of Columbia\": \"DC\",\n",
    "    \"American Samoa\": \"AS\",\n",
    "    \"Guam\": \"GU\",\n",
    "    \"Northern Mariana Islands\": \"MP\",\n",
    "    \"Puerto Rico\": \"PR\",\n",
    "    \"United States Minor Outlying Islands\": \"UM\",\n",
    "    \"Virgin Islands, U.S.\": \"VI\",\n",
    "}"
   ]
  },
  {
   "cell_type": "code",
   "execution_count": null,
   "metadata": {},
   "outputs": [],
   "source": [
    "state_sales = df.groupby('location').agg({'usd_purchase_total': 'sum'}).to_dict()\n",
    "state_data = pd.DataFrame.from_dict(state_sales)\n",
    "# Giving the DataFrame and index\n",
    "state_data.reset_index(inplace=True)\n",
    "# Renaming columns of the DataFrame\n",
    "state_data.rename(columns={'index': 'state', 'usd_purchase_total': 'total_state_sales'}, inplace=True)\n",
    "state_data['state'] = state_data['state'].str.title()\n",
    "state_data['state'] = state_data['state'].str.replace('_', ' ')\n",
    "state_data['state'] = state_data['state'].replace(us_state_to_abbrev)\n",
    "state_data.head()"
   ]
  },
  {
   "cell_type": "code",
   "execution_count": null,
   "metadata": {},
   "outputs": [],
   "source": [
    "states = {\n",
    "        'AK': 'Alaska',\n",
    "        'AL': 'Alabama',\n",
    "        'AR': 'Arkansas',\n",
    "        'AS': 'American Samoa',\n",
    "        'AZ': 'Arizona',\n",
    "        'CA': 'California',\n",
    "        'CO': 'Colorado',\n",
    "        'CT': 'Connecticut',\n",
    "        'DC': 'District of Columbia',\n",
    "        'DE': 'Delaware',\n",
    "        'FL': 'Florida',\n",
    "        'GA': 'Georgia',\n",
    "        'GU': 'Guam',\n",
    "        'HI': 'Hawaii',\n",
    "        'IA': 'Iowa',\n",
    "        'ID': 'Idaho',\n",
    "        'IL': 'Illinois',\n",
    "        'IN': 'Indiana',\n",
    "        'KS': 'Kansas',\n",
    "        'KY': 'Kentucky',\n",
    "        'LA': 'Louisiana',\n",
    "        'MA': 'Massachusetts',\n",
    "        'MD': 'Maryland',\n",
    "        'ME': 'Maine',\n",
    "        'MI': 'Michigan',\n",
    "        'MN': 'Minnesota',\n",
    "        'MO': 'Missouri',\n",
    "        'MP': 'Northern Mariana Islands',\n",
    "        'MS': 'Mississippi',\n",
    "        'MT': 'Montana',\n",
    "        'NA': 'National',\n",
    "        'NC': 'North Carolina',\n",
    "        'ND': 'North Dakota',\n",
    "        'NE': 'Nebraska',\n",
    "        'NH': 'New Hampshire',\n",
    "        'NJ': 'New Jersey',\n",
    "        'NM': 'New Mexico',\n",
    "        'NV': 'Nevada',\n",
    "        'NY': 'New York',\n",
    "        'OH': 'Ohio',\n",
    "        'OK': 'Oklahoma',\n",
    "        'OR': 'Oregon',\n",
    "        'PA': 'Pennsylvania',\n",
    "        'PR': 'Puerto Rico',\n",
    "        'RI': 'Rhode Island',\n",
    "        'SC': 'South Carolina',\n",
    "        'SD': 'South Dakota',\n",
    "        'TN': 'Tennessee',\n",
    "        'TX': 'Texas',\n",
    "        'UT': 'Utah',\n",
    "        'VA': 'Virginia',\n",
    "        'VI': 'Virgin Islands',\n",
    "        'VT': 'Vermont',\n",
    "        'WA': 'Washington',\n",
    "        'WI': 'Wisconsin',\n",
    "        'WV': 'West Virginia',\n",
    "        'WY': 'Wyoming'\n",
    "}"
   ]
  },
  {
   "cell_type": "code",
   "execution_count": null,
   "metadata": {},
   "outputs": [],
   "source": [
    "map_icons = state_data.copy()\n",
    "map_icons['location_lat'] = ''\n",
    "map_icons['location_long'] = ''\n",
    "map_icons['state'] = map_icons['state'].replace(states)\n",
    "map_icons['total_state_sales'] = 'Total State Revenue: ' + map_icons['total_state_sales'].astype('str')\n",
    "map_icons['state'] = map_icons['state'].replace('Washington', 'Washington State')\n",
    "map_icons['state'] = map_icons['state'].replace('New York', 'New York State')"
   ]
  },
  {
   "cell_type": "code",
   "execution_count": null,
   "metadata": {},
   "outputs": [],
   "source": [
    "# Using GeoPy to pull latitude and longitude data for the map\n",
    "geolocator = Nominatim(user_agent='myApp')\n",
    "\n",
    "for i in map_icons.index:\n",
    "    try:\n",
    "        # GeoPy retrieving address from city\n",
    "        location = geolocator.geocode(map_icons['state'][i])\n",
    "        \n",
    "        # Appending lat/long values to column using dataframe location\n",
    "        map_icons.loc[i,'location_lat'] = location.latitude\n",
    "        map_icons.loc[i,'location_long'] = location.longitude\n",
    "\n",
    "    except:\n",
    "        # Exception for the locations where no value is retrieved and \n",
    "        # appends null value to column\n",
    "        map_icons.loc[i,'location_lat'] = ''\n",
    "        map_icons.loc[i,'location_long'] = ''\n",
    "\n",
    "map_icons"
   ]
  },
  {
   "cell_type": "code",
   "execution_count": null,
   "metadata": {},
   "outputs": [],
   "source": [
    "map_icons = map_icons.values.tolist()"
   ]
  },
  {
   "cell_type": "code",
   "execution_count": null,
   "metadata": {},
   "outputs": [],
   "source": [
    "# \n",
    "us_map = folium.Map([43, -100], zoom_start=4)\n",
    "\n",
    "us_states = requests.get('https://raw.githubusercontent.com/python-visualization/folium-example-data/main/us_states.json').json()\n",
    "\n",
    "folium.Choropleth(\n",
    "    geo_data=us_states,\n",
    "    data=state_data,\n",
    "    fill_opacity=0.3,\n",
    "    line_weight=1.5,\n",
    "    columns=['state', 'total_state_sales'],\n",
    "    key_on='feature.id',\n",
    "    fill_color='RdYlGn',\n",
    "    legend_name='Total State Revenue',\n",
    "    highlight=True).add_to(us_map)\n",
    "\n",
    "# Loop to create map markers and circle markers\n",
    "for col in map_icons:\n",
    "    folium.Marker(location=[col[2], col[3]],\n",
    "                  tooltip=col[0],\n",
    "                  popup=col[1],\n",
    "                  icon=folium.Icon(color='red',\n",
    "                                    icon='info-sign')).add_to(us_map)\n",
    "    \n",
    "    folium.CircleMarker(location=[col[2], col[3]],\n",
    "                        radius=10,\n",
    "                        popup=col[0],\n",
    "                        color='red',\n",
    "                        fill_color='red').add_to(us_map)\n",
    "\n",
    "us_map"
   ]
  },
  {
   "cell_type": "code",
   "execution_count": null,
   "metadata": {},
   "outputs": [],
   "source": []
  },
  {
   "cell_type": "code",
   "execution_count": null,
   "metadata": {},
   "outputs": [],
   "source": [
    "# To find where the largest group of our target demographic order from, we first group the data by\n",
    "# location and then find the total revenue generated from each location.\n",
    "# Then we sort the values from largest to smallest, and get the top 5 best performing states\n",
    "\n",
    "df.groupby('location')['usd_purchase_total'].sum().sort_values(ascending=False).head(5).plot(kind='barh',\n",
    "                                                                                             edgecolor='black')\n",
    "plt.title('Top 5 Customer Demographic States', loc='left')\n",
    "plt.xlabel('Total Revenue')\n",
    "plt.xlim([4000, 6000])\n",
    "plt.ylabel('Top 5 States')\n",
    "plt.show()"
   ]
  },
  {
   "cell_type": "markdown",
   "metadata": {},
   "source": [
    "Observation:\n",
    "\n",
    "- The results show Montana, Illinois, California, Idaho, and Nevada are where our largest customer demographic is from. \n",
    "\n",
    "- Seeing how the highest grossing state is Montana with a little over $5500 in sales, this is still a growing business in their growth phase of the business cycle. \n",
    "\n",
    "-\tIt is interesting to see states like Montana, Idaho, and Nevada ranking in the top five despite being smaller states based on population. \n",
    "\n",
    "-\tThis shows that there are also opportunities to significantly grow in the larger states like California and New York."
   ]
  },
  {
   "cell_type": "code",
   "execution_count": null,
   "metadata": {},
   "outputs": [],
   "source": [
    "# \n",
    "plt.figure(figsize=(14, 4))\n",
    "\n",
    "# It is also important to find which states has the largest demographic of male and female customers\n",
    "# are from so we have the option to perform more targeted marketing since our male and female customers\n",
    "# are widely different in age and cultural preferences.\n",
    "# To find where are our male demographic are from we first filter the genders column to equale males\n",
    "# and then we group the dataset by location and total the sum generated for those locations.\n",
    "plt.subplot(1, 2, 1)\n",
    "df[df['gender'] == 'male'].groupby('location')['usd_purchase_total'].sum().sort_values(ascending=False).head(5).plot(kind='barh',\n",
    "                                                                                                                     color='royalblue',\n",
    "                                                                                                                     edgecolor='black')\n",
    "plt.title('Top 5 Male Customer Demographic States', loc='left')\n",
    "plt.xlabel('Total Revenue')\n",
    "plt.xlim([2000, 4000])\n",
    "plt.ylabel('Top 5 States')\n",
    "\n",
    "# Now we are looking for the states with the largest groups of our female customers\n",
    "# To find where are our female demographic we filter the genders column to equal female\n",
    "# and then we group the dataset by location and total the sum generated for those locations.\n",
    "plt.subplot(1, 2, 2)\n",
    "df[df['gender'] == 'female'].groupby('location')['usd_purchase_total'].sum().sort_values(ascending=False).head(5).plot(kind='barh',\n",
    "                                                                                                                       color='orange',\n",
    "                                                                                                                       edgecolor='black')\n",
    "plt.title('Top 5 Female Customer Demographic States', loc='left')\n",
    "plt.xlabel('Total Revenue')\n",
    "plt.xlim([0, 2500])\n",
    "plt.ylabel('Top 5 States')\n",
    "plt.show()"
   ]
  },
  {
   "cell_type": "markdown",
   "metadata": {},
   "source": [
    "Observation:\n",
    "\n",
    "-\tBy grouping only, the male customers it reveals some differences in the top 5 locations changing to West Virginia, California, Idaho, Missouri, and Illinois\n",
    "\n",
    "-\tThis also tells us that our male and female demographic preferences can differ widely from state to state indicating that a targeted marketing effort could perform better than just a general marketing effort depending on the produc\n",
    "\n",
    "-\tThe top five states with our female customers include Montana, Texas, Illinois, Idaho, and Nevada\n",
    "\n",
    "-\tThis list is mostly in sync with the overall top 5 states except for Texas\n",
    "\n",
    "-\tShould we want to run a targeted marketing campaign for our women’s product line, the first state that we should target would be Texas since it is also the largest total addressable market compared to Montana"
   ]
  },
  {
   "cell_type": "markdown",
   "metadata": {},
   "source": [
    "[Back to Table of Contents](#back)"
   ]
  },
  {
   "cell_type": "markdown",
   "metadata": {},
   "source": [
    "#### 1.2 Which products do customers love the most? Size? Color?"
   ]
  },
  {
   "cell_type": "code",
   "execution_count": null,
   "metadata": {},
   "outputs": [],
   "source": [
    "# Now we need find the average customer rating for each product category to see which \n",
    "# category customers rate highly\n",
    "\n",
    "df.groupby(['category'])['customer_rating'].mean().sort_values().round(2).plot(kind='barh',\n",
    "                                                                               edgecolor='black')\n",
    "plt.title('Customer Category Review Ratings', loc='left')\n",
    "plt.xlabel('Customer Rating')\n",
    "plt.xlim([3,4])\n",
    "plt.ylabel('Product Category')\n",
    "plt.show()"
   ]
  },
  {
   "cell_type": "markdown",
   "metadata": {},
   "source": [
    "Observation:\n",
    "\n",
    "-\tGrouping each category by their average rating shows us that our footwear had the highest rating and clothing had the lowest rating. \n",
    "\n",
    "-\tThis is an interesting outcome since most of the items sold are clothing products. This could be due to the clothing products reaching a larger audience in which there will be more less satisfied customers who are also more likely to leave a negative review than a happy customer.\n",
    "\n",
    "-\tFrom these results it leads us to look at each unique sold product to see which items were not as well received.\n"
   ]
  },
  {
   "cell_type": "code",
   "execution_count": null,
   "metadata": {},
   "outputs": [],
   "source": [
    "# To find the average customer rating for each product we need to group the item_purchased column, \n",
    "# find the mean of the customer_rating column, and plot the results. It would also be helpful to see \n",
    "# which items were rated higher and below average so I will include a line to represent the average \n",
    "# item rating and color coordinate items rated below and above average. \n",
    "\n",
    "product_ratings = df.groupby(['item_purchased'])['customer_rating'].mean().sort_values()\n",
    "avg_rating = df['customer_rating'].mean()\n",
    "\n",
    "col = []\n",
    "for i in product_ratings:\n",
    "    if i >= avg_rating:\n",
    "        col.append('limegreen')\n",
    "    else:\n",
    "        col.append('red')\n",
    "\n",
    "product_ratings.plot(kind='barh',\n",
    "                     color=col,\n",
    "                     edgecolor='black')\n",
    "plt.title('Customer Product Review Ratings', loc='left')\n",
    "plt.axvline(x=avg_rating, \n",
    "            color='black', \n",
    "            linestyle='--')\n",
    "plt.text(3.77, 9, f'Average\\nRating: {avg_rating.round(2)}')\n",
    "plt.xlabel('Customer Rating')\n",
    "plt.xlim([3, 4])\n",
    "plt.ylabel('Products')\n",
    "plt.show()"
   ]
  },
  {
   "cell_type": "markdown",
   "metadata": {},
   "source": [
    "Observation:\n",
    "\n",
    "-\tThis graph reveals which specific product had a higher or lower rating when compared to the overall average rating. \n",
    "\n",
    "-\tUnsurprisingly, it shows that generally footwear and accessory products were rated more positively than clothing products. \n",
    "\n",
    "-\tThe lower rating on clothing products could give enough reason to reevaluate at how quality control is conducted and to contact the manufacturing department, the supplier of our clothes, and/or product designers to see if any issues along the supply chain can be solved. \n",
    "\n",
    "-\tMany of the lowest-rated products, shirts, jeans, and pants, are some of the most basic clothing items and should be rated higher since those are the most common items customers buy when shopping for clothes."
   ]
  },
  {
   "cell_type": "code",
   "execution_count": null,
   "metadata": {},
   "outputs": [],
   "source": [
    "# It would be interesting to see the age group that purchased \n",
    "# each item to see if there is a correlation between the product, \n",
    "# age, and how it was rated. \n",
    "\n",
    "sns.boxplot(df, x=df['item_purchased'], y=df['age'], width=0.5)\n",
    "sns.despine(offset=10, trim=True)\n",
    "plt.title('Items Purchased by Age Group', loc='left')\n",
    "plt.grid(axis='y')\n",
    "plt.xlabel('Item Purchased')\n",
    "plt.xticks(rotation=90)\n",
    "plt.ylabel('Customer Age')\n",
    "plt.show()"
   ]
  },
  {
   "cell_type": "markdown",
   "metadata": {},
   "source": [
    "Observation:\n",
    "\n",
    "-\tMany lower-rated products like shirts, jeans, blouses, shorts, pants, and other lower-rated products have customer age medians and ranges lower than the other more positively rated products. \n",
    "\n",
    "-\tThis could mean that younger customers are more likely to rate products lower if they are not 100 percent satisfied with their purchase. \n",
    "\n",
    "-\tIt would be interesting to ask the customers in their 30s to why they rated their purchase as they did. \n",
    "\n",
    "-\tIt is also interesting to see that certain products like jewelry have higher age ranges compared to other products. This will be useful for the marketing team for a targeted marketing campaign for future jewelry product releases."
   ]
  },
  {
   "cell_type": "code",
   "execution_count": null,
   "metadata": {},
   "outputs": [],
   "source": [
    "# If it is applicable, we should find which sizes are the most \n",
    "# popular sizes purchased by our customers. \n",
    "\n",
    "df['size'].value_counts().sort_values().plot(kind='bar',\n",
    "                                             edgecolor='black')\n",
    "plt.title('Total Orders Per Size', loc='left')\n",
    "plt.xlabel('Product Sizes')\n",
    "plt.xticks([0, 1, 2, 3], ['X-Large', 'Small', 'Large', 'Med'], rotation=0)\n",
    "plt.ylabel('Total Orders')\n",
    "plt.show()"
   ]
  },
  {
   "cell_type": "markdown",
   "metadata": {},
   "source": [
    "Observation:\n",
    "\n",
    "-\tMost customers purchase medium and/or large-sized products."
   ]
  },
  {
   "cell_type": "code",
   "execution_count": null,
   "metadata": {},
   "outputs": [],
   "source": [
    "df['color'].value_counts().sort_values(ascending=False)"
   ]
  },
  {
   "cell_type": "code",
   "execution_count": null,
   "metadata": {},
   "outputs": [],
   "source": [
    "# It would be interesting to also see which colors are the most popular for items sold.\n",
    "df['color'].value_counts().sort_values(ascending=False).head(10).plot(kind='barh',\n",
    "                                                                      edgecolor='black')\n",
    "plt.title('Top 10 Most Popular Product Colors ', loc='left')\n",
    "plt.grid(axis='x', linestyle='--')\n",
    "plt.xlabel('Quantity Sold')\n",
    "plt.ylabel('Top 10 Colors')\n",
    "plt.show()"
   ]
  },
  {
   "cell_type": "markdown",
   "metadata": {},
   "source": [
    "Observation:\n",
    "\n",
    "-\tIt is interesting that about half of the most popular colors sold are eccentric colors or neutral / earth-tone-like colors. \n",
    "\n",
    "-\tGenerally, neutral and other subtle colors tend to perform better long term since those are timeless colors so we should focus on products with those colors.\n",
    "\n",
    "-\tIt would be interesting to see if a trendy / avant garde line of products would perform well with customers who have eccentric fashion preferences."
   ]
  },
  {
   "cell_type": "markdown",
   "metadata": {},
   "source": [
    "[Back to Table of Contents](#back)"
   ]
  },
  {
   "cell_type": "markdown",
   "metadata": {},
   "source": [
    "#### 1.3 What is the customer sentiment about the business?"
   ]
  },
  {
   "cell_type": "code",
   "execution_count": null,
   "metadata": {},
   "outputs": [],
   "source": [
    "# Finding the range in which our products are rated by customers\n",
    "print(df['customer_rating'].min())\n",
    "print(df['customer_rating'].mean().round(3))\n",
    "print(df['customer_rating'].max())"
   ]
  },
  {
   "cell_type": "markdown",
   "metadata": {},
   "source": [
    "Observation:\n",
    "\n",
    "-\tThe lowest rating was 2.5/5, the highest rating was of 5/5, and the average overall rating, encompassing all products, was 3.7/5. \n",
    "\n",
    "-\tThis signals to the business that the sold products were seen as average at worst, and perfect at best, which is a overall positive sign of market sentiment about the business and its products."
   ]
  },
  {
   "cell_type": "code",
   "execution_count": null,
   "metadata": {},
   "outputs": [],
   "source": [
    "# Another method to measure customer sentiment is to find which customers spend\n",
    "# extra money for a premium shipping option. (This is assuming that there is always a\n",
    "# free shipping option and other paid shipping options)\n",
    "\n",
    "df['shipping_type'].value_counts().plot(kind='pie',\n",
    "                                 autopct='%1.1f%%',\n",
    "                                 colors=['dodgerblue', 'powderblue'],\n",
    "                                 fontsize=12,\n",
    "                                 label='',\n",
    "                                 labels=['', ''],\n",
    "                                 radius=1.25)\n",
    "plt.title('Customer Shipping Preferences', loc='right')\n",
    "plt.legend(['Premium Shipping', 'Free Shipping'],\n",
    "           title='Shipping Option',\n",
    "           loc=[0.95,.75])\n",
    "plt.show()"
   ]
  },
  {
   "cell_type": "markdown",
   "metadata": {},
   "source": [
    "Observation:\n",
    "\n",
    "-\tBased on the dataset it shows that about 2/3 of customers prefer to go out of their way to pay for a form of premium shipping. \n",
    "\n",
    "-\tAssuming there is always a free shipping option, this is a positive sign of market sentiment that most of our customers would choose to pay for premium shipping over a free option to get their orders sooner."
   ]
  },
  {
   "cell_type": "markdown",
   "metadata": {},
   "source": [
    "[Back to Table of Contents](#back)"
   ]
  },
  {
   "cell_type": "markdown",
   "metadata": {},
   "source": [
    "##### 1.4 What are the customer's prefered method of transaction?"
   ]
  },
  {
   "cell_type": "code",
   "execution_count": null,
   "metadata": {},
   "outputs": [],
   "source": [
    "# To find the total number of users per payment method we can use value_counts on the \n",
    "# payment_method column\n",
    "\n",
    "df['payment_method'].value_counts().sort_values(ascending=False).plot(kind='bar',\n",
    "                                                                      color=['blue', 'yellow', 'Green'],\n",
    "                                                                      edgecolor='black')\n",
    "plt.title('Prefered Customer Transaction Method', loc='left')\n",
    "plt.grid(axis='y')\n",
    "plt.xlabel('Payment Methods')\n",
    "plt.xticks([0, 1, 2], ['Payment Service', 'Credit/Debit Card', 'Cash'], rotation=0)\n",
    "plt.ylabel('Total Transactions')\n",
    "plt.ylim([1100, 1350])\n",
    "plt.show()"
   ]
  },
  {
   "cell_type": "markdown",
   "metadata": {},
   "source": [
    "Observation:\n",
    "\n",
    "-\tBased on the data, shows that payment services are the most popular form of customer payment. \n",
    "\n",
    "-\tIf we increase the number of payment services, we accept we could have an opportunity to grow the business and increase our customer count and revenue. \n",
    "\n",
    "-\tGenerally, for online stores, the easier the payment process is the more likely new customers will purchase our products. \n",
    "\n",
    "-\tCurrently, we only accept Venmo and PayPal, if we can expand to other popular payment services like Cash App, Apple Pay, Google Pay, and Amazon Pay, the number of new customers is likely to increase."
   ]
  },
  {
   "cell_type": "markdown",
   "metadata": {},
   "source": [
    "[Back to Table of Contents](#back)"
   ]
  },
  {
   "cell_type": "markdown",
   "metadata": {},
   "source": [
    "### 2. Business Performance and Trends\n",
    "\n",
    "#### 2.1 What are the best selling products?"
   ]
  },
  {
   "cell_type": "code",
   "execution_count": null,
   "metadata": {},
   "outputs": [],
   "source": [
    "# To find the best-selling products we add the total usd_purchase_totals for each product category\n",
    "\n",
    "df.groupby('category')['usd_purchase_total'].sum().sort_values(ascending=False).plot(kind='barh',\n",
    "                                                                                     color=['dodgerblue', 'aqua', 'orange', 'navy'],\n",
    "                                                                                     edgecolor='black')\n",
    "plt.title('Categorical Best Sellers', loc='left')\n",
    "plt.grid(axis='x')\n",
    "plt.xlabel('Total Revenue')\n",
    "plt.ylabel('Category')\n",
    "plt.xlim([0, 110000])\n",
    "plt.show()"
   ]
  },
  {
   "cell_type": "markdown",
   "metadata": {},
   "source": [
    "Observation:\n",
    "\n",
    "- It is interesting to note that the footwear category is the highest-rated category but does not sell nearly as much as accessories or clothing products. \n",
    "\n",
    "- It is also interesting to see that the accessories category generates significantly more than outerwear and footwear products. \n",
    "\n",
    "- Accessories are generally more popular with our older demographics however, it would be interesting to see if there was a more trendy and affordable accessory line for the younger customers or have a seasonal line for the slower seasons like summer to generate more sales.\n"
   ]
  },
  {
   "cell_type": "code",
   "execution_count": null,
   "metadata": {},
   "outputs": [],
   "source": [
    "# To find the top 10 best sellers we can group the item_purchased column, summed the usd_purchase_total column, \n",
    "# sort the values from largest to smallest, and get the first 10 outputs.\n",
    "\n",
    "df.groupby('item_purchased')['usd_purchase_total'].sum().sort_values(ascending=False).head(10).plot(kind='barh',\n",
    "                                                                                                     edgecolor='black')\n",
    "plt.title('Top 10 Best Selling Products', loc='left')\n",
    "plt.grid(axis='x')\n",
    "plt.xlabel('Total Revenue')\n",
    "plt.ylabel('Products')\n",
    "plt.show()"
   ]
  },
  {
   "cell_type": "markdown",
   "metadata": {},
   "source": [
    "Observation:\n",
    "\n",
    "- It is notable to see that many of the best-selling products also have some of the lowest reviews in the store. \n",
    "\n",
    "-\tWhen a product reaches a wider audience, it is also more likely to reach a larger audience who are not satisfied with the product and unhappy customers are more likely to leave a negative review than a happy customer leaving a positive review which would explain the rating from earlier."
   ]
  },
  {
   "cell_type": "markdown",
   "metadata": {},
   "source": [
    "[Back to Table of Contents](#back)"
   ]
  },
  {
   "cell_type": "markdown",
   "metadata": {},
   "source": [
    "#### 2.2 What is our customer retention?"
   ]
  },
  {
   "cell_type": "code",
   "execution_count": null,
   "metadata": {},
   "outputs": [],
   "source": [
    "# One way to measure customer retention is through quantity of previous orders\n",
    "# To see how loyal our customers are we can filter customers with at least one order, \n",
    "# at least 10 orders, and at least 25 orders.\n",
    "\n",
    "ordered_before = df[df['previous_orders'] > 1]['previous_orders'].count()\n",
    "ordered_before_10_times = df[df['previous_orders'] >= 10]['previous_orders'].count()\n",
    "ordered_before_25_times = df[df['previous_orders'] >= 25]['previous_orders'].count()\n",
    "total_customers = len(df)\n",
    "\n",
    "\n",
    "# Creating a function to calculate the percentage of users who have purchased at least x times before \n",
    "\n",
    "def customer_orders(prev_orders):\n",
    "    order_before_rate = (prev_orders / total_customers).round(2)\n",
    "    not_ordered_before_rate = (1 - order_before_rate)\n",
    "    ordered_before_rate = pd.Series([order_before_rate, not_ordered_before_rate])\n",
    "    return ordered_before_rate"
   ]
  },
  {
   "cell_type": "code",
   "execution_count": null,
   "metadata": {},
   "outputs": [],
   "source": [
    "customer_orders(ordered_before).plot(kind='pie',\n",
    "                                     autopct='%1.1f%%',\n",
    "                                     colors=['orange', 'powderblue'],\n",
    "                                     fontsize=12,\n",
    "                                     labels=['', ''],\n",
    "                                     radius=1.25)\n",
    "plt.title('Returning Customers', loc='right')\n",
    "plt.legend(['1+ Previous Orders', 'Less than 1 Orders'],\n",
    "           title='Customer Activity',\n",
    "           loc=[0.95,.75])\n",
    "plt.show()"
   ]
  },
  {
   "cell_type": "markdown",
   "metadata": {},
   "source": [
    "Observation:\n",
    "\n",
    "-\tIt is astounding to see 98% of customers have more than one previous purchase. That is a shockingly high retention rate for any apparel business. \n",
    "\n",
    "-\tHowever,  this also shows that there are not many new customers possibly signaling that the business has reached business cycle maturity or there is a lack of marketing in targeting new customers.\n"
   ]
  },
  {
   "cell_type": "code",
   "execution_count": null,
   "metadata": {},
   "outputs": [],
   "source": [
    "customer_orders(ordered_before_10_times).plot(kind='pie',\n",
    "                                              autopct='%1.1f%%',\n",
    "                                              colors=['orange', 'powderblue'],\n",
    "                                              fontsize=12,\n",
    "                                              labels=['', ''],\n",
    "                                              radius=1.25)\n",
    "plt.title('Customers with 10+ Previous Orders', loc='right')\n",
    "plt.legend(['10+ Previous Orders', 'Less than 10 Orders'],\n",
    "           title='Customer Activity',\n",
    "           loc=[0.95,.75])\n",
    "plt.show()"
   ]
  },
  {
   "cell_type": "markdown",
   "metadata": {},
   "source": [
    "Observation:\n",
    "-\t82% of customers have ordered over 10 orders which is a very high retention rate for customers."
   ]
  },
  {
   "cell_type": "code",
   "execution_count": null,
   "metadata": {},
   "outputs": [],
   "source": [
    "customer_orders(ordered_before_25_times).plot(kind='pie',\n",
    "                                              autopct='%1.1f%%',\n",
    "                                              colors=['orange', 'powderblue'],\n",
    "                                              fontsize=12,\n",
    "                                              labels=['', ''],\n",
    "                                              radius=1.25)\n",
    "plt.title('Customers with 25+ Previous Orders', loc='right')\n",
    "plt.legend(['25+ Previous Orders', 'Less than 25 Orders'],\n",
    "           title='Customer Activity',\n",
    "           loc=[0.95,.75])\n",
    "plt.show()"
   ]
  },
  {
   "cell_type": "markdown",
   "metadata": {},
   "source": [
    "Observation:\n",
    "\n",
    "-\t52% of customers have ordered over 25 orders, which is a very high retention rate for customers. \n",
    "\n",
    "-\tFor half of all customers to make over 25 orders shows that brand loyalty is very high with the customer base and that this company knows their customers fashion preferences very well\n"
   ]
  },
  {
   "cell_type": "markdown",
   "metadata": {},
   "source": [
    "[Back to Table of Contents](#back)"
   ]
  },
  {
   "cell_type": "markdown",
   "metadata": {},
   "source": [
    "#### 2.3 Does subscription status increase sales?"
   ]
  },
  {
   "cell_type": "code",
   "execution_count": null,
   "metadata": {},
   "outputs": [],
   "source": [
    "# To find the total number of subscribers we need to use value_counts \n",
    "# on the sub_status column.\n",
    "\n",
    "df['sub_status'].value_counts().plot(kind='pie',\n",
    "                                     autopct='%1.1f%%',\n",
    "                                     colors=['coral', 'gold'],\n",
    "                                     fontsize=12,\n",
    "                                     label='',\n",
    "                                     labels=['', ''],\n",
    "                                     radius=1.25)\n",
    "plt.title('Customer Subscription Status', loc='right')\n",
    "plt.legend(['Not Subscribed', 'Subscribed'],\n",
    "           title='Subscription Status',\n",
    "           loc=[0.95,.75])\n",
    "plt.show()"
   ]
  },
  {
   "cell_type": "markdown",
   "metadata": {},
   "source": [
    "Observation:\n",
    "\n",
    "- From the chart it shows about 1/4 customers are subscribed to the subscription service."
   ]
  },
  {
   "cell_type": "code",
   "execution_count": null,
   "metadata": {},
   "outputs": [],
   "source": [
    "# To find the revenue generated by subscribers and non-subscribers we need to\n",
    "# group the sub_status column and total the revenue generated by each group\n",
    "\n",
    "df.groupby('sub_status')['usd_purchase_total'].sum().plot(kind='pie',\n",
    "                                                     autopct='%1.1f%%',\n",
    "                                                     colors=['coral', 'gold'],\n",
    "                                                     fontsize=12,\n",
    "                                                     label='',\n",
    "                                                     labels=['', ''],\n",
    "                                                     radius=1.25)\n",
    "plt.title('Subscriber Revenue Split by Subscribers', loc='right')\n",
    "plt.legend(['Not Subscribed', 'Subscribed'],\n",
    "           title='Subscription Status',\n",
    "           loc=[0.95,.75])\n",
    "plt.show()"
   ]
  },
  {
   "cell_type": "markdown",
   "metadata": {},
   "source": [
    "Observations:\n",
    "\n",
    "- Based on the revenue split between customers who subscribed and those who did not, the data says there is no correlation to say that customers who subscribe to the subscription service spend more money or purchase more products.\n",
    "\n",
    "- About 27% of all the customers in the data were subscribers and about 27% of the total revenue came from customers who subscribed.\n",
    "\n",
    "- If having a subscription status does not increase customer engagement or spending, then we must question how useful is the subscription program? Would it be better to remove the program to cut expenses or allocate more funding into it to increase customer engagement?"
   ]
  },
  {
   "cell_type": "markdown",
   "metadata": {},
   "source": [
    "[Back to Table of Contents](#back)"
   ]
  },
  {
   "cell_type": "markdown",
   "metadata": {},
   "source": [
    "#### 2.4 Does having discounts increase sales?"
   ]
  },
  {
   "cell_type": "code",
   "execution_count": null,
   "metadata": {},
   "outputs": [],
   "source": [
    "# To find the ratio of customers using a discount code we \n",
    "# use value_counts on the discount_applied column\n",
    "\n",
    "df['discount_applied'].value_counts().plot(kind='pie',\n",
    "                                           autopct='%1.1f%%',\n",
    "                                           fontsize=12,\n",
    "                                           label='',\n",
    "                                           labels=['', ''],\n",
    "                                           radius=1.25)\n",
    "plt.title('Customer Discount Usage', loc='right')\n",
    "plt.legend(['Did Not use a Discount', 'Used a Discount'],\n",
    "           title='Discount Status',\n",
    "           loc=[0.95,.75])"
   ]
  },
  {
   "cell_type": "markdown",
   "metadata": {},
   "source": [
    "Observation:\n",
    "\n",
    "-\tAbout 43% of all orders contained a discount code."
   ]
  },
  {
   "cell_type": "code",
   "execution_count": null,
   "metadata": {},
   "outputs": [],
   "source": [
    "df.groupby('discount_applied')['usd_purchase_total'].sum().plot(kind='pie',\n",
    "                                                                autopct='%1.1f%%',\n",
    "                                                                fontsize=12,\n",
    "                                                                label='',\n",
    "                                                                labels=['', ''],\n",
    "                                                                radius=1.25)\n",
    "plt.title('Revenue Split by Discount Users', loc='right')\n",
    "plt.legend(['Did Not use a Discount', 'Used a Discount'],\n",
    "           title='Discount Status',\n",
    "           loc=[0.95,.75])"
   ]
  },
  {
   "cell_type": "markdown",
   "metadata": {},
   "source": [
    "Observation:\n",
    "\n",
    "-\tAbout 43% of the total revenue came from an order that contained a discount code.\n",
    "\n",
    "-\tSince about 43% of the total revenue came from orders that contained a discount code and 43% of orders used a discount code there is no conclusion to say that having a discount code increased sales. \n",
    "\n",
    "-\tMore than half of the customers were already returning customers even without needing a discount code, shows that most customers would return even without a sale and that discount codes should not be consistently offered year round. \n",
    "\n",
    "-\tPromos and discounts should be a special event that is only offered a few times a year to make it a special event to entice customers to increase customer purchasing during slow seasons, like summer,  or to move excess inventory. "
   ]
  },
  {
   "cell_type": "markdown",
   "metadata": {},
   "source": [
    "[Back to Table of Contents](#back)"
   ]
  },
  {
   "cell_type": "markdown",
   "metadata": {},
   "source": [
    "#### 2.5 What time of the year is the busiest?"
   ]
  },
  {
   "cell_type": "code",
   "execution_count": null,
   "metadata": {},
   "outputs": [],
   "source": [
    "# To find the average seasonal revenue we are going to group the season column and total \n",
    "# the usd_purchase_total column to find the seasonal revenue\n",
    "\n",
    "avg_seasonal_rev = df.groupby(['season'])['usd_purchase_total'].sum().mean()\n",
    "\n",
    "df.groupby(['season'])['usd_purchase_total'].sum().sort_values(ascending=False).plot(kind='barh',\n",
    "                                                                                     color=['navajowhite', 'palegreen', 'skyblue', 'lightpink'],\n",
    "                                                                                     edgecolor='black')\n",
    "plt.title('Average Seasonal Revenue', loc='left')\n",
    "plt.grid(axis='x')\n",
    "plt.axvline(x=avg_seasonal_rev, \n",
    "            color='black', \n",
    "            linestyle='--')\n",
    "plt.text(x=58500, y=3, s='Average Seasonal Revenue')\n",
    "plt.xlabel('Lifetime Total Revenue')\n",
    "plt.xlim([50000, 64000])\n",
    "plt.ylabel('Season')\n",
    "plt.show()"
   ]
  },
  {
   "cell_type": "markdown",
   "metadata": {},
   "source": [
    "Observation:\n",
    "\n",
    "-\tBased on the seasonal data, summer is generally the slowest season and fall is usually the best-performing season.\n",
    "\n",
    "-\tThis could be due to cultural and practical trends where people generally wear less / lighter clothes during the summer because of hotter weather and during winter it is more likely for people to dress up more due to colder weather and for attending holiday events.\n",
    "\n",
    "-\tAlso, this is expected since fall is the holiday shopping season and is usually the busiest season for apparel businesses. \n",
    "\n",
    "-\tTo increase summer sales, we should consider more summer sales or even a unique seasonal product line to bring in more customers during the summer.\n",
    "\n",
    "-\tSince accessory products are some of the highest-rated products there is also an opportunity to push the accessory line during the summer since jewelry is a practical fashionable product for the weather. "
   ]
  },
  {
   "cell_type": "markdown",
   "metadata": {},
   "source": [
    "[Back to Table of Contents](#back)"
   ]
  },
  {
   "cell_type": "markdown",
   "metadata": {},
   "source": [
    "## Conclusions and Reccomendations"
   ]
  },
  {
   "cell_type": "markdown",
   "metadata": {},
   "source": [
    "Customer Analysis:\n",
    "\n",
    "-\tThis is a fashion apparel business that primarily caters to men and male fashion trends. \n",
    "\n",
    "-\tThe customer demographic is older adults that age ranges from 31-57 years old with the average customer age being about 44 years old. \n",
    "\n",
    "-\tExisting customers generally hold a positive view of the products they purchase since many of them consistently pay for a premium shipping option to get their orders faster. \n",
    "\n",
    "-\tMost customers are returning customers showing high customer retention, half of the existing customers have already made over 25+ purchases and counting. \n",
    "\n",
    "-\tCustomers typically pay with a payment service or with their credit/debit card. If this business can widen the payment services, they accept and make the payment process easier for first-time customers then they can expand their apparel products to new customers in new markets.\n",
    "\n",
    "Business Analysis:\n",
    "\n",
    "-\tThis is a smaller business that is still in the growth phase of the business cycle and should primarily focus on increasing revenue.\n",
    "\n",
    "-\tTo make revenue annually more consistent the business needs to improve more on their basic items like shirts, jeans, shorts, etc. since those are the most bought products that customers will return yearly for.\n",
    "\n",
    "    - These products should primarily be sold in neutral or earth-tone colors since those are the most versatile and timeless colors that will always be sought after by customers. \n",
    "\n",
    "-\tThere needs to be a conversation about keeping the subscription service since it does not generate any meaningful additional revenue. \n",
    "\n",
    "    - Either cut the subscription service or allocate more resources to it to increase customer satisfaction in hopes of increasing revenue.\n",
    "\n",
    "-\tDiscounts and promos should be reserved for special events only since customer retention is already so high most customers would purchase their desired apparel products regardless of a discount code. Having a discount code at this point in the business cycle is only limiting the total amount of revenue to be gained. \n",
    "\n",
    "    - One recommendation is to save all the unsold or overstocked products for summer since that is the slowest season. \n"
   ]
  },
  {
   "cell_type": "markdown",
   "metadata": {},
   "source": [
    "[Back to Table of Contents](#back)"
   ]
  },
  {
   "cell_type": "markdown",
   "metadata": {},
   "source": [
    "## Dataset Citation\n",
    "\n",
    "Zee solver. (2023, October). Consumer Behavior and Shopping Habits Dataset, Version 1. Retrieved December 14, 2023 from [Kaggle](https://www.kaggle.com/datasets/zeesolver/consumer-behavior-and-shopping-habits-dataset/data)."
   ]
  },
  {
   "cell_type": "markdown",
   "metadata": {},
   "source": [
    "[Back to Table of Contents](#back)"
   ]
  }
 ],
 "metadata": {
  "kernelspec": {
   "display_name": "base",
   "language": "python",
   "name": "python3"
  },
  "language_info": {
   "codemirror_mode": {
    "name": "ipython",
    "version": 3
   },
   "file_extension": ".py",
   "mimetype": "text/x-python",
   "name": "python",
   "nbconvert_exporter": "python",
   "pygments_lexer": "ipython3",
   "version": "3.10.9"
  },
  "orig_nbformat": 4
 },
 "nbformat": 4,
 "nbformat_minor": 2
}
